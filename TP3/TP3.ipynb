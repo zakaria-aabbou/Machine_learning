{
 "cells": [
  {
   "cell_type": "markdown",
   "metadata": {},
   "source": [
    "<h1 style=\"text-align:center;\"> TP3 : Introduction à la classification </h1>"
   ]
  },
  {
   "cell_type": "markdown",
   "metadata": {},
   "source": [
    "### Importation de bibliothèques et chargement de données"
   ]
  },
  {
   "cell_type": "code",
   "execution_count": 1,
   "metadata": {},
   "outputs": [],
   "source": [
    "import numpy as np\n",
    "from sklearn import datasets\n",
    "import matplotlib.pyplot as plt\n",
    "\n",
    "iris = datasets.load_iris()\n",
    "X = iris.data\n",
    "Y = iris.target"
   ]
  },
  {
   "cell_type": "markdown",
   "metadata": {},
   "source": [
    "## Plus Proche Voisin\n",
    "***\n",
    "\n",
    "<p>\n",
    "L’algorithme du Plus Proche Voisin est un algorithme très simple de classification qui\n",
    "repose sur le principe suivant : la classe de chaque donnée de test (à classer) doit être la\n",
    "classe de la donnée la plus proche (le plus similaire) parmi les données d’apprentissage.\n",
    "</p>\n",
    "\n",
    "Liste de fonctions utiles :\n",
    "\n",
    "- **metrics.pairwise.euclidean_distances :** calcule des distances entre données.\n",
    "- **argsort, argmin, argmax :** renvoie les indices des valeurs ordonnées, minimales et maximales.\n",
    "- **neighbors.KNeighborsClassifier :** l’algorithme des K Plus Proches Voisins de sklearn."
   ]
  },
  {
   "cell_type": "markdown",
   "metadata": {},
   "source": [
    "### 1. Créez une fonction PPV(X,Y) qui prend en entrée des données X et des étiquettes Y et qui renvoie une étiquette, pour chaque donnée, prédite à partir du plus proche voisin de cette donnée. Ici on prend chaque donnée, une par une, comme donnée de test et on considère toutes les autres comme données d’apprentissage. Cela nous permet de tester la puissance de notre algorithme selon une méthode de validation par validation croisée (cross validation) de type “leave one out”.\n",
    "\n",
    "Pour appliquer cette méthode, les étapes à suivre sont les suivantes :\n",
    "\n",
    "1. Charger les données\n",
    "2. Initialiser k au nombre de plus proches voisins choisi\n",
    "3. Pour chaque exemple dans les données:<br>\n",
    "3.1 Calculer la distance entre notre requête et l’observation itérative actuelle de la boucle depuis les données.<br>\n",
    "3.2 Ajouter la distance et l’indice de l’observation concernée à une collection ordonnée de données<br>\n",
    "4. Trier cette collection ordonnée contenant distances et indices de la plus petite distance à la plus grande (dans ordre croissant).\n",
    "5. Sélectionner les k premières entrées de la collection de données triées (équivalent aux k plus proches voisins)\n",
    "6. Obtenir les étiquettes des k entrées sélectionnées\n",
    "7. Si régression, retourner la moyenne des k étiquettes\n",
    "8. Si classification, retourner le mode (valeur la plus fréquente/commune) des k étiquettes"
   ]
  },
  {
   "cell_type": "code",
   "execution_count": 3,
   "metadata": {},
   "outputs": [
    {
     "data": {
      "text/plain": [
       "array([0., 0., 0., 0., 0., 0., 0., 0., 0., 0., 0., 0., 0., 0., 0., 0., 0.,\n",
       "       0., 0., 0., 0., 0., 0., 0., 0., 0., 0., 0., 0., 0., 0., 0., 0., 0.,\n",
       "       0., 0., 0., 0., 0., 0., 0., 0., 0., 0., 0., 0., 0., 0., 0., 0., 1.,\n",
       "       1., 1., 1., 1., 1., 1., 1., 1., 1., 1., 1., 1., 1., 1., 1., 1., 1.,\n",
       "       1., 1., 2., 1., 2., 1., 1., 1., 1., 1., 1., 1., 1., 1., 1., 2., 1.,\n",
       "       1., 1., 1., 1., 1., 1., 1., 1., 1., 1., 1., 1., 1., 1., 1., 2., 2.,\n",
       "       2., 2., 2., 2., 1., 2., 2., 2., 2., 2., 2., 2., 2., 2., 2., 2., 2.,\n",
       "       1., 2., 2., 2., 2., 2., 2., 2., 2., 2., 2., 2., 2., 2., 1., 2., 2.,\n",
       "       2., 2., 2., 2., 2., 2., 2., 2., 2., 2., 2., 2., 2., 2.])"
      ]
     },
     "execution_count": 3,
     "metadata": {},
     "output_type": "execute_result"
    }
   ],
   "source": [
    "from sklearn.metrics.pairwise import euclidean_distances\n",
    "\n",
    "def PPV(X,Y):\n",
    "    Yhat = np.zeros(len(X))\n",
    "    # Pour chaque observation des données\n",
    "    for index, x in enumerate(X):\n",
    "        # supprimer la variable des données d’apprentissage\n",
    "        X_train = np.delete(X, index, 0)\n",
    "        # supprimer la classe de la variable des données d’apprentissage\n",
    "        Y_train = np.delete(Y, index, 0)\n",
    "\n",
    "        # Calculer la distance entre notre requête et l'observation itérative actuelle\n",
    "        # de la boucle depuis les données et chaque donnees qui rest .\n",
    "        distance = euclidean_distances(X_train, [x])\n",
    "\n",
    "        # Sélectionner la classe des données les plus proches\n",
    "        min_dist_idx = np.argmin(distance)\n",
    "\n",
    "        Yhat[index] = Y_train[min_dist_idx]\n",
    "    \n",
    "    return Yhat\n",
    "\n",
    "PPV(X,Y)"
   ]
  },
  {
   "cell_type": "markdown",
   "metadata": {},
   "source": [
    "### 2. La fonction PPV calcule une étiquette prédite pour chaque donnée. Modifiez la fonction pour calculer et renvoyer l’erreur de prédiction : c’est à dire le pourcentage d’étiquettes mal prédites."
   ]
  },
  {
   "cell_type": "code",
   "execution_count": 12,
   "metadata": {},
   "outputs": [],
   "source": [
    "def error(Y, Yhat):\n",
    "    cmp = 0\n",
    "    for y, yh in zip(Y, Yhat):\n",
    "        if y != yh:\n",
    "            cmp += 1\n",
    "\n",
    "    erreur_en_pourcentage = float(cmp*100) / float(len(Y))\n",
    "    erreur = float(cmp) / float(len(Y))\n",
    "    return erreur_en_pourcentage"
   ]
  },
  {
   "cell_type": "code",
   "execution_count": 13,
   "metadata": {},
   "outputs": [
    {
     "data": {
      "text/plain": [
       "(4.0,\n",
       " array([0., 0., 0., 0., 0., 0., 0., 0., 0., 0., 0., 0., 0., 0., 0., 0., 0.,\n",
       "        0., 0., 0., 0., 0., 0., 0., 0., 0., 0., 0., 0., 0., 0., 0., 0., 0.,\n",
       "        0., 0., 0., 0., 0., 0., 0., 0., 0., 0., 0., 0., 0., 0., 0., 0., 1.,\n",
       "        1., 1., 1., 1., 1., 1., 1., 1., 1., 1., 1., 1., 1., 1., 1., 1., 1.,\n",
       "        1., 1., 2., 1., 2., 1., 1., 1., 1., 1., 1., 1., 1., 1., 1., 2., 1.,\n",
       "        1., 1., 1., 1., 1., 1., 1., 1., 1., 1., 1., 1., 1., 1., 1., 2., 2.,\n",
       "        2., 2., 2., 2., 1., 2., 2., 2., 2., 2., 2., 2., 2., 2., 2., 2., 2.,\n",
       "        1., 2., 2., 2., 2., 2., 2., 2., 2., 2., 2., 2., 2., 2., 1., 2., 2.,\n",
       "        2., 2., 2., 2., 2., 2., 2., 2., 2., 2., 2., 2., 2., 2.]))"
      ]
     },
     "execution_count": 13,
     "metadata": {},
     "output_type": "execute_result"
    }
   ],
   "source": [
    "def PPV(X, Y):\n",
    "    Yhat = np.zeros(len(X))\n",
    "    # Pour chaque observation des données\n",
    "    for index, x in enumerate(X):\n",
    "        # supprimer la variable des données d’apprentissage\n",
    "        X_train = np.delete(X, index, 0)\n",
    "        # supprimer la classe de la variable des données d’apprentissage\n",
    "        Y_train = np.delete(Y, index, 0)\n",
    "\n",
    "        # Calculer la distance entre notre requête et l'observation itérative actuelle\n",
    "        # de la boucle depuis les données et chaque donnees qui rest .\n",
    "        distance = euclidean_distances(X_train, [x])\n",
    "\n",
    "        # Sélectionner la classe des données les plus proches\n",
    "        min_dist_idx = np.argmin(distance)\n",
    "\n",
    "        Yhat[index] = Y_train[min_dist_idx]\n",
    "        erreur = error(Y, Yhat)\n",
    "\n",
    "    return erreur, Yhat\n",
    "PPV(X,Y)"
   ]
  },
  {
   "cell_type": "markdown",
   "metadata": {},
   "source": [
    "### 3. Testez sur les données Iris."
   ]
  },
  {
   "cell_type": "code",
   "execution_count": 17,
   "metadata": {},
   "outputs": [
    {
     "name": "stdout",
     "output_type": "stream",
     "text": [
      "le pourcentage d’étiquettes mal prédites pour les données Iris est :  4.0 %\n"
     ]
    }
   ],
   "source": [
    "print('le pourcentage d’étiquettes mal prédites pour les données Iris est : ',PPV(X,Y)[0],'%')"
   ]
  },
  {
   "cell_type": "markdown",
   "metadata": {},
   "source": [
    "### 4. Testez la fonction des K Plus Proches Voisins de sklearn (avec ici K = 1). Les résultats sont-ils différents ? Testez avec d’autres valeurs de K."
   ]
  },
  {
   "cell_type": "code",
   "execution_count": 28,
   "metadata": {},
   "outputs": [
    {
     "name": "stderr",
     "output_type": "stream",
     "text": [
      "100%|█████████████████████████████████████████████████████████████████████████████████| 49/49 [00:00<00:00, 324.71it/s]\n"
     ]
    },
    {
     "data": {
      "image/png": "[encoded data removed]",
      "text/plain": [
       "<Figure size 432x288 with 1 Axes>"
      ]
     },
     "metadata": {
      "needs_background": "light"
     },
     "output_type": "display_data"
    },
    {
     "name": "stdout",
     "output_type": "stream",
     "text": [
      "La meilleure précision était  1.0 avec k= 1\n"
     ]
    }
   ],
   "source": [
    "from sklearn.model_selection import train_test_split\n",
    "import random\n",
    "from tqdm import tqdm\n",
    "from sklearn.neighbors import KNeighborsClassifier\n",
    "\n",
    "def bestK_KNN(X_train, y_train, X_test, y_test):\n",
    "    Ks = 50\n",
    "    mean_acc = np.zeros((Ks-1))\n",
    "    for n in tqdm(range(1,Ks)):\n",
    "        neigh = KNeighborsClassifier(n_neighbors = n).fit(X_train,y_train)\n",
    "        mean_acc[n-1] = neigh.score(X_test, y_test)\n",
    "\n",
    "    plt.plot(range(1,Ks),mean_acc,'g')\n",
    "    plt.legend(('Accuracy ', '+/- 3xstd'))\n",
    "    plt.ylabel('Accuracy ')\n",
    "    plt.xlabel('Nombre de voisins (K)')\n",
    "    plt.tight_layout()\n",
    "    plt.show()\n",
    "    print( \"La meilleure précision était \", mean_acc.max(), \"avec k=\", mean_acc.argmax()+1)\n",
    "\n",
    "X_train, X_test, y_train, y_test = train_test_split(X, Y, test_size=0.2, random_state=random.seed())\n",
    "\n",
    "bestK_KNN(X_train, y_train, X_test, y_test)"
   ]
  },
  {
   "cell_type": "code",
   "execution_count": 34,
   "metadata": {},
   "outputs": [
    {
     "name": "stdout",
     "output_type": "stream",
     "text": [
      "le pourcentage d’étiquettes mal prédites pour les données Iris avec K=1 est :  4.0 %\n"
     ]
    }
   ],
   "source": [
    "def KNN(X, Y, k):\n",
    "    KNN = KNeighborsClassifier(n_neighbors = k)\n",
    "\n",
    "    Yhat = []\n",
    "    for index, x in enumerate(X):\n",
    "        X_train = np.delete(X, index, 0)\n",
    "        Y_train = np.delete(Y, index, 0)\n",
    "\n",
    "        KNN.fit(X_train, Y_train)\n",
    "        \n",
    "        Yhat.append(KNN.predict( [x] ))\n",
    "\n",
    "    return error(Y, Yhat), Yhat\n",
    "\n",
    "print('le pourcentage d’étiquettes mal prédites pour les données Iris avec K=1 est : ',KNN(X, Y, 1)[0],'%')"
   ]
  },
  {
   "cell_type": "code",
   "execution_count": 32,
   "metadata": {},
   "outputs": [
    {
     "data": {
      "image/png": "[encoded data removed]",
      "text/plain": [
       "<Figure size 432x288 with 1 Axes>"
      ]
     },
     "metadata": {
      "needs_background": "light"
     },
     "output_type": "display_data"
    },
    {
     "name": "stdout",
     "output_type": "stream",
     "text": [
      "L'erreur minimale était 2.0 % avec k= 19\n"
     ]
    }
   ],
   "source": [
    "Ks = 40\n",
    "errors = []\n",
    "for i in range(1,Ks):\n",
    "    errors.append( KNN(X,Y,i)[0] )\n",
    "\n",
    "plt.plot(range(1,Ks), errors,'g')\n",
    "plt.legend(('Accuracy ', '+/- 3xstd'))\n",
    "plt.ylabel('Accuracy ')\n",
    "plt.xlabel('Nombre de voisins (K)')\n",
    "plt.tight_layout()\n",
    "plt.show()\n",
    "print( \"L'erreur minimale était\", np.min(errors), \"% avec k=\", np.argmin(errors)+1) "
   ]
  },
  {
   "cell_type": "markdown",
   "metadata": {},
   "source": [
    "### 5. BONUS : Modifiez la fonction PPV pour qu’elle prenne en entrée un nombre K de voisins (au lieu de 1). La classe prédite sera alors la classe majoritaire parmi les K voisins."
   ]
  },
  {
   "cell_type": "code",
   "execution_count": 37,
   "metadata": {},
   "outputs": [
    {
     "data": {
      "text/plain": [
       "2.0"
      ]
     },
     "execution_count": 37,
     "metadata": {},
     "output_type": "execute_result"
    }
   ],
   "source": [
    "from sklearn.metrics.pairwise import euclidean_distances\n",
    "from scipy import stats\n",
    "\n",
    "def PPV2(X, Y, k=10):\n",
    "    Yhat = np.zeros(len(X))\n",
    "    # 3. Pour chaque observation des données\n",
    "    for index, x in enumerate(X):\n",
    "        #delete variable from training data\n",
    "        X_train = np.delete(X, index, 0)\n",
    "        #delete variable classe name from training targets\n",
    "        Y_train = np.delete(Y, index, 0)\n",
    "\n",
    "        # 3.Calculer la distance entre notre requête et l'observation itérative actuelle\n",
    "        # de la boucle depuis les données et chaque donnees qui rest .\n",
    "        distance = np.array(euclidean_distances(X_train, [x]).flatten())\n",
    "\n",
    "        # 4. Trier cette collection ordonnée contenant distances et indices de\n",
    "        # la plus petite distance à la plus grande (dans l'ordre croissant)\n",
    "        sort_dist_id = distance.argsort()\n",
    "\n",
    "        # 5. Sélectionner les k premières entrées de la précédente collection de données : sort_dist_id[:k]\n",
    "        # 6. Obtenir les étiquettes des k entrées sélectionnées : [ Y_train[i] for i in sort_dist_id[:k] ]\n",
    "        Yhat[index] = stats.mode( [ Y_train[i] for i in sort_dist_id[:k] ] )[0][0]\n",
    "            \n",
    "    return error(Y,Yhat), Yhat\n",
    "\n",
    "PPV2(X,Y)[0]\n",
    "\n"
   ]
  },
  {
   "cell_type": "code",
   "execution_count": 40,
   "metadata": {},
   "outputs": [
    {
     "data": {
      "image/png": "[encoded data removed]",
      "text/plain": [
       "<Figure size 432x288 with 1 Axes>"
      ]
     },
     "metadata": {
      "needs_background": "light"
     },
     "output_type": "display_data"
    },
    {
     "name": "stdout",
     "output_type": "stream",
     "text": [
      "L'erreur minimale était  2.0 avec k= 10\n"
     ]
    },
    {
     "data": {
      "text/plain": [
       "5.333333333333333"
      ]
     },
     "execution_count": 40,
     "metadata": {},
     "output_type": "execute_result"
    }
   ],
   "source": [
    "errors = []\n",
    "Ks = 40\n",
    "for i in range(1, Ks):\n",
    "    er = PPV2(X, Y, i)[0]\n",
    "    errors.append(er)\n",
    "\n",
    "plt.plot(range(1, Ks), errors,'g')\n",
    "plt.legend(('Accuracy ', '+/- 3xstd'))\n",
    "plt.ylabel('Accuracy ')\n",
    "plt.xlabel('Nombre de voisins (K)')\n",
    "plt.tight_layout()\n",
    "plt.show()\n",
    "print( \"L'erreur minimale était \", np.min(errors), \"avec k=\", np.argmin(errors)+1) \n",
    "\n",
    "PPV2(X, Y, 2)[0]"
   ]
  },
  {
   "cell_type": "code",
   "execution_count": 41,
   "metadata": {},
   "outputs": [
    {
     "data": {
      "image/png": "[encoded data removed]",
      "text/plain": [
       "<Figure size 432x288 with 1 Axes>"
      ]
     },
     "metadata": {
      "needs_background": "light"
     },
     "output_type": "display_data"
    }
   ],
   "source": [
    "Ks = 40\n",
    "errors1 = []\n",
    "errors2 = []\n",
    "for i in range(1, Ks):\n",
    "    errors1.append( PPV2(X, Y, i)[0] )\n",
    "    errors2.append( KNN(X, Y, i)[0] )\n",
    "\n",
    "plt.plot(range(1, Ks), errors1,'g')\n",
    "plt.plot(range(1, Ks), errors2,'r')\n",
    "plt.legend(('PPV Accuracy', 'KNN Accuracy '))\n",
    "\n",
    "plt.ylabel('Accuracy ')\n",
    "plt.xlabel('Nombre de voisins (K)')\n",
    "plt.tight_layout()\n",
    "plt.show()"
   ]
  },
  {
   "cell_type": "markdown",
   "metadata": {},
   "source": [
    "## Classifieur Bayesien Naïf\n",
    "***\n",
    "\n",
    "<p>\n",
    "L’algorithme du Classifieur Bayesien Naïf est un algorithme de classification basé sur le calcul de probabilité d’appartenance à chaque classe. C’est à dire que la donnée de test (à classer) sera affectée à la classe la plus probable. Les probabilités d’appartenances à chaque classe sont calculés à partir des données d’apprentissage de la façon suivante :\n",
    "</p>\n",
    "\n",
    "<p style=\"text-align:center;\"> <strong> classe(x) = argmax wk { |^| P(xi/wk)P(wk) } </strong> </p>\n",
    "\n",
    "<p>\n",
    "Ici P(Wk) est la probabilité à priori d’appartenir à la classe k. autrement dit c’est la probabilité d’obtenir une donnée de la classe k si on tire une donnée au hasard. P(xi=Wk) est la probabilité qu’une donnée x ait la valeur xi pour la variable i, si on connaît sa classe !k. Pour chaque classe k, cette probabilité peut se calculer comme 1 􀀀 dxk = P dxb, avec dxk la distance entre la donnée x et le barycentre de k (c’est à dire la moyenne de la classe), et P dxb la somme des distances entre cette donnée et chaque barycentre de chaque classe.\n",
    "</p>\n",
    "\n",
    "Liste de fonctions utiles :\n",
    "\n",
    "- **mean, sum :** calculent la moyenne et la somme d’une liste de valeur.\n",
    "- **unique :** renvoie la liste des valeurs d’une liste, mais sans répétitions de valeurs.\n",
    "- **asarray :** transforme une liste en vecteur.\n",
    "- **nom_d_un_vecteur.prod :** fait le produit des valeurs d’un vecteur.\n",
    "- **naive_bayes.GaussianNB :** l’algorithme du Classifieur Bayesien Naïf de sklearn.\n",
    "\n"
   ]
  },
  {
   "cell_type": "markdown",
   "metadata": {},
   "source": [
    "### 1. Créez une fonction CBN(X,Y) qui prend en entrée des données X et des étiquettes Y et qui renvoie une étiquette, pour chaque donnée, prédite à partir de la classe la plus probable selon l’équation (1). Ici encore, on prend chaque donnée, une par une, comme donnée de test et on considère toutes les données comme données d’apprentissage. Il est conseillé de calculer d’abord les barycentres et les probabilités à priori P(!k) pour chaque classe, puis de calculer les probabilités conditionnelles P(xi=!k) pour chaque classe et chaque variable"
   ]
  },
  {
   "cell_type": "code",
   "execution_count": 57,
   "metadata": {},
   "outputs": [],
   "source": [
    "\n",
    "def CBN(X, Y):\n",
    "    Yhat = []\n",
    "\n",
    "    for index, x in enumerate(X):\n",
    "        X_train = np.delete(X, index, 0)\n",
    "        Y_train = np.delete(Y, index, 0)\n",
    "\n",
    "        proba_xk_sachant_wi = []\n",
    "        all_k_id = [ [ i for i, y in enumerate(Y_train) if y == k] for k in np.unique( Y_train ) ]\n",
    "\n",
    "        barycentre_b = [ np.mean( a = [ X_train[i] for i in ids ], axis = 0 )  for ids in all_k_id ]\n",
    "        # dist_x_b = [ abs(var - barycentre) for var , barycentre in zip(x, barycentre_b) ]\n",
    "        dist_x_b = np.absolute(np.array(x) - barycentre_b)\n",
    "        # print(dist_x_b)\n",
    "        sum_dist_x_b = np.sum( dist_x_b , axis = 0 )\n",
    "        # print(sum_dist_x_b)\n",
    "        # break\n",
    "        for k_id in all_k_id:\n",
    "            proba_classes = list( Y_train ).count( Y_train[k_id[0]] ) / float(len(X))\n",
    "            # print(proba_classes)\n",
    "            barycentre_k = np.mean( a = [ X_train[i] for i in k_id ], axis = 0 )\n",
    "            # print(barycentre_k)\n",
    "            # dist_x_k =  [ abs(var - barycentre) for var , barycentre in zip(x, barycentre_k) ]\n",
    "            dist_x_k = np.absolute(np.array(x) - barycentre_k)\n",
    "            # print(dist_x_k)\n",
    "            \n",
    "            proba_xi_sachant_wk = 1 - (dist_x_k  / sum_dist_x_b )\n",
    "            # print(proba_xi_sachant_wk)\n",
    "\n",
    "            produit = np.multiply(proba_xi_sachant_wk, proba_classes).prod()\n",
    "            proba_xk_sachant_wi.append( produit )\n",
    "\n",
    "        prod_max_id = np.asarray(proba_xk_sachant_wi).argmax()\n",
    "        # print(nom_d_un_vecteur.prod())\n",
    "         \n",
    "        Yhat.append( Y_train[ all_k_id[prod_max_id][0] ] )\n",
    "        # break\n",
    "    return Yhat"
   ]
  },
  {
   "cell_type": "markdown",
   "metadata": {},
   "source": [
    "### 2. La fonction CBN calcule une étiquette prédite pour chaque donnée. Modifiez la fonction pour calculer et renvoyer l’erreur de prédiction : c’est à dire le pourcentage d’étiquettes mal prédites. Testez sur les données Iris."
   ]
  },
  {
   "cell_type": "code",
   "execution_count": 58,
   "metadata": {},
   "outputs": [
    {
     "name": "stdout",
     "output_type": "stream",
     "text": [
      "le pourcentage d’étiquettes mal prédites est :  14.666666666666666 %\n"
     ]
    }
   ],
   "source": [
    "Yhat = CBN(X, Y)\n",
    "print('le pourcentage d’étiquettes mal prédites est : ',error(Y, Yhat),'%')\n"
   ]
  },
  {
   "cell_type": "code",
   "execution_count": 59,
   "metadata": {},
   "outputs": [
    {
     "name": "stdout",
     "output_type": "stream",
     "text": [
      "              precision    recall  f1-score   support\n",
      "\n",
      "           0       1.00      1.00      1.00        50\n",
      "           1       0.76      0.82      0.79        50\n",
      "           2       0.80      0.74      0.77        50\n",
      "\n",
      "    accuracy                           0.85       150\n",
      "   macro avg       0.85      0.85      0.85       150\n",
      "weighted avg       0.85      0.85      0.85       150\n",
      "\n",
      "La matrice de confusion:\n",
      "[[50  0  0]\n",
      " [ 0 41  9]\n",
      " [ 0 13 37]]\n"
     ]
    }
   ],
   "source": [
    "from sklearn import metrics\n",
    "print(metrics.classification_report( Y, Yhat))\n",
    "print('La matrice de confusion:')\n",
    "print(metrics.confusion_matrix( Y, Yhat))"
   ]
  },
  {
   "cell_type": "markdown",
   "metadata": {},
   "source": [
    "### 3. Testez la fonction du Classifieur Bayesien Naïf inclut dans sklearn. Cette fonction utilise une distribution Gaussienne au lieu des distances aux barycentres. Les résultats sont-ils différents ?"
   ]
  },
  {
   "cell_type": "code",
   "execution_count": 60,
   "metadata": {},
   "outputs": [
    {
     "name": "stdout",
     "output_type": "stream",
     "text": [
      "le pourcentage d’étiquettes mal prédites est :  4.666666666666667 %\n"
     ]
    }
   ],
   "source": [
    "from sklearn.naive_bayes import GaussianNB\n",
    "\n",
    "model = GaussianNB()\n",
    "Yhat = []\n",
    "for index, x in enumerate(X):\n",
    "    X_train = np.delete(X, index, 0)\n",
    "    Y_train = np.delete(Y, index, 0)\n",
    "\n",
    "    model.fit( X_train, Y_train)\n",
    "    Yhat.append( model.predict([x]) )\n",
    "\n",
    "print('le pourcentage d’étiquettes mal prédites est : ',error(Y, Yhat),'%')"
   ]
  },
  {
   "cell_type": "code",
   "execution_count": 61,
   "metadata": {},
   "outputs": [
    {
     "name": "stdout",
     "output_type": "stream",
     "text": [
      "              precision    recall  f1-score   support\n",
      "\n",
      "           0       1.00      1.00      1.00        50\n",
      "           1       0.92      0.94      0.93        50\n",
      "           2       0.94      0.92      0.93        50\n",
      "\n",
      "    accuracy                           0.95       150\n",
      "   macro avg       0.95      0.95      0.95       150\n",
      "weighted avg       0.95      0.95      0.95       150\n",
      "\n",
      "La matrice de confusion:\n",
      "[[50  0  0]\n",
      " [ 0 47  3]\n",
      " [ 0  4 46]]\n"
     ]
    }
   ],
   "source": [
    "from sklearn import metrics\n",
    "print(metrics.classification_report( Y, Yhat))\n",
    "print('La matrice de confusion:')\n",
    "print(metrics.confusion_matrix( Y, Yhat))"
   ]
  },
  {
   "cell_type": "markdown",
   "metadata": {},
   "source": [
    "Nous remarquons que Les résultats sont différents, avec la fonction CBN nous avons obtenus une erreur de 14.66 % et avec la fonction du Classifieur Bayesien Naïf inclut dans sklearn nous avons obtenus une erreur de 4.66 %"
   ]
  },
  {
   "cell_type": "markdown",
   "metadata": {},
   "source": [
    "***\n",
    "### Links\n",
    "- [E-mail :](mailto:zakaria.abbou199434@gmail.com) zakaria.abbou199434@gmail.com\n",
    "- [GitHub :](https://github.com/ZakariaAABBOU) github.com/ZakariaAABBOU\n",
    "- [Linkedin :](https://www.linkedin.com/in/zakaria-aabbou/) linkedin.com/in/zakaria-aabbou/"
   ]
  },
  {
   "cell_type": "code",
   "execution_count": null,
   "metadata": {},
   "outputs": [],
   "source": []
  }
 ],
 "metadata": {
  "file_extension": ".py",
  "kernelspec": {
   "display_name": "Python 3",
   "language": "python",
   "name": "python3"
  },
  "language_info": {
   "codemirror_mode": {
    "name": "ipython",
    "version": 3
   },
   "file_extension": ".py",
   "mimetype": "text/x-python",
   "name": "python",
   "nbconvert_exporter": "python",
   "pygments_lexer": "ipython3",
   "version": "3.7.4"
  },
  "mimetype": "text/x-python",
  "name": "python",
  "npconvert_exporter": "python",
  "pygments_lexer": "ipython3",
  "version": 3
 },
 "nbformat": 4,
 "nbformat_minor": 2
}
