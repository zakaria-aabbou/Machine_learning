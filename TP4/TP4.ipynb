{
 "cells": [
  {
   "cell_type": "markdown",
   "metadata": {},
   "source": [
    "<h1 style=\"text-align:center;\"> TP4 : Clustering de données </h1>"
   ]
  },
  {
   "cell_type": "markdown",
   "metadata": {},
   "source": [
    "Le but de ce TP est de créer une fonction Python capable de détecter des clusters de données\n",
    "homogènes dans un ensemble de données, puis d’analyser un jeu de données réelles."
   ]
  },
  {
   "cell_type": "markdown",
   "metadata": {},
   "source": [
    "# A) K-Moyennes :"
   ]
  },
  {
   "cell_type": "markdown",
   "metadata": {},
   "source": [
    "### 1. Écrivez en python l’algorithme des K-Moyennes sous la forme d’une fonction. Vous trouverez une description de l’algorithme dans le cours ou sur internet. La fonction prend en entrée deux paramètres : la matrice des données et le nombre de clusters que l’on souhaite. Testez sur les données Iris ou sur des données que vous générez. Comparez avec la fonction Kmeans de sklearn."
   ]
  },
  {
   "cell_type": "code",
   "execution_count": 39,
   "metadata": {},
   "outputs": [],
   "source": [
    "import numpy as np\n",
    "import matplotlib.pyplot as plt\n",
    "from sklearn import datasets, metrics\n",
    "from sklearn.metrics.pairwise import euclidean_distances\n",
    "\n",
    "iris = datasets.load_iris()\n",
    "X = iris.data\n",
    "Y = iris.target"
   ]
  },
  {
   "cell_type": "code",
   "execution_count": 40,
   "metadata": {},
   "outputs": [
    {
     "data": {
      "text/plain": [
       "[0,\n",
       " 0,\n",
       " 0,\n",
       " 0,\n",
       " 0,\n",
       " 0,\n",
       " 0,\n",
       " 0,\n",
       " 0,\n",
       " 0,\n",
       " 0,\n",
       " 0,\n",
       " 0,\n",
       " 0,\n",
       " 0,\n",
       " 0,\n",
       " 0,\n",
       " 0,\n",
       " 0,\n",
       " 0,\n",
       " 0,\n",
       " 0,\n",
       " 0,\n",
       " 0,\n",
       " 0,\n",
       " 0,\n",
       " 0,\n",
       " 0,\n",
       " 0,\n",
       " 0,\n",
       " 0,\n",
       " 0,\n",
       " 0,\n",
       " 0,\n",
       " 0,\n",
       " 0,\n",
       " 0,\n",
       " 0,\n",
       " 0,\n",
       " 0,\n",
       " 0,\n",
       " 0,\n",
       " 0,\n",
       " 0,\n",
       " 0,\n",
       " 0,\n",
       " 0,\n",
       " 0,\n",
       " 0,\n",
       " 0,\n",
       " 1,\n",
       " 2,\n",
       " 1,\n",
       " 2,\n",
       " 2,\n",
       " 2,\n",
       " 2,\n",
       " 2,\n",
       " 2,\n",
       " 2,\n",
       " 2,\n",
       " 2,\n",
       " 2,\n",
       " 2,\n",
       " 2,\n",
       " 2,\n",
       " 2,\n",
       " 2,\n",
       " 2,\n",
       " 2,\n",
       " 2,\n",
       " 2,\n",
       " 2,\n",
       " 2,\n",
       " 2,\n",
       " 2,\n",
       " 2,\n",
       " 1,\n",
       " 2,\n",
       " 2,\n",
       " 2,\n",
       " 2,\n",
       " 2,\n",
       " 2,\n",
       " 2,\n",
       " 2,\n",
       " 2,\n",
       " 2,\n",
       " 2,\n",
       " 2,\n",
       " 2,\n",
       " 2,\n",
       " 2,\n",
       " 2,\n",
       " 2,\n",
       " 2,\n",
       " 2,\n",
       " 2,\n",
       " 2,\n",
       " 2,\n",
       " 1,\n",
       " 2,\n",
       " 1,\n",
       " 1,\n",
       " 1,\n",
       " 1,\n",
       " 2,\n",
       " 1,\n",
       " 1,\n",
       " 1,\n",
       " 1,\n",
       " 1,\n",
       " 1,\n",
       " 2,\n",
       " 2,\n",
       " 1,\n",
       " 1,\n",
       " 1,\n",
       " 1,\n",
       " 2,\n",
       " 1,\n",
       " 2,\n",
       " 1,\n",
       " 2,\n",
       " 1,\n",
       " 1,\n",
       " 2,\n",
       " 2,\n",
       " 1,\n",
       " 1,\n",
       " 1,\n",
       " 1,\n",
       " 1,\n",
       " 2,\n",
       " 1,\n",
       " 1,\n",
       " 1,\n",
       " 1,\n",
       " 2,\n",
       " 1,\n",
       " 1,\n",
       " 1,\n",
       " 2,\n",
       " 1,\n",
       " 1,\n",
       " 1,\n",
       " 2,\n",
       " 1,\n",
       " 1,\n",
       " 2]"
      ]
     },
     "execution_count": 40,
     "metadata": {},
     "output_type": "execute_result"
    }
   ],
   "source": [
    "import random\n",
    "\n",
    "def dist(x,y):\n",
    "    return [[ np.sqrt(np.sum((xi-yi)**2)) for yi in y] for xi in x]\n",
    "\n",
    "def K_Moyennes(X, K):\n",
    "    try:\n",
    "        k_centroids = random.choices(X, k=K)\n",
    "        cluster_labels = []\n",
    "        while True:\n",
    "            # distance = euclidean_distances(X, k_centroids)\n",
    "            distance = dist(X, k_centroids)\n",
    "            cluster_labels = [np.argmin(dist) for dist in distance]\n",
    "            distance_matrix = [ [ x for i, x in enumerate(X) if cluster_labels[i] == k ] for k in range(K) ]\n",
    "\n",
    "            for X_K in distance_matrix:\n",
    "                if not X_K :\n",
    "                    raise Exception(\"\\nError\")\n",
    "                    \n",
    "            new_k_centroids = [ np.mean( a = X_K, axis = 0 )  for X_K in distance_matrix ]\n",
    "\n",
    "            if np.array_equal(new_k_centroids, k_centroids):\n",
    "                break\n",
    "            else :\n",
    "                k_centroids = new_k_centroids\n",
    "        return cluster_labels\n",
    "    except:\n",
    "        return K_Moyennes(X, K)\n",
    "\n",
    "K_Moyennes(X, 3)"
   ]
  },
  {
   "cell_type": "code",
   "execution_count": 41,
   "metadata": {},
   "outputs": [
    {
     "data": {
      "text/plain": [
       "array([0, 0, 0, 0, 0, 0, 0, 0, 0, 0, 0, 0, 0, 0, 0, 0, 0, 0, 0, 0, 0, 0,\n",
       "       0, 0, 0, 0, 0, 0, 0, 0, 0, 0, 0, 0, 0, 0, 0, 0, 0, 0, 0, 0, 0, 0,\n",
       "       0, 0, 0, 0, 0, 0, 1, 1, 2, 1, 1, 1, 1, 1, 1, 1, 1, 1, 1, 1, 1, 1,\n",
       "       1, 1, 1, 1, 1, 1, 1, 1, 1, 1, 1, 2, 1, 1, 1, 1, 1, 1, 1, 1, 1, 1,\n",
       "       1, 1, 1, 1, 1, 1, 1, 1, 1, 1, 1, 1, 2, 1, 2, 2, 2, 2, 1, 2, 2, 2,\n",
       "       2, 2, 2, 1, 1, 2, 2, 2, 2, 1, 2, 1, 2, 1, 2, 2, 1, 1, 2, 2, 2, 2,\n",
       "       2, 1, 2, 2, 2, 2, 1, 2, 2, 2, 1, 2, 2, 2, 1, 2, 2, 1])"
      ]
     },
     "execution_count": 41,
     "metadata": {},
     "output_type": "execute_result"
    }
   ],
   "source": [
    "from sklearn.cluster import KMeans\n",
    "kmeans = KMeans(n_clusters=3)\n",
    "kmeans.fit_predict(X)"
   ]
  },
  {
   "cell_type": "markdown",
   "metadata": {},
   "source": [
    "### 2. Expérimenter l’instabilité due à l’initialisation : les centres des clusters étant choisis au hasard lors de l’initialisation, le résultat obtenu peut varier d’une exécution à l’autre. Vérifiez que c’est le cas."
   ]
  },
  {
   "cell_type": "code",
   "execution_count": 42,
   "metadata": {},
   "outputs": [
    {
     "data": {
      "text/plain": [
       "<matplotlib.collections.PathCollection at 0x1ad04eaf888>"
      ]
     },
     "execution_count": 42,
     "metadata": {},
     "output_type": "execute_result"
    },
    {
     "data": {
      "image/png": "[encoded data removed]",
      "text/plain": [
       "<Figure size 432x288 with 1 Axes>"
      ]
     },
     "metadata": {
      "needs_background": "light"
     },
     "output_type": "display_data"
    }
   ],
   "source": [
    "plt.scatter(X[:,2],X[:,3], c=K_Moyennes(X, 3), cmap='rainbow')"
   ]
  },
  {
   "cell_type": "code",
   "execution_count": 44,
   "metadata": {},
   "outputs": [
    {
     "data": {
      "text/plain": [
       "<matplotlib.collections.PathCollection at 0x1ad04f7c348>"
      ]
     },
     "execution_count": 44,
     "metadata": {},
     "output_type": "execute_result"
    },
    {
     "data": {
      "image/png": "[encoded data removed]",
      "text/plain": [
       "<Figure size 432x288 with 1 Axes>"
      ]
     },
     "metadata": {
      "needs_background": "light"
     },
     "output_type": "display_data"
    }
   ],
   "source": [
    "plt.scatter(X[:,2],X[:,3], c=K_Moyennes(X, 3), cmap='rainbow')"
   ]
  },
  {
   "cell_type": "markdown",
   "metadata": {},
   "source": [
    "### 3. Utiliser l’indice de Silhouette (qui est dans le package sklearn) pour stabiliser les résultats et sélectionner automatiquement le nombre de groupes. Pour ce faire, créez un script qui applique K-moyenne sur les données pour différents nombres de clusters allant de 2 à 10, 10 fois pour chaque nombre de clusters (soit 90 fois en tout) et qui renvoie la solution ayant le meilleur score de Silhouette."
   ]
  },
  {
   "cell_type": "code",
   "execution_count": 47,
   "metadata": {},
   "outputs": [
    {
     "name": "stderr",
     "output_type": "stream",
     "text": [
      "100%|████████████████████████████████████████████████████████████████████████████████████| 9/9 [00:11<00:00,  1.26s/it]\n"
     ]
    },
    {
     "name": "stdout",
     "output_type": "stream",
     "text": [
      "\n",
      " Le meilleur score de Silhouette pour 90 iteration est :  0.6810461692117459 Avec k =  2\n"
     ]
    }
   ],
   "source": [
    "from tqdm import tqdm\n",
    "scores = []\n",
    "for k in tqdm(range(2,11)):\n",
    "\n",
    "    for i in range(10):\n",
    "        cluster_labels = K_Moyennes(X, k)\n",
    "        scores.append( metrics.silhouette_score(X, cluster_labels) )\n",
    "\n",
    "print('\\n Le meilleur score de Silhouette pour 90 iteration est : ', np.max(scores), \"Avec k = \", int(np.argmax(scores) / 10) + 2)"
   ]
  },
  {
   "cell_type": "markdown",
   "metadata": {},
   "source": [
    "### 4. Utiliser une ACP (fonction PCA de sklearn) pour vérifier visuellement la cohérence des groupes obtenus. Vérifier aussi visuellement la séparabilité et la compacité de ces groupes à l’aide d’une ADL (fonction LinearDiscriminantAnalysis de sklearn)."
   ]
  },
  {
   "cell_type": "code",
   "execution_count": 48,
   "metadata": {},
   "outputs": [
    {
     "data": {
      "image/png": "[encoded data removed]",
      "text/plain": [
       "<Figure size 1080x360 with 2 Axes>"
      ]
     },
     "metadata": {
      "needs_background": "light"
     },
     "output_type": "display_data"
    }
   ],
   "source": [
    "from sklearn.decomposition import PCA\n",
    "from sklearn.discriminant_analysis import LinearDiscriminantAnalysis as LDA\n",
    "\n",
    "fig, (ax1, ax2) = plt.subplots(1, 2)\n",
    "fig.set_size_inches(15, 5)\n",
    "\n",
    "cluster_labels = K_Moyennes(X, 3)\n",
    "\n",
    "PCA = PCA(n_components=2)\n",
    "dataPCA = PCA.fit_transform(X)\n",
    "\n",
    "plt.subplot(1, 2, 1)\n",
    "plt.scatter(dataPCA[:,0], dataPCA[:,1], c=cluster_labels)\n",
    "plt.title('PCA visualisation')\n",
    "\n",
    "\n",
    "LDA = LDA(n_components=2)\n",
    "dataLDA = LDA.fit(X, cluster_labels).transform(X)\n",
    "\n",
    "plt.subplot(1, 2, 2)\n",
    "plt.title('LDA visualisation')\n",
    "plt.scatter(dataLDA[:, 0], dataLDA[:, 1], c=cluster_labels, cmap='viridis')\n",
    "\n",
    "plt.show()\n"
   ]
  },
  {
   "cell_type": "markdown",
   "metadata": {},
   "source": [
    "####  Quelle est la différence entre les deux méthodes ?\n",
    "\n",
    "<p>\n",
    "Le LDA et le PCA sont des techniques de transformation linéaire: le LDA est un supervisé tandis que le PCA non supervisé - le PCA ignore les étiquettes de classe.\n",
    "\n",
    "Nous pouvons imaginer l'ACP comme une technique qui trouve les directions de la variance maximale.\n",
    "(L'ACP a tendance à entraîner de meilleurs résultats de classification dans une tâche de reconnaissance d'image si le nombre d'échantillons pour une classe donnée était relativement faible.)\n",
    "\n",
    "Contrairement à PCA, LDA tente de trouver un sous-espace de fonctionnalités qui maximise la séparabilité des classes.\n",
    "LDA fait des hypothèses sur les classes normalement distribuées et les covariances de classe égales.\n",
    "</p>"
   ]
  },
  {
   "cell_type": "markdown",
   "metadata": {},
   "source": [
    "## B) Analyse des données « choix projet » :\n",
    "<p>\n",
    "Les données choixprojetstab.csv contiennent des données anonymisées de voeux faits par les\n",
    "étudiant·e·s du master 2 pour des projets à réaliser en binômes. Chaque étudiant·e a fait des voeux\n",
    "sur les differents projets en leur donnant une mention très bien, bien ou jamais. Les projets non\n",
    "mentionnés peuvent être considérés comme « moyens » et on peut dire que très bien = 3, bien = 2,\n",
    "moyens = 1, jamais = 0. L’objectif est de former des clusters d’étudiant·e·s ayant faits des choix\n",
    "similaires.\n",
    "</P>\n",
    "\n",
    "***\n",
    "\n",
    "### 1. Utilisez le package csv (ou l’importation de variable de Spyder) pour lire le fichier et remplir deux variables : la liste des codes « C » représentant les étudiant (première colonne) et la matrice « M » des données (tout sauf la première ligne et la première colonne). La matrice M doit être de type array du package numpy. Faites attentions à ce que les valeurs dans M soient bien numériques (1, 2, 3) et non textuelle (‘1’, ‘2’, ‘3’). Vous pouvez utiliser la méthode astype de numpy en cas de besoin."
   ]
  },
  {
   "cell_type": "code",
   "execution_count": 51,
   "metadata": {},
   "outputs": [
    {
     "name": "stdout",
     "output_type": "stream",
     "text": [
      "(71, 80) \n",
      " [[1 1 1 ... 1 1 3]\n",
      " [1 1 1 ... 1 1 1]\n",
      " [0 0 0 ... 1 0 0]\n",
      " ...\n",
      " [1 1 1 ... 1 0 2]\n",
      " [1 1 0 ... 1 1 1]\n",
      " [1 1 1 ... 0 1 1]]\n"
     ]
    }
   ],
   "source": [
    "import csv\n",
    "import numpy as np\n",
    "with open('choixprojetstab.csv', newline='', encoding='utf-8') as csv_file:\n",
    "    csv_reader = csv.reader(csv_file, delimiter=';')\n",
    "    rows = np.asarray([row for row in csv_reader])\n",
    "    C = np.array( rows[1:,0] )\n",
    "    M = np.array( rows[1:,1:] ).astype(int)\n",
    "\n",
    "    # print(C)\n",
    "    print(M.shape,\"\\n\", M)\n",
    "\n"
   ]
  },
  {
   "cell_type": "code",
   "execution_count": 55,
   "metadata": {},
   "outputs": [
    {
     "data": {
      "text/html": [
       "<div>\n",
       "<style scoped>\n",
       "    .dataframe tbody tr th:only-of-type {\n",
       "        vertical-align: middle;\n",
       "    }\n",
       "\n",
       "    .dataframe tbody tr th {\n",
       "        vertical-align: top;\n",
       "    }\n",
       "\n",
       "    .dataframe thead th {\n",
       "        text-align: right;\n",
       "    }\n",
       "</style>\n",
       "<table border=\"1\" class=\"dataframe\">\n",
       "  <thead>\n",
       "    <tr style=\"text-align: right;\">\n",
       "      <th></th>\n",
       "      <th>étudiant·e</th>\n",
       "      <th>ga.vTZVmBFaC.</th>\n",
       "      <th>ga/mLSm4ai/6g</th>\n",
       "      <th>ga04b5zeP48qY</th>\n",
       "      <th>ga1ohIKbe4v9Y</th>\n",
       "      <th>ga2f3zAu/j5w6</th>\n",
       "      <th>ga2tObQKD38MQ</th>\n",
       "      <th>ga5EltwHBOBQU</th>\n",
       "      <th>ga5Go./f4ADBQ</th>\n",
       "      <th>ga5JTmKLpYzns</th>\n",
       "      <th>...</th>\n",
       "      <th>gatfjwrAzu3Fk</th>\n",
       "      <th>gatgLz1yg7ZAg</th>\n",
       "      <th>gavTOkC.twsSQ</th>\n",
       "      <th>gaw2dFU/DFhQo</th>\n",
       "      <th>gawAIBKObOA9Q</th>\n",
       "      <th>gawIG8K0tl6Dg</th>\n",
       "      <th>gaxRM/r6FWnFA</th>\n",
       "      <th>gaxvvLjHn0mEE</th>\n",
       "      <th>gay0.j6cCUFM.</th>\n",
       "      <th>gazuii0BJkiyo</th>\n",
       "    </tr>\n",
       "  </thead>\n",
       "  <tbody>\n",
       "    <tr>\n",
       "      <td>0</td>\n",
       "      <td>bl/.vSDYCGrSs</td>\n",
       "      <td>1</td>\n",
       "      <td>1</td>\n",
       "      <td>1</td>\n",
       "      <td>1</td>\n",
       "      <td>1</td>\n",
       "      <td>3</td>\n",
       "      <td>1</td>\n",
       "      <td>2</td>\n",
       "      <td>2</td>\n",
       "      <td>...</td>\n",
       "      <td>2</td>\n",
       "      <td>1</td>\n",
       "      <td>3</td>\n",
       "      <td>3</td>\n",
       "      <td>1</td>\n",
       "      <td>2</td>\n",
       "      <td>1</td>\n",
       "      <td>1</td>\n",
       "      <td>1</td>\n",
       "      <td>3</td>\n",
       "    </tr>\n",
       "    <tr>\n",
       "      <td>1</td>\n",
       "      <td>bl/1NiMubceBs</td>\n",
       "      <td>1</td>\n",
       "      <td>1</td>\n",
       "      <td>1</td>\n",
       "      <td>1</td>\n",
       "      <td>1</td>\n",
       "      <td>3</td>\n",
       "      <td>1</td>\n",
       "      <td>1</td>\n",
       "      <td>1</td>\n",
       "      <td>...</td>\n",
       "      <td>1</td>\n",
       "      <td>1</td>\n",
       "      <td>1</td>\n",
       "      <td>3</td>\n",
       "      <td>2</td>\n",
       "      <td>1</td>\n",
       "      <td>2</td>\n",
       "      <td>1</td>\n",
       "      <td>1</td>\n",
       "      <td>1</td>\n",
       "    </tr>\n",
       "    <tr>\n",
       "      <td>2</td>\n",
       "      <td>bl/dvgMTLVSvk</td>\n",
       "      <td>0</td>\n",
       "      <td>0</td>\n",
       "      <td>0</td>\n",
       "      <td>0</td>\n",
       "      <td>1</td>\n",
       "      <td>1</td>\n",
       "      <td>0</td>\n",
       "      <td>0</td>\n",
       "      <td>0</td>\n",
       "      <td>...</td>\n",
       "      <td>0</td>\n",
       "      <td>0</td>\n",
       "      <td>1</td>\n",
       "      <td>0</td>\n",
       "      <td>0</td>\n",
       "      <td>0</td>\n",
       "      <td>0</td>\n",
       "      <td>1</td>\n",
       "      <td>0</td>\n",
       "      <td>0</td>\n",
       "    </tr>\n",
       "    <tr>\n",
       "      <td>3</td>\n",
       "      <td>bl1NWhKcNADF2</td>\n",
       "      <td>1</td>\n",
       "      <td>1</td>\n",
       "      <td>1</td>\n",
       "      <td>1</td>\n",
       "      <td>1</td>\n",
       "      <td>1</td>\n",
       "      <td>1</td>\n",
       "      <td>1</td>\n",
       "      <td>1</td>\n",
       "      <td>...</td>\n",
       "      <td>1</td>\n",
       "      <td>1</td>\n",
       "      <td>1</td>\n",
       "      <td>1</td>\n",
       "      <td>1</td>\n",
       "      <td>1</td>\n",
       "      <td>1</td>\n",
       "      <td>1</td>\n",
       "      <td>1</td>\n",
       "      <td>1</td>\n",
       "    </tr>\n",
       "    <tr>\n",
       "      <td>4</td>\n",
       "      <td>bl1ao5B7htJfQ</td>\n",
       "      <td>1</td>\n",
       "      <td>1</td>\n",
       "      <td>0</td>\n",
       "      <td>1</td>\n",
       "      <td>0</td>\n",
       "      <td>0</td>\n",
       "      <td>0</td>\n",
       "      <td>0</td>\n",
       "      <td>0</td>\n",
       "      <td>...</td>\n",
       "      <td>2</td>\n",
       "      <td>0</td>\n",
       "      <td>1</td>\n",
       "      <td>0</td>\n",
       "      <td>3</td>\n",
       "      <td>0</td>\n",
       "      <td>0</td>\n",
       "      <td>0</td>\n",
       "      <td>0</td>\n",
       "      <td>2</td>\n",
       "    </tr>\n",
       "  </tbody>\n",
       "</table>\n",
       "<p>5 rows × 81 columns</p>\n",
       "</div>"
      ],
      "text/plain": [
       "      étudiant·e  ga.vTZVmBFaC.  ga/mLSm4ai/6g  ga04b5zeP48qY  ga1ohIKbe4v9Y  \\\n",
       "0  bl/.vSDYCGrSs              1              1              1              1   \n",
       "1  bl/1NiMubceBs              1              1              1              1   \n",
       "2  bl/dvgMTLVSvk              0              0              0              0   \n",
       "3  bl1NWhKcNADF2              1              1              1              1   \n",
       "4  bl1ao5B7htJfQ              1              1              0              1   \n",
       "\n",
       "   ga2f3zAu/j5w6  ga2tObQKD38MQ  ga5EltwHBOBQU  ga5Go./f4ADBQ  ga5JTmKLpYzns  \\\n",
       "0              1              3              1              2              2   \n",
       "1              1              3              1              1              1   \n",
       "2              1              1              0              0              0   \n",
       "3              1              1              1              1              1   \n",
       "4              0              0              0              0              0   \n",
       "\n",
       "   ...  gatfjwrAzu3Fk  gatgLz1yg7ZAg  gavTOkC.twsSQ  gaw2dFU/DFhQo  \\\n",
       "0  ...              2              1              3              3   \n",
       "1  ...              1              1              1              3   \n",
       "2  ...              0              0              1              0   \n",
       "3  ...              1              1              1              1   \n",
       "4  ...              2              0              1              0   \n",
       "\n",
       "   gawAIBKObOA9Q  gawIG8K0tl6Dg  gaxRM/r6FWnFA  gaxvvLjHn0mEE  gay0.j6cCUFM.  \\\n",
       "0              1              2              1              1              1   \n",
       "1              2              1              2              1              1   \n",
       "2              0              0              0              1              0   \n",
       "3              1              1              1              1              1   \n",
       "4              3              0              0              0              0   \n",
       "\n",
       "   gazuii0BJkiyo  \n",
       "0              3  \n",
       "1              1  \n",
       "2              0  \n",
       "3              1  \n",
       "4              2  \n",
       "\n",
       "[5 rows x 81 columns]"
      ]
     },
     "execution_count": 55,
     "metadata": {},
     "output_type": "execute_result"
    }
   ],
   "source": [
    "import pandas as pd\n",
    "\n",
    "df = pd.read_csv('choixprojetstab.csv', delimiter=';', encoding='utf-8')\n",
    "df.head()"
   ]
  },
  {
   "cell_type": "markdown",
   "metadata": {},
   "source": [
    "### 2. Dans sklearn.cluster il existe différents algorithmes de clustering. Testez les différents algorithmes du package et proposez le meilleur clustering possible des données selon l’indice Silhouette."
   ]
  },
  {
   "cell_type": "code",
   "execution_count": 58,
   "metadata": {},
   "outputs": [
    {
     "name": "stdout",
     "output_type": "stream",
     "text": [
      "> silhouette_score =  0.29958429496509337 \t with :  Kmeans\n",
      "> silhouette_score =  0.29958429496509337 \t with :  MiniBatchKMeans\n"
     ]
    },
    {
     "name": "stderr",
     "output_type": "stream",
     "text": [
      "C:\\ProgramData\\Anaconda3\\lib\\site-packages\\sklearn\\cluster\\_affinity_propagation.py:152: FutureWarning: 'random_state' has been introduced in 0.23. It will be set to None starting from 0.25 which means that results will differ at every function call. Set 'random_state' to None to silence this warning, or to 0 to keep the behavior of versions <0.23.\n",
      "  FutureWarning)\n"
     ]
    },
    {
     "name": "stdout",
     "output_type": "stream",
     "text": [
      "> silhouette_score =  0.24603465972457622 \t with :  AffinityPropagation\n",
      "> silhouette_score =  0.2905635020378965 \t with :  Birch\n",
      "> silhouette_score =  0.1840557144219895 \t with :  GaussianMixture\n"
     ]
    }
   ],
   "source": [
    "import numpy as np\n",
    "from sklearn import cluster\n",
    "from sklearn import metrics,mixture\n",
    "\n",
    "# 'très bien' = 3, 'bien' = 2, 'moyens' = 1, 'jamais' = 0\n",
    "\n",
    "# ============\n",
    "# Create cluster objects\n",
    "# ============\n",
    "two_means = cluster.MiniBatchKMeans(n_clusters= 4)\n",
    "affinity_propagation = cluster.AffinityPropagation(damping=.9, preference=-200)\n",
    "birch = cluster.Birch(n_clusters= 4)\n",
    "gmm = mixture.GaussianMixture( n_components= 2, covariance_type='full')\n",
    "kmeans = cluster.KMeans(n_clusters=4)\n",
    "\n",
    "clustering_algorithms = (\n",
    "        ('Kmeans' , kmeans),\n",
    "        ('MiniBatchKMeans', two_means),\n",
    "        ('AffinityPropagation', affinity_propagation),\n",
    "        ('Birch', birch),\n",
    "        ('GaussianMixture', gmm)  \n",
    "    )\n",
    "\n",
    "for name, algorithm in clustering_algorithms:\n",
    "\n",
    "    cluster_labels = algorithm.fit_predict(M)\n",
    "\n",
    "    score = metrics.silhouette_score(M, cluster_labels)\n",
    "\n",
    "    print(\"> silhouette_score = \", score, \"\\t with :  \"+name)\n",
    "    \n",
    "\n"
   ]
  },
  {
   "cell_type": "markdown",
   "metadata": {},
   "source": [
    "***\n",
    "### Links\n",
    "- [E-mail :](mailto:zakaria.abbou199434@gmail.com) zakaria.abbou199434@gmail.com\n",
    "- [GitHub :](https://github.com/ZakariaAABBOU) github.com/ZakariaAABBOU\n",
    "- [Linkedin :](https://www.linkedin.com/in/zakaria-aabbou/) linkedin.com/in/zakaria-aabbou/"
   ]
  },
  {
   "cell_type": "code",
   "execution_count": null,
   "metadata": {},
   "outputs": [],
   "source": []
  }
 ],
 "metadata": {
  "file_extension": ".py",
  "kernelspec": {
   "display_name": "Python 3",
   "language": "python",
   "name": "python3"
  },
  "language_info": {
   "codemirror_mode": {
    "name": "ipython",
    "version": 3
   },
   "file_extension": ".py",
   "mimetype": "text/x-python",
   "name": "python",
   "nbconvert_exporter": "python",
   "pygments_lexer": "ipython3",
   "version": "3.7.4"
  },
  "mimetype": "text/x-python",
  "name": "python",
  "npconvert_exporter": "python",
  "pygments_lexer": "ipython3",
  "version": 3
 },
 "nbformat": 4,
 "nbformat_minor": 2
}
