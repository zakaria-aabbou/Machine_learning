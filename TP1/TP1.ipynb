{
 "cells": [
  {
   "cell_type": "markdown",
   "metadata": {},
   "source": [
    "<h1 style=\"text-align:center;\"> TP1 : Introduction au module scikit-learn </h1>"
   ]
  },
  {
   "cell_type": "markdown",
   "metadata": {},
   "source": [
    "## A. Importation des libraires :"
   ]
  },
  {
   "cell_type": "code",
   "execution_count": 1,
   "metadata": {},
   "outputs": [],
   "source": [
    "#Importation de scikit-learn\n",
    "from sklearn import *\n",
    "\n",
    "# Importation des librairies numpy (calcul scientifique) et matplotlib.pyplot (figures).\n",
    "import numpy as np\n",
    "import matplotlib.pyplot as plt"
   ]
  },
  {
   "cell_type": "markdown",
   "metadata": {},
   "source": [
    "## B. Manipulation d’un jeu de données"
   ]
  },
  {
   "cell_type": "markdown",
   "metadata": {},
   "source": [
    "### 1- Chargez les données Iris"
   ]
  },
  {
   "cell_type": "code",
   "execution_count": 2,
   "metadata": {},
   "outputs": [],
   "source": [
    "iris = datasets.load_iris()"
   ]
  },
  {
   "cell_type": "markdown",
   "metadata": {},
   "source": [
    "### 2- Affichez les données, les noms des variables et le nom des classes"
   ]
  },
  {
   "cell_type": "code",
   "execution_count": 5,
   "metadata": {},
   "outputs": [
    {
     "name": "stdout",
     "output_type": "stream",
     "text": [
      "feature_names :  ['sepal length (cm)', 'sepal width (cm)', 'petal length (cm)', 'petal width (cm)']\n",
      "target_names :  ['setosa' 'versicolor' 'virginica']\n",
      "les 5 premiers features : \n",
      " [[5.1 3.5 1.4 0.2]\n",
      " [4.9 3.  1.4 0.2]\n",
      " [4.7 3.2 1.3 0.2]\n",
      " [4.6 3.1 1.5 0.2]\n",
      " [5.  3.6 1.4 0.2]]\n",
      "targets : \n",
      " [0 0 0 0 0 0 0 0 0 0 0 0 0 0 0 0 0 0 0 0 0 0 0 0 0 0 0 0 0 0 0 0 0 0 0 0 0\n",
      " 0 0 0 0 0 0 0 0 0 0 0 0 0 1 1 1 1 1 1 1 1 1 1 1 1 1 1 1 1 1 1 1 1 1 1 1 1\n",
      " 1 1 1 1 1 1 1 1 1 1 1 1 1 1 1 1 1 1 1 1 1 1 1 1 1 1 2 2 2 2 2 2 2 2 2 2 2\n",
      " 2 2 2 2 2 2 2 2 2 2 2 2 2 2 2 2 2 2 2 2 2 2 2 2 2 2 2 2 2 2 2 2 2 2 2 2 2\n",
      " 2 2]\n"
     ]
    }
   ],
   "source": [
    "features = iris.data\n",
    "targets = iris.target\n",
    "print('feature_names : ' , iris.feature_names)\n",
    "print('target_names : ' , iris.target_names)\n",
    "print('les 5 premiers features : \\n', features[:5])\n",
    "print('targets : \\n', targets)"
   ]
  },
  {
   "cell_type": "markdown",
   "metadata": {},
   "source": [
    "### 3- Affichez le nom des classes pour chaque donnée"
   ]
  },
  {
   "cell_type": "code",
   "execution_count": 7,
   "metadata": {},
   "outputs": [
    {
     "name": "stdout",
     "output_type": "stream",
     "text": [
      "Le nom des classes pour chaque donnée : \n",
      "> les données :  [5.1 3.5 1.4 0.2]  > la classe :  setosa\n",
      "> les données :  [4.9 3.  1.4 0.2]  > la classe :  setosa\n",
      "> les données :  [4.7 3.2 1.3 0.2]  > la classe :  setosa\n",
      "> les données :  [4.6 3.1 1.5 0.2]  > la classe :  setosa\n",
      "> les données :  [5.  3.6 1.4 0.2]  > la classe :  setosa\n",
      "> les données :  [5.4 3.9 1.7 0.4]  > la classe :  setosa\n",
      "> les données :  [4.6 3.4 1.4 0.3]  > la classe :  setosa\n",
      "> les données :  [5.  3.4 1.5 0.2]  > la classe :  setosa\n",
      "> les données :  [4.4 2.9 1.4 0.2]  > la classe :  setosa\n",
      "> les données :  [4.9 3.1 1.5 0.1]  > la classe :  setosa\n",
      "> les données :  [5.4 3.7 1.5 0.2]  > la classe :  setosa\n",
      "> les données :  [4.8 3.4 1.6 0.2]  > la classe :  setosa\n",
      "> les données :  [4.8 3.  1.4 0.1]  > la classe :  setosa\n",
      "> les données :  [4.3 3.  1.1 0.1]  > la classe :  setosa\n",
      "> les données :  [5.8 4.  1.2 0.2]  > la classe :  setosa\n",
      "> les données :  [5.7 4.4 1.5 0.4]  > la classe :  setosa\n",
      "> les données :  [5.4 3.9 1.3 0.4]  > la classe :  setosa\n",
      "> les données :  [5.1 3.5 1.4 0.3]  > la classe :  setosa\n",
      "> les données :  [5.7 3.8 1.7 0.3]  > la classe :  setosa\n",
      "> les données :  [5.1 3.8 1.5 0.3]  > la classe :  setosa\n",
      "> les données :  [5.4 3.4 1.7 0.2]  > la classe :  setosa\n",
      "> les données :  [5.1 3.7 1.5 0.4]  > la classe :  setosa\n",
      "> les données :  [4.6 3.6 1.  0.2]  > la classe :  setosa\n",
      "> les données :  [5.1 3.3 1.7 0.5]  > la classe :  setosa\n",
      "> les données :  [4.8 3.4 1.9 0.2]  > la classe :  setosa\n",
      "> les données :  [5.  3.  1.6 0.2]  > la classe :  setosa\n",
      "> les données :  [5.  3.4 1.6 0.4]  > la classe :  setosa\n",
      "> les données :  [5.2 3.5 1.5 0.2]  > la classe :  setosa\n",
      "> les données :  [5.2 3.4 1.4 0.2]  > la classe :  setosa\n",
      "> les données :  [4.7 3.2 1.6 0.2]  > la classe :  setosa\n",
      "> les données :  [4.8 3.1 1.6 0.2]  > la classe :  setosa\n",
      "> les données :  [5.4 3.4 1.5 0.4]  > la classe :  setosa\n",
      "> les données :  [5.2 4.1 1.5 0.1]  > la classe :  setosa\n",
      "> les données :  [5.5 4.2 1.4 0.2]  > la classe :  setosa\n",
      "> les données :  [4.9 3.1 1.5 0.2]  > la classe :  setosa\n",
      "> les données :  [5.  3.2 1.2 0.2]  > la classe :  setosa\n",
      "> les données :  [5.5 3.5 1.3 0.2]  > la classe :  setosa\n",
      "> les données :  [4.9 3.6 1.4 0.1]  > la classe :  setosa\n",
      "> les données :  [4.4 3.  1.3 0.2]  > la classe :  setosa\n",
      "> les données :  [5.1 3.4 1.5 0.2]  > la classe :  setosa\n",
      "> les données :  [5.  3.5 1.3 0.3]  > la classe :  setosa\n",
      "> les données :  [4.5 2.3 1.3 0.3]  > la classe :  setosa\n",
      "> les données :  [4.4 3.2 1.3 0.2]  > la classe :  setosa\n",
      "> les données :  [5.  3.5 1.6 0.6]  > la classe :  setosa\n",
      "> les données :  [5.1 3.8 1.9 0.4]  > la classe :  setosa\n",
      "> les données :  [4.8 3.  1.4 0.3]  > la classe :  setosa\n",
      "> les données :  [5.1 3.8 1.6 0.2]  > la classe :  setosa\n",
      "> les données :  [4.6 3.2 1.4 0.2]  > la classe :  setosa\n",
      "> les données :  [5.3 3.7 1.5 0.2]  > la classe :  setosa\n",
      "> les données :  [5.  3.3 1.4 0.2]  > la classe :  setosa\n",
      "> les données :  [7.  3.2 4.7 1.4]  > la classe :  versicolor\n",
      "> les données :  [6.4 3.2 4.5 1.5]  > la classe :  versicolor\n",
      "> les données :  [6.9 3.1 4.9 1.5]  > la classe :  versicolor\n",
      "> les données :  [5.5 2.3 4.  1.3]  > la classe :  versicolor\n",
      "> les données :  [6.5 2.8 4.6 1.5]  > la classe :  versicolor\n",
      "> les données :  [5.7 2.8 4.5 1.3]  > la classe :  versicolor\n",
      "> les données :  [6.3 3.3 4.7 1.6]  > la classe :  versicolor\n",
      "> les données :  [4.9 2.4 3.3 1. ]  > la classe :  versicolor\n",
      "> les données :  [6.6 2.9 4.6 1.3]  > la classe :  versicolor\n",
      "> les données :  [5.2 2.7 3.9 1.4]  > la classe :  versicolor\n",
      "> les données :  [5.  2.  3.5 1. ]  > la classe :  versicolor\n",
      "> les données :  [5.9 3.  4.2 1.5]  > la classe :  versicolor\n",
      "> les données :  [6.  2.2 4.  1. ]  > la classe :  versicolor\n",
      "> les données :  [6.1 2.9 4.7 1.4]  > la classe :  versicolor\n",
      "> les données :  [5.6 2.9 3.6 1.3]  > la classe :  versicolor\n",
      "> les données :  [6.7 3.1 4.4 1.4]  > la classe :  versicolor\n",
      "> les données :  [5.6 3.  4.5 1.5]  > la classe :  versicolor\n",
      "> les données :  [5.8 2.7 4.1 1. ]  > la classe :  versicolor\n",
      "> les données :  [6.2 2.2 4.5 1.5]  > la classe :  versicolor\n",
      "> les données :  [5.6 2.5 3.9 1.1]  > la classe :  versicolor\n",
      "> les données :  [5.9 3.2 4.8 1.8]  > la classe :  versicolor\n",
      "> les données :  [6.1 2.8 4.  1.3]  > la classe :  versicolor\n",
      "> les données :  [6.3 2.5 4.9 1.5]  > la classe :  versicolor\n",
      "> les données :  [6.1 2.8 4.7 1.2]  > la classe :  versicolor\n",
      "> les données :  [6.4 2.9 4.3 1.3]  > la classe :  versicolor\n",
      "> les données :  [6.6 3.  4.4 1.4]  > la classe :  versicolor\n",
      "> les données :  [6.8 2.8 4.8 1.4]  > la classe :  versicolor\n",
      "> les données :  [6.7 3.  5.  1.7]  > la classe :  versicolor\n",
      "> les données :  [6.  2.9 4.5 1.5]  > la classe :  versicolor\n",
      "> les données :  [5.7 2.6 3.5 1. ]  > la classe :  versicolor\n",
      "> les données :  [5.5 2.4 3.8 1.1]  > la classe :  versicolor\n",
      "> les données :  [5.5 2.4 3.7 1. ]  > la classe :  versicolor\n",
      "> les données :  [5.8 2.7 3.9 1.2]  > la classe :  versicolor\n",
      "> les données :  [6.  2.7 5.1 1.6]  > la classe :  versicolor\n",
      "> les données :  [5.4 3.  4.5 1.5]  > la classe :  versicolor\n",
      "> les données :  [6.  3.4 4.5 1.6]  > la classe :  versicolor\n",
      "> les données :  [6.7 3.1 4.7 1.5]  > la classe :  versicolor\n",
      "> les données :  [6.3 2.3 4.4 1.3]  > la classe :  versicolor\n",
      "> les données :  [5.6 3.  4.1 1.3]  > la classe :  versicolor\n",
      "> les données :  [5.5 2.5 4.  1.3]  > la classe :  versicolor\n",
      "> les données :  [5.5 2.6 4.4 1.2]  > la classe :  versicolor\n",
      "> les données :  [6.1 3.  4.6 1.4]  > la classe :  versicolor\n",
      "> les données :  [5.8 2.6 4.  1.2]  > la classe :  versicolor\n",
      "> les données :  [5.  2.3 3.3 1. ]  > la classe :  versicolor\n",
      "> les données :  [5.6 2.7 4.2 1.3]  > la classe :  versicolor\n",
      "> les données :  [5.7 3.  4.2 1.2]  > la classe :  versicolor\n",
      "> les données :  [5.7 2.9 4.2 1.3]  > la classe :  versicolor\n",
      "> les données :  [6.2 2.9 4.3 1.3]  > la classe :  versicolor\n",
      "> les données :  [5.1 2.5 3.  1.1]  > la classe :  versicolor\n",
      "> les données :  [5.7 2.8 4.1 1.3]  > la classe :  versicolor\n",
      "> les données :  [6.3 3.3 6.  2.5]  > la classe :  virginica\n",
      "> les données :  [5.8 2.7 5.1 1.9]  > la classe :  virginica\n",
      "> les données :  [7.1 3.  5.9 2.1]  > la classe :  virginica\n",
      "> les données :  [6.3 2.9 5.6 1.8]  > la classe :  virginica\n",
      "> les données :  [6.5 3.  5.8 2.2]  > la classe :  virginica\n",
      "> les données :  [7.6 3.  6.6 2.1]  > la classe :  virginica\n",
      "> les données :  [4.9 2.5 4.5 1.7]  > la classe :  virginica\n",
      "> les données :  [7.3 2.9 6.3 1.8]  > la classe :  virginica\n",
      "> les données :  [6.7 2.5 5.8 1.8]  > la classe :  virginica\n",
      "> les données :  [7.2 3.6 6.1 2.5]  > la classe :  virginica\n",
      "> les données :  [6.5 3.2 5.1 2. ]  > la classe :  virginica\n",
      "> les données :  [6.4 2.7 5.3 1.9]  > la classe :  virginica\n",
      "> les données :  [6.8 3.  5.5 2.1]  > la classe :  virginica\n",
      "> les données :  [5.7 2.5 5.  2. ]  > la classe :  virginica\n",
      "> les données :  [5.8 2.8 5.1 2.4]  > la classe :  virginica\n",
      "> les données :  [6.4 3.2 5.3 2.3]  > la classe :  virginica\n",
      "> les données :  [6.5 3.  5.5 1.8]  > la classe :  virginica\n",
      "> les données :  [7.7 3.8 6.7 2.2]  > la classe :  virginica\n",
      "> les données :  [7.7 2.6 6.9 2.3]  > la classe :  virginica\n",
      "> les données :  [6.  2.2 5.  1.5]  > la classe :  virginica\n",
      "> les données :  [6.9 3.2 5.7 2.3]  > la classe :  virginica\n",
      "> les données :  [5.6 2.8 4.9 2. ]  > la classe :  virginica\n",
      "> les données :  [7.7 2.8 6.7 2. ]  > la classe :  virginica\n",
      "> les données :  [6.3 2.7 4.9 1.8]  > la classe :  virginica\n",
      "> les données :  [6.7 3.3 5.7 2.1]  > la classe :  virginica\n",
      "> les données :  [7.2 3.2 6.  1.8]  > la classe :  virginica\n",
      "> les données :  [6.2 2.8 4.8 1.8]  > la classe :  virginica\n",
      "> les données :  [6.1 3.  4.9 1.8]  > la classe :  virginica\n",
      "> les données :  [6.4 2.8 5.6 2.1]  > la classe :  virginica\n",
      "> les données :  [7.2 3.  5.8 1.6]  > la classe :  virginica\n",
      "> les données :  [7.4 2.8 6.1 1.9]  > la classe :  virginica\n",
      "> les données :  [7.9 3.8 6.4 2. ]  > la classe :  virginica\n",
      "> les données :  [6.4 2.8 5.6 2.2]  > la classe :  virginica\n",
      "> les données :  [6.3 2.8 5.1 1.5]  > la classe :  virginica\n",
      "> les données :  [6.1 2.6 5.6 1.4]  > la classe :  virginica\n",
      "> les données :  [7.7 3.  6.1 2.3]  > la classe :  virginica\n",
      "> les données :  [6.3 3.4 5.6 2.4]  > la classe :  virginica\n",
      "> les données :  [6.4 3.1 5.5 1.8]  > la classe :  virginica\n",
      "> les données :  [6.  3.  4.8 1.8]  > la classe :  virginica\n",
      "> les données :  [6.9 3.1 5.4 2.1]  > la classe :  virginica\n",
      "> les données :  [6.7 3.1 5.6 2.4]  > la classe :  virginica\n",
      "> les données :  [6.9 3.1 5.1 2.3]  > la classe :  virginica\n",
      "> les données :  [5.8 2.7 5.1 1.9]  > la classe :  virginica\n",
      "> les données :  [6.8 3.2 5.9 2.3]  > la classe :  virginica\n",
      "> les données :  [6.7 3.3 5.7 2.5]  > la classe :  virginica\n",
      "> les données :  [6.7 3.  5.2 2.3]  > la classe :  virginica\n",
      "> les données :  [6.3 2.5 5.  1.9]  > la classe :  virginica\n",
      "> les données :  [6.5 3.  5.2 2. ]  > la classe :  virginica\n",
      "> les données :  [6.2 3.4 5.4 2.3]  > la classe :  virginica\n",
      "> les données :  [5.9 3.  5.1 1.8]  > la classe :  virginica\n"
     ]
    }
   ],
   "source": [
    "print('Le nom des classes pour chaque donnée : ')\n",
    "\n",
    "for features, targets in zip(iris.data, iris.target):\n",
    "    print(\"> les données : \", features, \" > la classe : \", iris.target_names[targets])"
   ]
  },
  {
   "cell_type": "markdown",
   "metadata": {},
   "source": [
    "### 4- Affichez la moyenne (mean), l’ecart-type (std), le min et le max pour chaque variable."
   ]
  },
  {
   "cell_type": "code",
   "execution_count": 9,
   "metadata": {},
   "outputs": [
    {
     "name": "stdout",
     "output_type": "stream",
     "text": [
      "> la moyenne (la moyenne de chaque variable) :  [5.84333333 3.05733333 3.758      1.19933333]\n",
      "> l’ecart-type (std) :  [0.82530129 0.43441097 1.75940407 0.75969263]\n",
      "> min :  [4.3 2.  1.  0.1]\n",
      "> max :  [7.9 4.4 6.9 2.5]\n"
     ]
    }
   ],
   "source": [
    "print('> la moyenne (la moyenne de chaque variable) : ', iris.data.mean(0))\n",
    "print('> l’ecart-type (std) : ', iris.data.std(0))\n",
    "print('> min : ', iris.data.min(0))\n",
    "print('> max : ', iris.data.max(0))\n"
   ]
  },
  {
   "cell_type": "markdown",
   "metadata": {},
   "source": [
    "### 5- En utilisant les attributs size et shape, affichez le nombre de données, le nombre de variables et le nombre de classes."
   ]
  },
  {
   "cell_type": "code",
   "execution_count": 10,
   "metadata": {},
   "outputs": [
    {
     "name": "stdout",
     "output_type": "stream",
     "text": [
      "le nombre de données :  150\n",
      "le nombre de variables :  4\n",
      "le nombre de classes :  3\n"
     ]
    }
   ],
   "source": [
    "print('le nombre de données : ', iris.data.shape[0])\n",
    "print('le nombre de variables : ', iris.data.shape[1])\n",
    "print('le nombre de classes : ', iris.target_names.size)"
   ]
  },
  {
   "cell_type": "markdown",
   "metadata": {},
   "source": [
    "## C. Téléchargement et importation de données"
   ]
  },
  {
   "cell_type": "markdown",
   "metadata": {},
   "source": [
    "### 1- Importez les données 'MNIST original'."
   ]
  },
  {
   "cell_type": "code",
   "execution_count": 12,
   "metadata": {},
   "outputs": [
    {
     "name": "stdout",
     "output_type": "stream",
     "text": [
      "fin de téléchargement\n"
     ]
    }
   ],
   "source": [
    "# mnist = datasets.fetch_mldata('MNIST original')\n",
    "\n",
    "mnist = datasets.fetch_openml('mnist_784', version=1, cache=True)\n",
    "print('fin de téléchargement')"
   ]
  },
  {
   "cell_type": "markdown",
   "metadata": {},
   "source": [
    "### 2- Affichez la matrice des données, le nombre de données et de variables, les numéros de classes pour chaque donnée, ainsi que la moyenne, l’écart type, les valeurs min et max pour chaque variable ; enfin donnez le nombre de classe avec la fonction unique."
   ]
  },
  {
   "cell_type": "code",
   "execution_count": 14,
   "metadata": {},
   "outputs": [
    {
     "name": "stdout",
     "output_type": "stream",
     "text": [
      "le nombre de données :  70000\n",
      "le nombre de variables :  784\n",
      "la matrice des données : \n",
      " [[0. 0. 0. ... 0. 0. 0.]\n",
      " [0. 0. 0. ... 0. 0. 0.]\n",
      " [0. 0. 0. ... 0. 0. 0.]\n",
      " ...\n",
      " [0. 0. 0. ... 0. 0. 0.]\n",
      " [0. 0. 0. ... 0. 0. 0.]\n",
      " [0. 0. 0. ... 0. 0. 0.]]\n"
     ]
    }
   ],
   "source": [
    "print('le nombre de données : ', mnist.data.shape[0])\n",
    "print('le nombre de variables : ', mnist.data.shape[1])\n",
    "print('la matrice des données : \\n', mnist.data)"
   ]
  },
  {
   "cell_type": "code",
   "execution_count": 18,
   "metadata": {},
   "outputs": [
    {
     "name": "stdout",
     "output_type": "stream",
     "text": [
      "# Le nom des 5 premiers classes pour chaque donnée : \n",
      "> la donnée à l'indece 0 , sa classe est :  5\n",
      "> la donnée à l'indece 1 , sa classe est :  0\n",
      "> la donnée à l'indece 2 , sa classe est :  4\n",
      "> la donnée à l'indece 3 , sa classe est :  1\n",
      "> la donnée à l'indece 4 , sa classe est :  9\n"
     ]
    }
   ],
   "source": [
    "print('# Le nom des 5 premiers classes pour chaque donnée : ')\n",
    "for i, targets in enumerate(mnist.target[:5]):\n",
    "    print(\"> la donnée à l\\'indece\", i, \", sa classe est : \", targets)"
   ]
  },
  {
   "cell_type": "markdown",
   "metadata": {},
   "source": [
    "#### l'affichage de moyenne (mean), l’ecart-type (std), le min et le max pour chaque variable."
   ]
  },
  {
   "cell_type": "code",
   "execution_count": 19,
   "metadata": {},
   "outputs": [
    {
     "name": "stdout",
     "output_type": "stream",
     "text": [
      " la moyenne pour chaque variable \t:  [58.16131429 40.4515     25.59697143 15.07995714  8.34447143]\n",
      " l’ecart-type pour chaque variable \t:  [94.37158171 81.94658812 67.18540081 52.44126013 39.4835667 ]\n",
      " le min pour chaque variable \t\t:  [0. 0. 0. 0. 0.]\n",
      " le max pour chaque variable \t\t:  [255. 255. 255. 255. 255.]\n"
     ]
    }
   ],
   "source": [
    "features_mnist = mnist.data\n",
    "targets_mnist = mnist.target\n",
    "\n",
    "mean_mnist = features_mnist.mean(0)\n",
    "std_mnist = features_mnist.std(0)\n",
    "min_mnist = features_mnist.min(0)\n",
    "max_mnist = features_mnist.max(0)\n",
    "print(' la moyenne pour chaque variable \\t: ',mean_mnist[660:665])\n",
    "print(' l’ecart-type pour chaque variable \\t: ',std_mnist[660:665])\n",
    "print(' le min pour chaque variable \\t\\t: ',min_mnist[660:665])\n",
    "print(' le max pour chaque variable \\t\\t: ',max_mnist[660:665])"
   ]
  },
  {
   "cell_type": "markdown",
   "metadata": {},
   "source": [
    "#### Le nombre de classe avec la fonction unique."
   ]
  },
  {
   "cell_type": "code",
   "execution_count": 21,
   "metadata": {},
   "outputs": [
    {
     "name": "stdout",
     "output_type": "stream",
     "text": [
      "les classes des données mnist :  ['0' '1' '2' '3' '4' '5' '6' '7' '8' '9']\n",
      "le nombre de classe est :  10\n"
     ]
    }
   ],
   "source": [
    "classes_num = np.unique(targets_mnist)\n",
    "print('les classes des données mnist : ',classes_num)\n",
    "print('le nombre de classe est : ',classes_num.size)"
   ]
  },
  {
   "cell_type": "markdown",
   "metadata": {},
   "source": [
    "## D. Génération de données et affichage"
   ]
  },
  {
   "cell_type": "markdown",
   "metadata": {},
   "source": [
    "### 1- Utiliser l’aide (help) pour voir comment utiliser la fonction datasets.make_blobs."
   ]
  },
  {
   "cell_type": "code",
   "execution_count": 23,
   "metadata": {},
   "outputs": [
    {
     "name": "stdout",
     "output_type": "stream",
     "text": [
      "Help on function make_blobs in module sklearn.datasets._samples_generator:\n",
      "\n",
      "make_blobs(n_samples=100, n_features=2, *, centers=None, cluster_std=1.0, center_box=(-10.0, 10.0), shuffle=True, random_state=None, return_centers=False)\n",
      "    Generate isotropic Gaussian blobs for clustering.\n",
      "    \n",
      "    Read more in the :ref:`User Guide <sample_generators>`.\n",
      "    \n",
      "    Parameters\n",
      "    ----------\n",
      "    n_samples : int or array-like, optional (default=100)\n",
      "        If int, it is the total number of points equally divided among\n",
      "        clusters.\n",
      "        If array-like, each element of the sequence indicates\n",
      "        the number of samples per cluster.\n",
      "    \n",
      "        .. versionchanged:: v0.20\n",
      "            one can now pass an array-like to the ``n_samples`` parameter\n",
      "    \n",
      "    n_features : int, optional (default=2)\n",
      "        The number of features for each sample.\n",
      "    \n",
      "    centers : int or array of shape [n_centers, n_features], optional\n",
      "        (default=None)\n",
      "        The number of centers to generate, or the fixed center locations.\n",
      "        If n_samples is an int and centers is None, 3 centers are generated.\n",
      "        If n_samples is array-like, centers must be\n",
      "        either None or an array of length equal to the length of n_samples.\n",
      "    \n",
      "    cluster_std : float or sequence of floats, optional (default=1.0)\n",
      "        The standard deviation of the clusters.\n",
      "    \n",
      "    center_box : pair of floats (min, max), optional (default=(-10.0, 10.0))\n",
      "        The bounding box for each cluster center when centers are\n",
      "        generated at random.\n",
      "    \n",
      "    shuffle : boolean, optional (default=True)\n",
      "        Shuffle the samples.\n",
      "    \n",
      "    random_state : int, RandomState instance, default=None\n",
      "        Determines random number generation for dataset creation. Pass an int\n",
      "        for reproducible output across multiple function calls.\n",
      "        See :term:`Glossary <random_state>`.\n",
      "    \n",
      "    return_centers : bool, optional (default=False)\n",
      "        If True, then return the centers of each cluster\n",
      "    \n",
      "        .. versionadded:: 0.23\n",
      "    \n",
      "    Returns\n",
      "    -------\n",
      "    X : array of shape [n_samples, n_features]\n",
      "        The generated samples.\n",
      "    \n",
      "    y : array of shape [n_samples]\n",
      "        The integer labels for cluster membership of each sample.\n",
      "    \n",
      "    centers : array, shape [n_centers, n_features]\n",
      "        The centers of each cluster. Only returned if\n",
      "        ``return_centers=True``.\n",
      "    \n",
      "    Examples\n",
      "    --------\n",
      "    >>> from sklearn.datasets import make_blobs\n",
      "    >>> X, y = make_blobs(n_samples=10, centers=3, n_features=2,\n",
      "    ...                   random_state=0)\n",
      "    >>> print(X.shape)\n",
      "    (10, 2)\n",
      "    >>> y\n",
      "    array([0, 0, 1, 0, 2, 2, 2, 1, 1, 0])\n",
      "    >>> X, y = make_blobs(n_samples=[3, 3, 4], centers=None, n_features=2,\n",
      "    ...                   random_state=0)\n",
      "    >>> print(X.shape)\n",
      "    (10, 2)\n",
      "    >>> y\n",
      "    array([0, 1, 2, 0, 2, 2, 2, 1, 1, 0])\n",
      "    \n",
      "    See also\n",
      "    --------\n",
      "    make_classification: a more intricate variant\n",
      "\n"
     ]
    }
   ],
   "source": [
    "help(datasets.make_blobs)"
   ]
  },
  {
   "cell_type": "markdown",
   "metadata": {},
   "source": [
    "### 2- Générez 1000 données de deux variables réparties en 4 groupes."
   ]
  },
  {
   "cell_type": "code",
   "execution_count": 25,
   "metadata": {},
   "outputs": [
    {
     "name": "stdout",
     "output_type": "stream",
     "text": [
      "(1000, 2)\n",
      "(1000,)\n"
     ]
    }
   ],
   "source": [
    "X, y = datasets.make_blobs(n_samples=1000, centers=4, n_features=2, random_state=0)\n",
    "\n",
    "print(X.shape)\n",
    "print(y.shape)"
   ]
  },
  {
   "cell_type": "markdown",
   "metadata": {},
   "source": [
    "### 3- Utilisez les fonctions figure, scatter, title, xlim, ylim, xlabel, ylabel et show pour afficher les données avec des couleurs correspondant aux classes. Les axes x et y seront dans l’intervalle [-15, 15] et devrons avoir un titre. La figure doit aussi avoir un titre."
   ]
  },
  {
   "cell_type": "code",
   "execution_count": 26,
   "metadata": {},
   "outputs": [
    {
     "data": {
      "image/png": "[encoded data removed]",
      "text/plain": [
       "<Figure size 432x288 with 1 Axes>"
      ]
     },
     "metadata": {
      "needs_background": "light"
     },
     "output_type": "display_data"
    }
   ],
   "source": [
    "plt.figure()\n",
    "scatter = plt.scatter(X[:,0], X[:,1], c=y)\n",
    "plt.title('Variable x2 en fonction de la variable x1')\n",
    "plt.xlabel('Variable x1')\n",
    "plt.ylabel('Variable x2')\n",
    "plt.legend(*scatter.legend_elements(), loc=\"upper right\", title=\"Classes\", borderaxespad=0.)\n",
    "plt.xlim(-15,15)\n",
    "plt.ylim(-15,15)\n",
    "\n",
    "plt.show()"
   ]
  },
  {
   "cell_type": "markdown",
   "metadata": {},
   "source": [
    "### 4- Générez 100 données de deux variables réparties en 2 groupes, puis 500 données de deux variables réparties en 3 groupes. Concaténez (vstack et hstack) les deux jeux de données et les numéros de classe pour fusionner les deux jeux de données. Affichez les trois ensembles avec scatter comme précédemment."
   ]
  },
  {
   "cell_type": "code",
   "execution_count": 27,
   "metadata": {},
   "outputs": [
    {
     "name": "stdout",
     "output_type": "stream",
     "text": [
      "(600, 2) (600,)\n"
     ]
    }
   ],
   "source": [
    "X1, y1 = datasets.make_blobs(n_samples=100, centers=2, n_features=2, random_state=0)\n",
    "X2, y2 = datasets.make_blobs(n_samples=500, centers=3, n_features=2, random_state=0)\n",
    "\n",
    "X3 = np.vstack((X1, X2))\n",
    "y3 = np.hstack((y1, y2))\n",
    "\n",
    "print(X3.shape, y3.shape)\n"
   ]
  },
  {
   "cell_type": "code",
   "execution_count": 30,
   "metadata": {},
   "outputs": [
    {
     "data": {
      "image/png": "[encoded data removed]",
      "text/plain": [
       "<Figure size 1440x360 with 3 Axes>"
      ]
     },
     "metadata": {
      "needs_background": "light"
     },
     "output_type": "display_data"
    }
   ],
   "source": [
    "plt.subplots(1, 3, figsize=(20,5))\n",
    "\n",
    "for i, (X, y) in enumerate([(X1, y1), (X2, y2), (X3, y3)]):\n",
    "    plt.subplot(1,3,i+1)\n",
    "    scatter = plt.scatter(X[:,0], X[:,1], c=y)\n",
    "    plt.title('data X'+str(i+1))\n",
    "    plt.xlabel('Variable x1')\n",
    "    plt.ylabel('Variable x2')\n",
    "    plt.legend(*scatter.legend_elements(), loc=\"upper right\", title=\"Classes\", borderaxespad=0.)\n",
    "    plt.xlim(-15,15)\n",
    "    plt.ylim(-15,15)\n",
    "\n",
    "plt.show()"
   ]
  },
  {
   "cell_type": "markdown",
   "metadata": {},
   "source": [
    "***\n",
    "### Links\n",
    "- [E-mail :](mailto:zakaria.abbou199434@gmail.com) zakaria.abbou199434@gmail.com\n",
    "- [GitHub :](https://github.com/ZakariaAABBOU) github.com/ZakariaAABBOU\n",
    "- [Linkedin :](https://www.linkedin.com/in/zakaria-aabbou/) linkedin.com/in/zakaria-aabbou/"
   ]
  },
  {
   "cell_type": "code",
   "execution_count": null,
   "metadata": {},
   "outputs": [],
   "source": []
  }
 ],
 "metadata": {
  "file_extension": ".py",
  "kernelspec": {
   "display_name": "Python 3",
   "language": "python",
   "name": "python3"
  },
  "language_info": {
   "codemirror_mode": {
    "name": "ipython",
    "version": 3
   },
   "file_extension": ".py",
   "mimetype": "text/x-python",
   "name": "python",
   "nbconvert_exporter": "python",
   "pygments_lexer": "ipython3",
   "version": "3.7.4"
  },
  "mimetype": "text/x-python",
  "name": "python",
  "npconvert_exporter": "python",
  "pygments_lexer": "ipython3",
  "version": 3
 },
 "nbformat": 4,
 "nbformat_minor": 2
}
