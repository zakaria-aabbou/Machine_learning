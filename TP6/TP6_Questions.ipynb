{
 "cells": [
  {
   "cell_type": "markdown",
   "metadata": {},
   "source": [
    "<h1 style=\"text-align:center;font-size: 3em\"> TP6 : Analyse et prédiction des infections COVID-19 </h1>"
   ]
  },
  {
   "cell_type": "markdown",
   "metadata": {},
   "source": [
    "### Importer les bibliothèques nécessaires\n"
   ]
  },
  {
   "cell_type": "code",
   "execution_count": 1,
   "metadata": {},
   "outputs": [],
   "source": [
    "import numpy as np\n",
    "import pandas as pd"
   ]
  },
  {
   "cell_type": "markdown",
   "metadata": {},
   "source": [
    "### Importer le fichier de données après son nettoyage"
   ]
  },
  {
   "cell_type": "code",
   "execution_count": 2,
   "metadata": {},
   "outputs": [
    {
     "name": "stdout",
     "output_type": "stream",
     "text": [
      "Les noms des colonnes: \n",
      " ['age' 'sex' 'chronic_disease_binary' 'asymptomatic' 'cough' 'fatigue'\n",
      " 'fever' 'headache' 'malaise' 'pneumonia' 'respiratory problems'\n",
      " 'runny nose' 'sore throat' 'diabetes' 'hypertension' 'outcome']\n"
     ]
    }
   ],
   "source": [
    "df = pd.read_csv(\"covid_data_cleaned.csv\")\n",
    "print('Les noms des colonnes: \\n',df.columns.values)"
   ]
  },
  {
   "cell_type": "code",
   "execution_count": 3,
   "metadata": {},
   "outputs": [
    {
     "data": {
      "text/plain": [
       "(1577, 16)"
      ]
     },
     "execution_count": 3,
     "metadata": {},
     "output_type": "execute_result"
    }
   ],
   "source": [
    "df.shape"
   ]
  },
  {
   "cell_type": "code",
   "execution_count": 4,
   "metadata": {},
   "outputs": [
    {
     "data": {
      "text/html": [
       "<div>\n",
       "<style scoped>\n",
       "    .dataframe tbody tr th:only-of-type {\n",
       "        vertical-align: middle;\n",
       "    }\n",
       "\n",
       "    .dataframe tbody tr th {\n",
       "        vertical-align: top;\n",
       "    }\n",
       "\n",
       "    .dataframe thead th {\n",
       "        text-align: right;\n",
       "    }\n",
       "</style>\n",
       "<table border=\"1\" class=\"dataframe\">\n",
       "  <thead>\n",
       "    <tr style=\"text-align: right;\">\n",
       "      <th></th>\n",
       "      <th>age</th>\n",
       "      <th>sex</th>\n",
       "      <th>chronic_disease_binary</th>\n",
       "      <th>asymptomatic</th>\n",
       "      <th>cough</th>\n",
       "      <th>fatigue</th>\n",
       "      <th>fever</th>\n",
       "      <th>headache</th>\n",
       "      <th>malaise</th>\n",
       "      <th>pneumonia</th>\n",
       "      <th>respiratory problems</th>\n",
       "      <th>runny nose</th>\n",
       "      <th>sore throat</th>\n",
       "      <th>diabetes</th>\n",
       "      <th>hypertension</th>\n",
       "      <th>outcome</th>\n",
       "    </tr>\n",
       "  </thead>\n",
       "  <tbody>\n",
       "    <tr>\n",
       "      <td>0</td>\n",
       "      <td>60</td>\n",
       "      <td>1</td>\n",
       "      <td>0</td>\n",
       "      <td>0</td>\n",
       "      <td>0</td>\n",
       "      <td>0</td>\n",
       "      <td>1</td>\n",
       "      <td>0</td>\n",
       "      <td>0</td>\n",
       "      <td>1</td>\n",
       "      <td>0</td>\n",
       "      <td>0</td>\n",
       "      <td>0</td>\n",
       "      <td>0</td>\n",
       "      <td>0</td>\n",
       "      <td>1</td>\n",
       "    </tr>\n",
       "    <tr>\n",
       "      <td>1</td>\n",
       "      <td>45</td>\n",
       "      <td>1</td>\n",
       "      <td>0</td>\n",
       "      <td>0</td>\n",
       "      <td>0</td>\n",
       "      <td>0</td>\n",
       "      <td>1</td>\n",
       "      <td>0</td>\n",
       "      <td>0</td>\n",
       "      <td>0</td>\n",
       "      <td>0</td>\n",
       "      <td>0</td>\n",
       "      <td>0</td>\n",
       "      <td>0</td>\n",
       "      <td>0</td>\n",
       "      <td>1</td>\n",
       "    </tr>\n",
       "    <tr>\n",
       "      <td>2</td>\n",
       "      <td>25</td>\n",
       "      <td>1</td>\n",
       "      <td>0</td>\n",
       "      <td>0</td>\n",
       "      <td>1</td>\n",
       "      <td>0</td>\n",
       "      <td>1</td>\n",
       "      <td>0</td>\n",
       "      <td>0</td>\n",
       "      <td>0</td>\n",
       "      <td>0</td>\n",
       "      <td>0</td>\n",
       "      <td>1</td>\n",
       "      <td>0</td>\n",
       "      <td>0</td>\n",
       "      <td>1</td>\n",
       "    </tr>\n",
       "    <tr>\n",
       "      <td>3</td>\n",
       "      <td>45</td>\n",
       "      <td>1</td>\n",
       "      <td>0</td>\n",
       "      <td>0</td>\n",
       "      <td>1</td>\n",
       "      <td>0</td>\n",
       "      <td>1</td>\n",
       "      <td>0</td>\n",
       "      <td>0</td>\n",
       "      <td>0</td>\n",
       "      <td>0</td>\n",
       "      <td>0</td>\n",
       "      <td>0</td>\n",
       "      <td>0</td>\n",
       "      <td>0</td>\n",
       "      <td>1</td>\n",
       "    </tr>\n",
       "    <tr>\n",
       "      <td>4</td>\n",
       "      <td>85</td>\n",
       "      <td>1</td>\n",
       "      <td>0</td>\n",
       "      <td>0</td>\n",
       "      <td>0</td>\n",
       "      <td>0</td>\n",
       "      <td>1</td>\n",
       "      <td>0</td>\n",
       "      <td>0</td>\n",
       "      <td>0</td>\n",
       "      <td>0</td>\n",
       "      <td>0</td>\n",
       "      <td>0</td>\n",
       "      <td>0</td>\n",
       "      <td>0</td>\n",
       "      <td>1</td>\n",
       "    </tr>\n",
       "    <tr>\n",
       "      <td>...</td>\n",
       "      <td>...</td>\n",
       "      <td>...</td>\n",
       "      <td>...</td>\n",
       "      <td>...</td>\n",
       "      <td>...</td>\n",
       "      <td>...</td>\n",
       "      <td>...</td>\n",
       "      <td>...</td>\n",
       "      <td>...</td>\n",
       "      <td>...</td>\n",
       "      <td>...</td>\n",
       "      <td>...</td>\n",
       "      <td>...</td>\n",
       "      <td>...</td>\n",
       "      <td>...</td>\n",
       "      <td>...</td>\n",
       "    </tr>\n",
       "    <tr>\n",
       "      <td>1572</td>\n",
       "      <td>65</td>\n",
       "      <td>1</td>\n",
       "      <td>0</td>\n",
       "      <td>0</td>\n",
       "      <td>1</td>\n",
       "      <td>0</td>\n",
       "      <td>0</td>\n",
       "      <td>0</td>\n",
       "      <td>0</td>\n",
       "      <td>0</td>\n",
       "      <td>0</td>\n",
       "      <td>0</td>\n",
       "      <td>0</td>\n",
       "      <td>0</td>\n",
       "      <td>0</td>\n",
       "      <td>1</td>\n",
       "    </tr>\n",
       "    <tr>\n",
       "      <td>1573</td>\n",
       "      <td>45</td>\n",
       "      <td>1</td>\n",
       "      <td>0</td>\n",
       "      <td>0</td>\n",
       "      <td>0</td>\n",
       "      <td>0</td>\n",
       "      <td>0</td>\n",
       "      <td>0</td>\n",
       "      <td>0</td>\n",
       "      <td>0</td>\n",
       "      <td>0</td>\n",
       "      <td>0</td>\n",
       "      <td>0</td>\n",
       "      <td>0</td>\n",
       "      <td>0</td>\n",
       "      <td>1</td>\n",
       "    </tr>\n",
       "    <tr>\n",
       "      <td>1574</td>\n",
       "      <td>35</td>\n",
       "      <td>1</td>\n",
       "      <td>1</td>\n",
       "      <td>0</td>\n",
       "      <td>1</td>\n",
       "      <td>0</td>\n",
       "      <td>1</td>\n",
       "      <td>0</td>\n",
       "      <td>0</td>\n",
       "      <td>0</td>\n",
       "      <td>0</td>\n",
       "      <td>0</td>\n",
       "      <td>0</td>\n",
       "      <td>0</td>\n",
       "      <td>0</td>\n",
       "      <td>1</td>\n",
       "    </tr>\n",
       "    <tr>\n",
       "      <td>1575</td>\n",
       "      <td>65</td>\n",
       "      <td>1</td>\n",
       "      <td>0</td>\n",
       "      <td>0</td>\n",
       "      <td>1</td>\n",
       "      <td>0</td>\n",
       "      <td>0</td>\n",
       "      <td>0</td>\n",
       "      <td>0</td>\n",
       "      <td>0</td>\n",
       "      <td>0</td>\n",
       "      <td>0</td>\n",
       "      <td>0</td>\n",
       "      <td>0</td>\n",
       "      <td>0</td>\n",
       "      <td>1</td>\n",
       "    </tr>\n",
       "    <tr>\n",
       "      <td>1576</td>\n",
       "      <td>39</td>\n",
       "      <td>0</td>\n",
       "      <td>0</td>\n",
       "      <td>0</td>\n",
       "      <td>0</td>\n",
       "      <td>0</td>\n",
       "      <td>0</td>\n",
       "      <td>0</td>\n",
       "      <td>0</td>\n",
       "      <td>0</td>\n",
       "      <td>0</td>\n",
       "      <td>0</td>\n",
       "      <td>0</td>\n",
       "      <td>0</td>\n",
       "      <td>0</td>\n",
       "      <td>1</td>\n",
       "    </tr>\n",
       "  </tbody>\n",
       "</table>\n",
       "<p>1577 rows × 16 columns</p>\n",
       "</div>"
      ],
      "text/plain": [
       "      age  sex  chronic_disease_binary  asymptomatic  cough  fatigue  fever  \\\n",
       "0      60    1                       0             0      0        0      1   \n",
       "1      45    1                       0             0      0        0      1   \n",
       "2      25    1                       0             0      1        0      1   \n",
       "3      45    1                       0             0      1        0      1   \n",
       "4      85    1                       0             0      0        0      1   \n",
       "...   ...  ...                     ...           ...    ...      ...    ...   \n",
       "1572   65    1                       0             0      1        0      0   \n",
       "1573   45    1                       0             0      0        0      0   \n",
       "1574   35    1                       1             0      1        0      1   \n",
       "1575   65    1                       0             0      1        0      0   \n",
       "1576   39    0                       0             0      0        0      0   \n",
       "\n",
       "      headache  malaise  pneumonia  respiratory problems  runny nose  \\\n",
       "0            0        0          1                     0           0   \n",
       "1            0        0          0                     0           0   \n",
       "2            0        0          0                     0           0   \n",
       "3            0        0          0                     0           0   \n",
       "4            0        0          0                     0           0   \n",
       "...        ...      ...        ...                   ...         ...   \n",
       "1572         0        0          0                     0           0   \n",
       "1573         0        0          0                     0           0   \n",
       "1574         0        0          0                     0           0   \n",
       "1575         0        0          0                     0           0   \n",
       "1576         0        0          0                     0           0   \n",
       "\n",
       "      sore throat  diabetes  hypertension  outcome  \n",
       "0               0         0             0        1  \n",
       "1               0         0             0        1  \n",
       "2               1         0             0        1  \n",
       "3               0         0             0        1  \n",
       "4               0         0             0        1  \n",
       "...           ...       ...           ...      ...  \n",
       "1572            0         0             0        1  \n",
       "1573            0         0             0        1  \n",
       "1574            0         0             0        1  \n",
       "1575            0         0             0        1  \n",
       "1576            0         0             0        1  \n",
       "\n",
       "[1577 rows x 16 columns]"
      ]
     },
     "execution_count": 4,
     "metadata": {},
     "output_type": "execute_result"
    }
   ],
   "source": [
    "df"
   ]
  },
  {
   "cell_type": "markdown",
   "metadata": {},
   "source": [
    "##  1. Calculez les corrélations entre les variables. Quelles sont les variables les plus corrélées avec la cible (‘result’)? Expliquez les résultats."
   ]
  },
  {
   "cell_type": "code",
   "execution_count": 5,
   "metadata": {},
   "outputs": [
    {
     "data": {
      "text/html": [
       "<div>\n",
       "<style scoped>\n",
       "    .dataframe tbody tr th:only-of-type {\n",
       "        vertical-align: middle;\n",
       "    }\n",
       "\n",
       "    .dataframe tbody tr th {\n",
       "        vertical-align: top;\n",
       "    }\n",
       "\n",
       "    .dataframe thead th {\n",
       "        text-align: right;\n",
       "    }\n",
       "</style>\n",
       "<table border=\"1\" class=\"dataframe\">\n",
       "  <thead>\n",
       "    <tr style=\"text-align: right;\">\n",
       "      <th></th>\n",
       "      <th>age</th>\n",
       "      <th>sex</th>\n",
       "      <th>chronic_disease_binary</th>\n",
       "      <th>asymptomatic</th>\n",
       "      <th>cough</th>\n",
       "      <th>fatigue</th>\n",
       "      <th>fever</th>\n",
       "      <th>headache</th>\n",
       "      <th>malaise</th>\n",
       "      <th>pneumonia</th>\n",
       "      <th>respiratory problems</th>\n",
       "      <th>runny nose</th>\n",
       "      <th>sore throat</th>\n",
       "      <th>diabetes</th>\n",
       "      <th>hypertension</th>\n",
       "      <th>outcome</th>\n",
       "    </tr>\n",
       "  </thead>\n",
       "  <tbody>\n",
       "    <tr>\n",
       "      <td>age</td>\n",
       "      <td>1.000000</td>\n",
       "      <td>0.074035</td>\n",
       "      <td>0.269721</td>\n",
       "      <td>-0.092924</td>\n",
       "      <td>0.024976</td>\n",
       "      <td>0.075835</td>\n",
       "      <td>-0.036621</td>\n",
       "      <td>-0.075039</td>\n",
       "      <td>0.042810</td>\n",
       "      <td>0.182647</td>\n",
       "      <td>0.151409</td>\n",
       "      <td>-0.088150</td>\n",
       "      <td>-0.071339</td>\n",
       "      <td>0.191144</td>\n",
       "      <td>0.246387</td>\n",
       "      <td>-0.296449</td>\n",
       "    </tr>\n",
       "    <tr>\n",
       "      <td>sex</td>\n",
       "      <td>0.074035</td>\n",
       "      <td>1.000000</td>\n",
       "      <td>0.070941</td>\n",
       "      <td>-0.015488</td>\n",
       "      <td>-0.024624</td>\n",
       "      <td>-0.028209</td>\n",
       "      <td>0.017434</td>\n",
       "      <td>-0.020835</td>\n",
       "      <td>0.049048</td>\n",
       "      <td>0.063021</td>\n",
       "      <td>0.022867</td>\n",
       "      <td>-0.047703</td>\n",
       "      <td>-0.054563</td>\n",
       "      <td>0.060789</td>\n",
       "      <td>0.046194</td>\n",
       "      <td>-0.082325</td>\n",
       "    </tr>\n",
       "    <tr>\n",
       "      <td>chronic_disease_binary</td>\n",
       "      <td>0.269721</td>\n",
       "      <td>0.070941</td>\n",
       "      <td>1.000000</td>\n",
       "      <td>-0.053872</td>\n",
       "      <td>-0.052710</td>\n",
       "      <td>-0.030147</td>\n",
       "      <td>-0.172809</td>\n",
       "      <td>-0.050477</td>\n",
       "      <td>-0.052212</td>\n",
       "      <td>0.518432</td>\n",
       "      <td>0.482077</td>\n",
       "      <td>-0.047538</td>\n",
       "      <td>-0.016424</td>\n",
       "      <td>0.656456</td>\n",
       "      <td>0.757860</td>\n",
       "      <td>-0.728110</td>\n",
       "    </tr>\n",
       "    <tr>\n",
       "      <td>asymptomatic</td>\n",
       "      <td>-0.092924</td>\n",
       "      <td>-0.015488</td>\n",
       "      <td>-0.053872</td>\n",
       "      <td>1.000000</td>\n",
       "      <td>-0.130809</td>\n",
       "      <td>-0.039694</td>\n",
       "      <td>-0.194426</td>\n",
       "      <td>-0.038509</td>\n",
       "      <td>-0.032391</td>\n",
       "      <td>-0.048326</td>\n",
       "      <td>-0.043363</td>\n",
       "      <td>-0.029492</td>\n",
       "      <td>-0.050060</td>\n",
       "      <td>-0.036671</td>\n",
       "      <td>-0.041982</td>\n",
       "      <td>0.056613</td>\n",
       "    </tr>\n",
       "    <tr>\n",
       "      <td>cough</td>\n",
       "      <td>0.024976</td>\n",
       "      <td>-0.024624</td>\n",
       "      <td>-0.052710</td>\n",
       "      <td>-0.130809</td>\n",
       "      <td>1.000000</td>\n",
       "      <td>-0.019657</td>\n",
       "      <td>0.168018</td>\n",
       "      <td>0.015364</td>\n",
       "      <td>-0.001978</td>\n",
       "      <td>-0.156608</td>\n",
       "      <td>-0.127954</td>\n",
       "      <td>0.055013</td>\n",
       "      <td>0.046038</td>\n",
       "      <td>-0.067095</td>\n",
       "      <td>-0.102893</td>\n",
       "      <td>0.093553</td>\n",
       "    </tr>\n",
       "    <tr>\n",
       "      <td>fatigue</td>\n",
       "      <td>0.075835</td>\n",
       "      <td>-0.028209</td>\n",
       "      <td>-0.030147</td>\n",
       "      <td>-0.039694</td>\n",
       "      <td>-0.019657</td>\n",
       "      <td>1.000000</td>\n",
       "      <td>0.020323</td>\n",
       "      <td>-0.000250</td>\n",
       "      <td>-0.038471</td>\n",
       "      <td>-0.057397</td>\n",
       "      <td>-0.051502</td>\n",
       "      <td>-0.035028</td>\n",
       "      <td>0.036587</td>\n",
       "      <td>-0.011836</td>\n",
       "      <td>-0.021824</td>\n",
       "      <td>-0.008516</td>\n",
       "    </tr>\n",
       "    <tr>\n",
       "      <td>fever</td>\n",
       "      <td>-0.036621</td>\n",
       "      <td>0.017434</td>\n",
       "      <td>-0.172809</td>\n",
       "      <td>-0.194426</td>\n",
       "      <td>0.168018</td>\n",
       "      <td>0.020323</td>\n",
       "      <td>1.000000</td>\n",
       "      <td>-0.003531</td>\n",
       "      <td>-0.099677</td>\n",
       "      <td>-0.188569</td>\n",
       "      <td>-0.201340</td>\n",
       "      <td>0.030465</td>\n",
       "      <td>-0.026851</td>\n",
       "      <td>-0.127674</td>\n",
       "      <td>-0.162685</td>\n",
       "      <td>0.171968</td>\n",
       "    </tr>\n",
       "    <tr>\n",
       "      <td>headache</td>\n",
       "      <td>-0.075039</td>\n",
       "      <td>-0.020835</td>\n",
       "      <td>-0.050477</td>\n",
       "      <td>-0.038509</td>\n",
       "      <td>0.015364</td>\n",
       "      <td>-0.000250</td>\n",
       "      <td>-0.003531</td>\n",
       "      <td>1.000000</td>\n",
       "      <td>0.182293</td>\n",
       "      <td>-0.030234</td>\n",
       "      <td>-0.049964</td>\n",
       "      <td>0.065998</td>\n",
       "      <td>0.127453</td>\n",
       "      <td>-0.025950</td>\n",
       "      <td>-0.033961</td>\n",
       "      <td>0.054106</td>\n",
       "    </tr>\n",
       "    <tr>\n",
       "      <td>malaise</td>\n",
       "      <td>0.042810</td>\n",
       "      <td>0.049048</td>\n",
       "      <td>-0.052212</td>\n",
       "      <td>-0.032391</td>\n",
       "      <td>-0.001978</td>\n",
       "      <td>-0.038471</td>\n",
       "      <td>-0.099677</td>\n",
       "      <td>0.182293</td>\n",
       "      <td>1.000000</td>\n",
       "      <td>0.012922</td>\n",
       "      <td>-0.042027</td>\n",
       "      <td>-0.028583</td>\n",
       "      <td>0.009446</td>\n",
       "      <td>-0.035541</td>\n",
       "      <td>-0.040689</td>\n",
       "      <td>0.054869</td>\n",
       "    </tr>\n",
       "    <tr>\n",
       "      <td>pneumonia</td>\n",
       "      <td>0.182647</td>\n",
       "      <td>0.063021</td>\n",
       "      <td>0.518432</td>\n",
       "      <td>-0.048326</td>\n",
       "      <td>-0.156608</td>\n",
       "      <td>-0.057397</td>\n",
       "      <td>-0.188569</td>\n",
       "      <td>-0.030234</td>\n",
       "      <td>0.012922</td>\n",
       "      <td>1.000000</td>\n",
       "      <td>0.451587</td>\n",
       "      <td>-0.042644</td>\n",
       "      <td>-0.052235</td>\n",
       "      <td>0.412794</td>\n",
       "      <td>0.539314</td>\n",
       "      <td>-0.517568</td>\n",
       "    </tr>\n",
       "    <tr>\n",
       "      <td>respiratory problems</td>\n",
       "      <td>0.151409</td>\n",
       "      <td>0.022867</td>\n",
       "      <td>0.482077</td>\n",
       "      <td>-0.043363</td>\n",
       "      <td>-0.127954</td>\n",
       "      <td>-0.051502</td>\n",
       "      <td>-0.201340</td>\n",
       "      <td>-0.049964</td>\n",
       "      <td>-0.042027</td>\n",
       "      <td>0.451587</td>\n",
       "      <td>1.000000</td>\n",
       "      <td>-0.038265</td>\n",
       "      <td>-0.064952</td>\n",
       "      <td>0.377084</td>\n",
       "      <td>0.411539</td>\n",
       "      <td>-0.506135</td>\n",
       "    </tr>\n",
       "    <tr>\n",
       "      <td>runny nose</td>\n",
       "      <td>-0.088150</td>\n",
       "      <td>-0.047703</td>\n",
       "      <td>-0.047538</td>\n",
       "      <td>-0.029492</td>\n",
       "      <td>0.055013</td>\n",
       "      <td>-0.035028</td>\n",
       "      <td>0.030465</td>\n",
       "      <td>0.065998</td>\n",
       "      <td>-0.028583</td>\n",
       "      <td>-0.042644</td>\n",
       "      <td>-0.038265</td>\n",
       "      <td>1.000000</td>\n",
       "      <td>0.050821</td>\n",
       "      <td>-0.032360</td>\n",
       "      <td>-0.037047</td>\n",
       "      <td>0.049958</td>\n",
       "    </tr>\n",
       "    <tr>\n",
       "      <td>sore throat</td>\n",
       "      <td>-0.071339</td>\n",
       "      <td>-0.054563</td>\n",
       "      <td>-0.016424</td>\n",
       "      <td>-0.050060</td>\n",
       "      <td>0.046038</td>\n",
       "      <td>0.036587</td>\n",
       "      <td>-0.026851</td>\n",
       "      <td>0.127453</td>\n",
       "      <td>0.009446</td>\n",
       "      <td>-0.052235</td>\n",
       "      <td>-0.064952</td>\n",
       "      <td>0.050821</td>\n",
       "      <td>1.000000</td>\n",
       "      <td>-0.029110</td>\n",
       "      <td>-0.051472</td>\n",
       "      <td>0.067180</td>\n",
       "    </tr>\n",
       "    <tr>\n",
       "      <td>diabetes</td>\n",
       "      <td>0.191144</td>\n",
       "      <td>0.060789</td>\n",
       "      <td>0.656456</td>\n",
       "      <td>-0.036671</td>\n",
       "      <td>-0.067095</td>\n",
       "      <td>-0.011836</td>\n",
       "      <td>-0.127674</td>\n",
       "      <td>-0.025950</td>\n",
       "      <td>-0.035541</td>\n",
       "      <td>0.412794</td>\n",
       "      <td>0.377084</td>\n",
       "      <td>-0.032360</td>\n",
       "      <td>-0.029110</td>\n",
       "      <td>1.000000</td>\n",
       "      <td>0.617220</td>\n",
       "      <td>-0.554651</td>\n",
       "    </tr>\n",
       "    <tr>\n",
       "      <td>hypertension</td>\n",
       "      <td>0.246387</td>\n",
       "      <td>0.046194</td>\n",
       "      <td>0.757860</td>\n",
       "      <td>-0.041982</td>\n",
       "      <td>-0.102893</td>\n",
       "      <td>-0.021824</td>\n",
       "      <td>-0.162685</td>\n",
       "      <td>-0.033961</td>\n",
       "      <td>-0.040689</td>\n",
       "      <td>0.539314</td>\n",
       "      <td>0.411539</td>\n",
       "      <td>-0.037047</td>\n",
       "      <td>-0.051472</td>\n",
       "      <td>0.617220</td>\n",
       "      <td>1.000000</td>\n",
       "      <td>-0.659267</td>\n",
       "    </tr>\n",
       "    <tr>\n",
       "      <td>outcome</td>\n",
       "      <td>-0.296449</td>\n",
       "      <td>-0.082325</td>\n",
       "      <td>-0.728110</td>\n",
       "      <td>0.056613</td>\n",
       "      <td>0.093553</td>\n",
       "      <td>-0.008516</td>\n",
       "      <td>0.171968</td>\n",
       "      <td>0.054106</td>\n",
       "      <td>0.054869</td>\n",
       "      <td>-0.517568</td>\n",
       "      <td>-0.506135</td>\n",
       "      <td>0.049958</td>\n",
       "      <td>0.067180</td>\n",
       "      <td>-0.554651</td>\n",
       "      <td>-0.659267</td>\n",
       "      <td>1.000000</td>\n",
       "    </tr>\n",
       "  </tbody>\n",
       "</table>\n",
       "</div>"
      ],
      "text/plain": [
       "                             age       sex  chronic_disease_binary  \\\n",
       "age                     1.000000  0.074035                0.269721   \n",
       "sex                     0.074035  1.000000                0.070941   \n",
       "chronic_disease_binary  0.269721  0.070941                1.000000   \n",
       "asymptomatic           -0.092924 -0.015488               -0.053872   \n",
       "cough                   0.024976 -0.024624               -0.052710   \n",
       "fatigue                 0.075835 -0.028209               -0.030147   \n",
       "fever                  -0.036621  0.017434               -0.172809   \n",
       "headache               -0.075039 -0.020835               -0.050477   \n",
       "malaise                 0.042810  0.049048               -0.052212   \n",
       "pneumonia               0.182647  0.063021                0.518432   \n",
       "respiratory problems    0.151409  0.022867                0.482077   \n",
       "runny nose             -0.088150 -0.047703               -0.047538   \n",
       "sore throat            -0.071339 -0.054563               -0.016424   \n",
       "diabetes                0.191144  0.060789                0.656456   \n",
       "hypertension            0.246387  0.046194                0.757860   \n",
       "outcome                -0.296449 -0.082325               -0.728110   \n",
       "\n",
       "                        asymptomatic     cough   fatigue     fever  headache  \\\n",
       "age                        -0.092924  0.024976  0.075835 -0.036621 -0.075039   \n",
       "sex                        -0.015488 -0.024624 -0.028209  0.017434 -0.020835   \n",
       "chronic_disease_binary     -0.053872 -0.052710 -0.030147 -0.172809 -0.050477   \n",
       "asymptomatic                1.000000 -0.130809 -0.039694 -0.194426 -0.038509   \n",
       "cough                      -0.130809  1.000000 -0.019657  0.168018  0.015364   \n",
       "fatigue                    -0.039694 -0.019657  1.000000  0.020323 -0.000250   \n",
       "fever                      -0.194426  0.168018  0.020323  1.000000 -0.003531   \n",
       "headache                   -0.038509  0.015364 -0.000250 -0.003531  1.000000   \n",
       "malaise                    -0.032391 -0.001978 -0.038471 -0.099677  0.182293   \n",
       "pneumonia                  -0.048326 -0.156608 -0.057397 -0.188569 -0.030234   \n",
       "respiratory problems       -0.043363 -0.127954 -0.051502 -0.201340 -0.049964   \n",
       "runny nose                 -0.029492  0.055013 -0.035028  0.030465  0.065998   \n",
       "sore throat                -0.050060  0.046038  0.036587 -0.026851  0.127453   \n",
       "diabetes                   -0.036671 -0.067095 -0.011836 -0.127674 -0.025950   \n",
       "hypertension               -0.041982 -0.102893 -0.021824 -0.162685 -0.033961   \n",
       "outcome                     0.056613  0.093553 -0.008516  0.171968  0.054106   \n",
       "\n",
       "                         malaise  pneumonia  respiratory problems  runny nose  \\\n",
       "age                     0.042810   0.182647              0.151409   -0.088150   \n",
       "sex                     0.049048   0.063021              0.022867   -0.047703   \n",
       "chronic_disease_binary -0.052212   0.518432              0.482077   -0.047538   \n",
       "asymptomatic           -0.032391  -0.048326             -0.043363   -0.029492   \n",
       "cough                  -0.001978  -0.156608             -0.127954    0.055013   \n",
       "fatigue                -0.038471  -0.057397             -0.051502   -0.035028   \n",
       "fever                  -0.099677  -0.188569             -0.201340    0.030465   \n",
       "headache                0.182293  -0.030234             -0.049964    0.065998   \n",
       "malaise                 1.000000   0.012922             -0.042027   -0.028583   \n",
       "pneumonia               0.012922   1.000000              0.451587   -0.042644   \n",
       "respiratory problems   -0.042027   0.451587              1.000000   -0.038265   \n",
       "runny nose             -0.028583  -0.042644             -0.038265    1.000000   \n",
       "sore throat             0.009446  -0.052235             -0.064952    0.050821   \n",
       "diabetes               -0.035541   0.412794              0.377084   -0.032360   \n",
       "hypertension           -0.040689   0.539314              0.411539   -0.037047   \n",
       "outcome                 0.054869  -0.517568             -0.506135    0.049958   \n",
       "\n",
       "                        sore throat  diabetes  hypertension   outcome  \n",
       "age                       -0.071339  0.191144      0.246387 -0.296449  \n",
       "sex                       -0.054563  0.060789      0.046194 -0.082325  \n",
       "chronic_disease_binary    -0.016424  0.656456      0.757860 -0.728110  \n",
       "asymptomatic              -0.050060 -0.036671     -0.041982  0.056613  \n",
       "cough                      0.046038 -0.067095     -0.102893  0.093553  \n",
       "fatigue                    0.036587 -0.011836     -0.021824 -0.008516  \n",
       "fever                     -0.026851 -0.127674     -0.162685  0.171968  \n",
       "headache                   0.127453 -0.025950     -0.033961  0.054106  \n",
       "malaise                    0.009446 -0.035541     -0.040689  0.054869  \n",
       "pneumonia                 -0.052235  0.412794      0.539314 -0.517568  \n",
       "respiratory problems      -0.064952  0.377084      0.411539 -0.506135  \n",
       "runny nose                 0.050821 -0.032360     -0.037047  0.049958  \n",
       "sore throat                1.000000 -0.029110     -0.051472  0.067180  \n",
       "diabetes                  -0.029110  1.000000      0.617220 -0.554651  \n",
       "hypertension              -0.051472  0.617220      1.000000 -0.659267  \n",
       "outcome                    0.067180 -0.554651     -0.659267  1.000000  "
      ]
     },
     "execution_count": 5,
     "metadata": {},
     "output_type": "execute_result"
    }
   ],
   "source": [
    "df.corr()"
   ]
  },
  {
   "cell_type": "code",
   "execution_count": 6,
   "metadata": {},
   "outputs": [
    {
     "data": {
      "text/plain": [
       "<matplotlib.axes._subplots.AxesSubplot at 0x2702504b808>"
      ]
     },
     "execution_count": 6,
     "metadata": {},
     "output_type": "execute_result"
    },
    {
     "data": {
      "image/png": "[encoded data removed]",
      "text/plain": [
       "<Figure size 432x288 with 2 Axes>"
      ]
     },
     "metadata": {
      "needs_background": "light"
     },
     "output_type": "display_data"
    }
   ],
   "source": [
    "import seaborn as sns\n",
    "%matplotlib inline\n",
    "\n",
    "# calculate the correlation matrix\n",
    "corr = df.corr()\n",
    "\n",
    "# plot the heatmap\n",
    "sns.heatmap(corr, \n",
    "        xticklabels=corr.columns,\n",
    "        yticklabels=corr.columns)"
   ]
  },
  {
   "cell_type": "markdown",
   "metadata": {},
   "source": [
    "#### On peut remarquer que les variables 'chronic_disease_binary' et 'hypertension' sont les plus corrélées avec la cible ('result') ou ('outcome'), cela signifie que nous avons un lien et une dépendance entre ces variables et la variable cible de notre jeu de données"
   ]
  },
  {
   "cell_type": "markdown",
   "metadata": {},
   "source": [
    "## 2. Visualisez les données en deux dimensions en passant par l’ACP (analyse en composantes principales). Pouvez-vous utiliser une autre méthode ? "
   ]
  },
  {
   "cell_type": "markdown",
   "metadata": {},
   "source": [
    "#### Nous allons commencer par ACP\n"
   ]
  },
  {
   "cell_type": "code",
   "execution_count": 7,
   "metadata": {},
   "outputs": [],
   "source": [
    "X = df[['age','sex','chronic_disease_binary','asymptomatic','cough','fatigue','fever','headache','malaise','pneumonia','respiratory problems','runny nose','sore throat','diabetes','hypertension']]\n",
    "Y = df['outcome']\n",
    "\n",
    "#cols = df.columns.tolist()\n",
    "#X = df[cols[0:15]]\n",
    "#Y = df[cols[15:16]]"
   ]
  },
  {
   "cell_type": "code",
   "execution_count": 8,
   "metadata": {},
   "outputs": [],
   "source": [
    "from sklearn.decomposition import PCA\n",
    "from sklearn.discriminant_analysis import LinearDiscriminantAnalysis\n",
    "\n",
    "pca = PCA(n_components=2)\n",
    "princ_pca = pca.fit(X).transform(X)\n",
    "\n",
    "lda = LinearDiscriminantAnalysis(n_components=1)\n",
    "princ_lda = lda.fit(X, Y).transform(X)"
   ]
  },
  {
   "cell_type": "markdown",
   "metadata": {},
   "source": [
    "#### Pour la méthode LDA, elle utilise au maximum (n_classes - 1) colonnes. Il s'agit du nombre maximum de colonnes que nous voulons obtenir. Dans notre cas, nous avons 2 classes ('Dead: 0', 'Discharged: 1'), donc nous obtiendrons un maximum de 1 colonne."
   ]
  },
  {
   "cell_type": "code",
   "execution_count": 9,
   "metadata": {},
   "outputs": [],
   "source": [
    "principal_Df_PCA = pd.DataFrame(data = princ_pca\n",
    "                     , columns = ['principal component 1', 'principal component 2'])\n",
    "\n",
    "principal_Df_LDA = pd.DataFrame(data = princ_lda\n",
    "                     , columns = ['principal component 1'])"
   ]
  },
  {
   "cell_type": "code",
   "execution_count": 10,
   "metadata": {},
   "outputs": [
    {
     "data": {
      "text/html": [
       "<div>\n",
       "<style scoped>\n",
       "    .dataframe tbody tr th:only-of-type {\n",
       "        vertical-align: middle;\n",
       "    }\n",
       "\n",
       "    .dataframe tbody tr th {\n",
       "        vertical-align: top;\n",
       "    }\n",
       "\n",
       "    .dataframe thead th {\n",
       "        text-align: right;\n",
       "    }\n",
       "</style>\n",
       "<table border=\"1\" class=\"dataframe\">\n",
       "  <thead>\n",
       "    <tr style=\"text-align: right;\">\n",
       "      <th></th>\n",
       "      <th>principal component 1</th>\n",
       "      <th>principal component 2</th>\n",
       "    </tr>\n",
       "  </thead>\n",
       "  <tbody>\n",
       "    <tr>\n",
       "      <td>0</td>\n",
       "      <td>-9.741707</td>\n",
       "      <td>-0.040233</td>\n",
       "    </tr>\n",
       "    <tr>\n",
       "      <td>1</td>\n",
       "      <td>5.260392</td>\n",
       "      <td>-0.179588</td>\n",
       "    </tr>\n",
       "    <tr>\n",
       "      <td>2</td>\n",
       "      <td>25.260267</td>\n",
       "      <td>-0.684727</td>\n",
       "    </tr>\n",
       "    <tr>\n",
       "      <td>3</td>\n",
       "      <td>5.259751</td>\n",
       "      <td>-0.725725</td>\n",
       "    </tr>\n",
       "    <tr>\n",
       "      <td>4</td>\n",
       "      <td>-34.738667</td>\n",
       "      <td>-0.279784</td>\n",
       "    </tr>\n",
       "  </tbody>\n",
       "</table>\n",
       "</div>"
      ],
      "text/plain": [
       "   principal component 1  principal component 2\n",
       "0              -9.741707              -0.040233\n",
       "1               5.260392              -0.179588\n",
       "2              25.260267              -0.684727\n",
       "3               5.259751              -0.725725\n",
       "4             -34.738667              -0.279784"
      ]
     },
     "execution_count": 10,
     "metadata": {},
     "output_type": "execute_result"
    }
   ],
   "source": [
    "principal_Df_PCA.head()"
   ]
  },
  {
   "cell_type": "code",
   "execution_count": 11,
   "metadata": {},
   "outputs": [
    {
     "data": {
      "text/html": [
       "<div>\n",
       "<style scoped>\n",
       "    .dataframe tbody tr th:only-of-type {\n",
       "        vertical-align: middle;\n",
       "    }\n",
       "\n",
       "    .dataframe tbody tr th {\n",
       "        vertical-align: top;\n",
       "    }\n",
       "\n",
       "    .dataframe thead th {\n",
       "        text-align: right;\n",
       "    }\n",
       "</style>\n",
       "<table border=\"1\" class=\"dataframe\">\n",
       "  <thead>\n",
       "    <tr style=\"text-align: right;\">\n",
       "      <th></th>\n",
       "      <th>principal component 1</th>\n",
       "    </tr>\n",
       "  </thead>\n",
       "  <tbody>\n",
       "    <tr>\n",
       "      <td>0</td>\n",
       "      <td>-0.486583</td>\n",
       "    </tr>\n",
       "    <tr>\n",
       "      <td>1</td>\n",
       "      <td>0.479503</td>\n",
       "    </tr>\n",
       "    <tr>\n",
       "      <td>2</td>\n",
       "      <td>0.957996</td>\n",
       "    </tr>\n",
       "    <tr>\n",
       "      <td>3</td>\n",
       "      <td>0.537840</td>\n",
       "    </tr>\n",
       "    <tr>\n",
       "      <td>4</td>\n",
       "      <td>0.098562</td>\n",
       "    </tr>\n",
       "  </tbody>\n",
       "</table>\n",
       "</div>"
      ],
      "text/plain": [
       "   principal component 1\n",
       "0              -0.486583\n",
       "1               0.479503\n",
       "2               0.957996\n",
       "3               0.537840\n",
       "4               0.098562"
      ]
     },
     "execution_count": 11,
     "metadata": {},
     "output_type": "execute_result"
    }
   ],
   "source": [
    "principal_Df_LDA.head()"
   ]
  },
  {
   "cell_type": "code",
   "execution_count": 12,
   "metadata": {},
   "outputs": [
    {
     "data": {
      "text/plain": [
       "<Figure size 432x288 with 0 Axes>"
      ]
     },
     "metadata": {},
     "output_type": "display_data"
    },
    {
     "data": {
      "image/png": "[encoded data removed]",
      "text/plain": [
       "<Figure size 720x720 with 1 Axes>"
      ]
     },
     "metadata": {
      "needs_background": "light"
     },
     "output_type": "display_data"
    }
   ],
   "source": [
    "import matplotlib.pyplot as plt\n",
    "\n",
    "plt.figure()\n",
    "plt.figure(figsize=(10,10))\n",
    "plt.xticks(fontsize=12)\n",
    "plt.yticks(fontsize=14)\n",
    "plt.xlabel('Principal Component - 1',fontsize=20)\n",
    "plt.ylabel('Principal Component - 2',fontsize=20)\n",
    "plt.title(\"Principal Component Analysis of Dataset\",fontsize=20)\n",
    "\n",
    "colors = ['g', 'r', 'darkorange']\n",
    "lw = 2\n",
    "\n",
    "for color, i, target_name in zip(colors, [0, 1, 2], [0, 1]):\n",
    "    plt.scatter(princ_pca[Y == i, 0], princ_pca[Y == i, 1], color=color, alpha=.8, lw=lw,\n",
    "                label=[0, 1])\n",
    "plt.legend(loc='best', shadow=False, scatterpoints=1)\n",
    "plt.title('PCA of dataset')\n",
    "\n",
    "plt.legend(['Discharged','died'],prop={'size': 15})\n",
    "plt.show()"
   ]
  },
  {
   "cell_type": "markdown",
   "metadata": {},
   "source": [
    "### Dans la suite, nous utilisons une méthode d'apprentissage automatique afin de prédire la classe : les patients sont soit «décédés» (‘died’) soit «sortis» (‘discharged’) de l'hôpital. Vous pouvez utiliser la classification par K-Nearest Neighbours (K-NN), l’arbre de decision ou le classificateur Bayes "
   ]
  },
  {
   "cell_type": "markdown",
   "metadata": {},
   "source": [
    "##  3. Les résultats obtenus doivent être validés en utilisant certains indices externes comme l’erreur de prédiction (matrice de confusion et précision) ou d'autres comme Rappel, F-Measure, …"
   ]
  },
  {
   "cell_type": "code",
   "execution_count": 13,
   "metadata": {},
   "outputs": [],
   "source": [
    "X = df[['age','sex','chronic_disease_binary','asymptomatic','cough','fatigue','fever','headache','malaise','pneumonia','respiratory problems','runny nose','sore throat','diabetes','hypertension']]\n",
    "Y = df['outcome']"
   ]
  },
  {
   "cell_type": "markdown",
   "metadata": {},
   "source": [
    "# K-Nearest Neighbours (K-NN)"
   ]
  },
  {
   "cell_type": "markdown",
   "metadata": {},
   "source": [
    "### Créer une fonction qui cherche le meilleur k"
   ]
  },
  {
   "cell_type": "code",
   "execution_count": 26,
   "metadata": {},
   "outputs": [],
   "source": [
    "from sklearn.model_selection import train_test_split\n",
    "import numpy as np\n",
    "import random\n",
    "from tqdm import tqdm\n",
    "from sklearn.neighbors import KNeighborsClassifier\n",
    "\n",
    "def bestK_KNN(X_train, y_train, X_test, y_test):\n",
    "    Ks = 50\n",
    "    mean_acc = np.zeros((Ks-1))\n",
    "    for n in tqdm(range(1,Ks)):\n",
    "        neigh = KNeighborsClassifier(n_neighbors = n).fit(X_train,y_train)\n",
    "        mean_acc[n-1] = neigh.score(X_test, y_test)\n",
    "\n",
    "    plt.plot(range(1,Ks),mean_acc,'g')\n",
    "    plt.legend(('Accuracy ', '+/- 3xstd'))\n",
    "    plt.ylabel('Accuracy ')\n",
    "    plt.xlabel('Number of neighbors (K)')\n",
    "    plt.tight_layout()\n",
    "    plt.show()\n",
    "    print( \"The best accuracy was \", mean_acc.max(), \"with k=\", mean_acc.argmax()+1)\n",
    "    \n",
    "    return mean_acc.argmax()+1"
   ]
  },
  {
   "cell_type": "markdown",
   "metadata": {},
   "source": [
    "### diviser l'ensemble de données en données de test et d'apprentissage"
   ]
  },
  {
   "cell_type": "code",
   "execution_count": 27,
   "metadata": {},
   "outputs": [],
   "source": [
    "X_train, X_test, y_train, y_test = train_test_split(X, Y, test_size=0.2, random_state=random.seed())"
   ]
  },
  {
   "cell_type": "markdown",
   "metadata": {},
   "source": [
    "### Trouver le meilleur k"
   ]
  },
  {
   "cell_type": "code",
   "execution_count": 28,
   "metadata": {},
   "outputs": [
    {
     "name": "stderr",
     "output_type": "stream",
     "text": [
      "100%|██████████████████████████████████████████████████████████████████████████████████| 49/49 [00:01<00:00, 40.66it/s]\n"
     ]
    },
    {
     "data": {
      "image/png": "[encoded data removed]",
      "text/plain": [
       "<Figure size 432x288 with 1 Axes>"
      ]
     },
     "metadata": {
      "needs_background": "light"
     },
     "output_type": "display_data"
    },
    {
     "name": "stdout",
     "output_type": "stream",
     "text": [
      "The best accuracy was  0.9620253164556962 with k= 5\n"
     ]
    }
   ],
   "source": [
    "best_K = bestK_KNN(X_train, y_train, X_test, y_test)"
   ]
  },
  {
   "cell_type": "code",
   "execution_count": 29,
   "metadata": {},
   "outputs": [
    {
     "name": "stdout",
     "output_type": "stream",
     "text": [
      "Le pourcentage d'erreur pour le modèle KNN est : 3.79746835443038 %\n"
     ]
    }
   ],
   "source": [
    "knn = KNeighborsClassifier(n_neighbors = best_K).fit(X_train,y_train)\n",
    "y_pred = knn.predict(X_test)\n",
    "\n",
    "# Compute the mean squared error of our predictions.\n",
    "mse = (((y_pred - y_test) ** 2).sum()) / len(y_pred)\n",
    "print(\"Le pourcentage d'erreur pour le modèle KNN est :\", mse*100 ,'%')"
   ]
  },
  {
   "cell_type": "code",
   "execution_count": 30,
   "metadata": {},
   "outputs": [
    {
     "name": "stdout",
     "output_type": "stream",
     "text": [
      "Accuracy pour le modèle KNN est : 96.20253164556962 %\n"
     ]
    }
   ],
   "source": [
    "res_knn = knn.score(X_test,y_test)\n",
    "print(\"Accuracy pour le modèle KNN est :\", res_knn*100 ,'%')"
   ]
  },
  {
   "cell_type": "code",
   "execution_count": 31,
   "metadata": {},
   "outputs": [
    {
     "data": {
      "image/png": "[encoded data removed]",
      "text/plain": [
       "<Figure size 432x288 with 2 Axes>"
      ]
     },
     "metadata": {
      "needs_background": "light"
     },
     "output_type": "display_data"
    }
   ],
   "source": [
    "import pandas as pd\n",
    "import seaborn as sn\n",
    "import matplotlib.pyplot as plt\n",
    "from sklearn.metrics import plot_confusion_matrix\n",
    "\n",
    "disp = plot_confusion_matrix(knn, X_test, y_test,cmap=plt.cm.Blues)\n",
    "                                 \n",
    "disp.ax_.set_title(\"Confusion Matrix\")\n",
    "plt.show()\n",
    "#%matplotlib.inline"
   ]
  },
  {
   "cell_type": "code",
   "execution_count": 32,
   "metadata": {},
   "outputs": [
    {
     "name": "stdout",
     "output_type": "stream",
     "text": [
      "Accuray score: \t\t 0.9620253164556962\n",
      "F-Measure: \t\t 0.8696907216494845\n",
      "Precision score: \t 0.956418918918919\n",
      "Recall score: \t\t 0.8149184149184149\n"
     ]
    }
   ],
   "source": [
    "from sklearn.metrics import accuracy_score\n",
    "print(\"Accuray score: \\t\\t\",accuracy_score(y_test, y_pred))\n",
    "from sklearn.metrics import f1_score\n",
    "print(\"F-Measure: \\t\\t\",f1_score(y_test, y_pred,average='macro'))\n",
    "from sklearn.metrics import precision_score\n",
    "print(\"Precision score: \\t\",precision_score(y_test, y_pred, average='macro'))\n",
    "from sklearn.metrics import recall_score\n",
    "print(\"Recall score: \\t\\t\",recall_score(y_test, y_pred, average='macro'))"
   ]
  },
  {
   "cell_type": "code",
   "execution_count": 33,
   "metadata": {},
   "outputs": [
    {
     "name": "stdout",
     "output_type": "stream",
     "text": [
      "              precision    recall  f1-score   support\n",
      "\n",
      "           0       0.95      0.63      0.76        30\n",
      "           1       0.96      1.00      0.98       286\n",
      "\n",
      "    accuracy                           0.96       316\n",
      "   macro avg       0.96      0.81      0.87       316\n",
      "weighted avg       0.96      0.96      0.96       316\n",
      "\n"
     ]
    }
   ],
   "source": [
    "# Classification report\n",
    "from sklearn.metrics import classification_report\n",
    "print(classification_report(y_test, y_pred))"
   ]
  },
  {
   "cell_type": "markdown",
   "metadata": {},
   "source": [
    "# Arbre de decision\n"
   ]
  },
  {
   "cell_type": "code",
   "execution_count": 34,
   "metadata": {},
   "outputs": [],
   "source": [
    "from sklearn import tree\n",
    "clf = tree.DecisionTreeClassifier()\n",
    "clf.fit(X_train,y_train)\n",
    "\n",
    "y_pred2 = clf.predict(X_test)"
   ]
  },
  {
   "cell_type": "code",
   "execution_count": 35,
   "metadata": {},
   "outputs": [
    {
     "data": {
      "image/png": "[encoded data removed]",
      "text/plain": [
       "<Figure size 432x288 with 2 Axes>"
      ]
     },
     "metadata": {
      "needs_background": "light"
     },
     "output_type": "display_data"
    }
   ],
   "source": [
    "import matplotlib.pyplot as plt \n",
    "from sklearn.metrics import plot_confusion_matrix\n",
    "disp = plot_confusion_matrix(clf, X_test, y_test,cmap=plt.cm.Blues)\n",
    "                                 \n",
    "disp.ax_.set_title(\"Confusion Matrix\")\n",
    "plt.show()\n",
    "#%matplotlib.inline"
   ]
  },
  {
   "cell_type": "code",
   "execution_count": 36,
   "metadata": {},
   "outputs": [
    {
     "name": "stdout",
     "output_type": "stream",
     "text": [
      "Accuray score: \t\t 0.9556962025316456\n",
      "F-Measure: \t\t 0.8671152228763667\n",
      "Precision score: \t 0.878968253968254\n",
      "Recall score: \t\t 0.8561771561771562\n"
     ]
    }
   ],
   "source": [
    "from sklearn.metrics import accuracy_score\n",
    "print(\"Accuray score: \\t\\t\",accuracy_score(y_test, y_pred2))\n",
    "from sklearn.metrics import f1_score\n",
    "print(\"F-Measure: \\t\\t\",f1_score(y_test, y_pred2,average='macro'))\n",
    "from sklearn.metrics import precision_score\n",
    "print(\"Precision score: \\t\",precision_score(y_test, y_pred2, average='macro'))\n",
    "from sklearn.metrics import recall_score\n",
    "print(\"Recall score: \\t\\t\",recall_score(y_test, y_pred2, average='macro'))"
   ]
  },
  {
   "cell_type": "code",
   "execution_count": 37,
   "metadata": {},
   "outputs": [
    {
     "name": "stdout",
     "output_type": "stream",
     "text": [
      "              precision    recall  f1-score   support\n",
      "\n",
      "           0       0.79      0.73      0.76        30\n",
      "           1       0.97      0.98      0.98       286\n",
      "\n",
      "    accuracy                           0.96       316\n",
      "   macro avg       0.88      0.86      0.87       316\n",
      "weighted avg       0.95      0.96      0.96       316\n",
      "\n"
     ]
    }
   ],
   "source": [
    "# Classification report\n",
    "from sklearn.metrics import classification_report\n",
    "print(classification_report(y_test, y_pred2))"
   ]
  },
  {
   "cell_type": "markdown",
   "metadata": {},
   "source": [
    "# Classificateur Bayes"
   ]
  },
  {
   "cell_type": "code",
   "execution_count": 38,
   "metadata": {},
   "outputs": [],
   "source": [
    "from sklearn.naive_bayes import MultinomialNB\n",
    "clf_CB = MultinomialNB()\n",
    "clf_CB.fit(X_train, y_train)\n",
    "pred = clf_CB.predict(X_test)"
   ]
  },
  {
   "cell_type": "code",
   "execution_count": 39,
   "metadata": {},
   "outputs": [
    {
     "data": {
      "image/png": "[encoded data removed]",
      "text/plain": [
       "<Figure size 432x288 with 2 Axes>"
      ]
     },
     "metadata": {
      "needs_background": "light"
     },
     "output_type": "display_data"
    }
   ],
   "source": [
    "import matplotlib.pyplot as plt \n",
    "from sklearn.metrics import plot_confusion_matrix\n",
    "disp = plot_confusion_matrix(clf_CB, X_test, y_test,cmap=plt.cm.Blues)\n",
    "                                 \n",
    "disp.ax_.set_title(\"Confusion Matrix\")\n",
    "plt.show()"
   ]
  },
  {
   "cell_type": "code",
   "execution_count": 40,
   "metadata": {},
   "outputs": [
    {
     "name": "stdout",
     "output_type": "stream",
     "text": [
      "Accuray score: \t\t 0.9778481012658228\n",
      "F-Measure: \t\t 0.9279173591423079\n",
      "Precision score: \t 0.9880546075085324\n",
      "Recall score: \t\t 0.8833333333333333\n"
     ]
    }
   ],
   "source": [
    "from sklearn.metrics import accuracy_score\n",
    "print(\"Accuray score: \\t\\t\",accuracy_score(y_test, pred))\n",
    "from sklearn.metrics import f1_score\n",
    "print(\"F-Measure: \\t\\t\",f1_score(y_test, pred,average='macro'))\n",
    "from sklearn.metrics import precision_score\n",
    "print(\"Precision score: \\t\",precision_score(y_test, pred, average='macro'))\n",
    "from sklearn.metrics import recall_score\n",
    "print(\"Recall score: \\t\\t\",recall_score(y_test, pred, average='macro'))"
   ]
  },
  {
   "cell_type": "code",
   "execution_count": 41,
   "metadata": {},
   "outputs": [
    {
     "name": "stdout",
     "output_type": "stream",
     "text": [
      "              precision    recall  f1-score   support\n",
      "\n",
      "           0       1.00      0.77      0.87        30\n",
      "           1       0.98      1.00      0.99       286\n",
      "\n",
      "    accuracy                           0.98       316\n",
      "   macro avg       0.99      0.88      0.93       316\n",
      "weighted avg       0.98      0.98      0.98       316\n",
      "\n"
     ]
    }
   ],
   "source": [
    "# Classification report\n",
    "from sklearn.metrics import classification_report\n",
    "print(classification_report(y_test, pred))"
   ]
  },
  {
   "cell_type": "markdown",
   "metadata": {},
   "source": [
    "### 4. Utilisez la régression pour prédire l'âge (age) des personnes en fonction d'autres variables. Vous avez le choix sur ces variables explicatives ? Comment choisissez-vous ces variables ? Calculez la qualité de la prédiction à l'aide de l'erreur MSE (Mean Squared Error)"
   ]
  },
  {
   "cell_type": "markdown",
   "metadata": {},
   "source": [
    "#### Tester sur tous les variables"
   ]
  },
  {
   "cell_type": "code",
   "execution_count": 42,
   "metadata": {},
   "outputs": [],
   "source": [
    "X2 = df[['sex','chronic_disease_binary','asymptomatic','cough','fatigue','fever','headache','malaise','pneumonia','respiratory problems','runny nose','sore throat','diabetes','hypertension','outcome']]\n",
    "Y2 = df['age']"
   ]
  },
  {
   "cell_type": "code",
   "execution_count": 43,
   "metadata": {},
   "outputs": [],
   "source": [
    "X_train2, X_test2, y_train2, y_test2 = train_test_split(X2, Y2, test_size=0.2, random_state=random.seed())"
   ]
  },
  {
   "cell_type": "code",
   "execution_count": 44,
   "metadata": {},
   "outputs": [
    {
     "data": {
      "text/plain": [
       "LinearRegression()"
      ]
     },
     "execution_count": 44,
     "metadata": {},
     "output_type": "execute_result"
    }
   ],
   "source": [
    "from sklearn.linear_model import LinearRegression\n",
    "reg = LinearRegression()\n",
    "reg.fit(X_train2 , y_train2)"
   ]
  },
  {
   "cell_type": "code",
   "execution_count": 45,
   "metadata": {},
   "outputs": [],
   "source": [
    "y2_pred = reg.predict(X_test2)"
   ]
  },
  {
   "cell_type": "code",
   "execution_count": 46,
   "metadata": {},
   "outputs": [
    {
     "name": "stdout",
     "output_type": "stream",
     "text": [
      "l'erreur MSE :  321.6017646906366\n"
     ]
    }
   ],
   "source": [
    "from sklearn.metrics import mean_squared_error\n",
    "MSE = mean_squared_error(y_test2, y2_pred)\n",
    "print('l\\'erreur MSE : ',MSE)"
   ]
  },
  {
   "cell_type": "markdown",
   "metadata": {},
   "source": [
    "#### Utiliser RFE pour sélectionner les variables explicatives :"
   ]
  },
  {
   "cell_type": "code",
   "execution_count": 47,
   "metadata": {},
   "outputs": [
    {
     "name": "stdout",
     "output_type": "stream",
     "text": [
      "7\n",
      "[False False False False  True  True False False False  True  True  True\n",
      " False  True  True]\n"
     ]
    }
   ],
   "source": [
    "from sklearn.feature_selection import RFE\n",
    "selecteur = RFE(estimator = reg)\n",
    "\n",
    "sel = selecteur.fit(X_test2, y_test2)\n",
    "\n",
    "print(sel.n_features_)\n",
    "print(sel.support_)"
   ]
  },
  {
   "cell_type": "code",
   "execution_count": 48,
   "metadata": {},
   "outputs": [],
   "source": [
    "# get the feature support boolean list\n",
    "rfe_mask = sel.support_\n",
    "# reduce the dataframe to just those features\n",
    "X_scaled_rfe_reduced = X.iloc[:,rfe_mask]"
   ]
  },
  {
   "cell_type": "code",
   "execution_count": 49,
   "metadata": {},
   "outputs": [
    {
     "data": {
      "text/html": [
       "<div>\n",
       "<style scoped>\n",
       "    .dataframe tbody tr th:only-of-type {\n",
       "        vertical-align: middle;\n",
       "    }\n",
       "\n",
       "    .dataframe tbody tr th {\n",
       "        vertical-align: top;\n",
       "    }\n",
       "\n",
       "    .dataframe thead th {\n",
       "        text-align: right;\n",
       "    }\n",
       "</style>\n",
       "<table border=\"1\" class=\"dataframe\">\n",
       "  <thead>\n",
       "    <tr style=\"text-align: right;\">\n",
       "      <th></th>\n",
       "      <th>cough</th>\n",
       "      <th>fatigue</th>\n",
       "      <th>pneumonia</th>\n",
       "      <th>respiratory problems</th>\n",
       "      <th>runny nose</th>\n",
       "      <th>diabetes</th>\n",
       "      <th>hypertension</th>\n",
       "    </tr>\n",
       "  </thead>\n",
       "  <tbody>\n",
       "    <tr>\n",
       "      <td>0</td>\n",
       "      <td>0</td>\n",
       "      <td>0</td>\n",
       "      <td>1</td>\n",
       "      <td>0</td>\n",
       "      <td>0</td>\n",
       "      <td>0</td>\n",
       "      <td>0</td>\n",
       "    </tr>\n",
       "    <tr>\n",
       "      <td>1</td>\n",
       "      <td>0</td>\n",
       "      <td>0</td>\n",
       "      <td>0</td>\n",
       "      <td>0</td>\n",
       "      <td>0</td>\n",
       "      <td>0</td>\n",
       "      <td>0</td>\n",
       "    </tr>\n",
       "    <tr>\n",
       "      <td>2</td>\n",
       "      <td>1</td>\n",
       "      <td>0</td>\n",
       "      <td>0</td>\n",
       "      <td>0</td>\n",
       "      <td>0</td>\n",
       "      <td>0</td>\n",
       "      <td>0</td>\n",
       "    </tr>\n",
       "    <tr>\n",
       "      <td>3</td>\n",
       "      <td>1</td>\n",
       "      <td>0</td>\n",
       "      <td>0</td>\n",
       "      <td>0</td>\n",
       "      <td>0</td>\n",
       "      <td>0</td>\n",
       "      <td>0</td>\n",
       "    </tr>\n",
       "    <tr>\n",
       "      <td>4</td>\n",
       "      <td>0</td>\n",
       "      <td>0</td>\n",
       "      <td>0</td>\n",
       "      <td>0</td>\n",
       "      <td>0</td>\n",
       "      <td>0</td>\n",
       "      <td>0</td>\n",
       "    </tr>\n",
       "    <tr>\n",
       "      <td>...</td>\n",
       "      <td>...</td>\n",
       "      <td>...</td>\n",
       "      <td>...</td>\n",
       "      <td>...</td>\n",
       "      <td>...</td>\n",
       "      <td>...</td>\n",
       "      <td>...</td>\n",
       "    </tr>\n",
       "    <tr>\n",
       "      <td>1572</td>\n",
       "      <td>1</td>\n",
       "      <td>0</td>\n",
       "      <td>0</td>\n",
       "      <td>0</td>\n",
       "      <td>0</td>\n",
       "      <td>0</td>\n",
       "      <td>0</td>\n",
       "    </tr>\n",
       "    <tr>\n",
       "      <td>1573</td>\n",
       "      <td>0</td>\n",
       "      <td>0</td>\n",
       "      <td>0</td>\n",
       "      <td>0</td>\n",
       "      <td>0</td>\n",
       "      <td>0</td>\n",
       "      <td>0</td>\n",
       "    </tr>\n",
       "    <tr>\n",
       "      <td>1574</td>\n",
       "      <td>1</td>\n",
       "      <td>0</td>\n",
       "      <td>0</td>\n",
       "      <td>0</td>\n",
       "      <td>0</td>\n",
       "      <td>0</td>\n",
       "      <td>0</td>\n",
       "    </tr>\n",
       "    <tr>\n",
       "      <td>1575</td>\n",
       "      <td>1</td>\n",
       "      <td>0</td>\n",
       "      <td>0</td>\n",
       "      <td>0</td>\n",
       "      <td>0</td>\n",
       "      <td>0</td>\n",
       "      <td>0</td>\n",
       "    </tr>\n",
       "    <tr>\n",
       "      <td>1576</td>\n",
       "      <td>0</td>\n",
       "      <td>0</td>\n",
       "      <td>0</td>\n",
       "      <td>0</td>\n",
       "      <td>0</td>\n",
       "      <td>0</td>\n",
       "      <td>0</td>\n",
       "    </tr>\n",
       "  </tbody>\n",
       "</table>\n",
       "<p>1577 rows × 7 columns</p>\n",
       "</div>"
      ],
      "text/plain": [
       "      cough  fatigue  pneumonia  respiratory problems  runny nose  diabetes  \\\n",
       "0         0        0          1                     0           0         0   \n",
       "1         0        0          0                     0           0         0   \n",
       "2         1        0          0                     0           0         0   \n",
       "3         1        0          0                     0           0         0   \n",
       "4         0        0          0                     0           0         0   \n",
       "...     ...      ...        ...                   ...         ...       ...   \n",
       "1572      1        0          0                     0           0         0   \n",
       "1573      0        0          0                     0           0         0   \n",
       "1574      1        0          0                     0           0         0   \n",
       "1575      1        0          0                     0           0         0   \n",
       "1576      0        0          0                     0           0         0   \n",
       "\n",
       "      hypertension  \n",
       "0                0  \n",
       "1                0  \n",
       "2                0  \n",
       "3                0  \n",
       "4                0  \n",
       "...            ...  \n",
       "1572             0  \n",
       "1573             0  \n",
       "1574             0  \n",
       "1575             0  \n",
       "1576             0  \n",
       "\n",
       "[1577 rows x 7 columns]"
      ]
     },
     "execution_count": 49,
     "metadata": {},
     "output_type": "execute_result"
    }
   ],
   "source": [
    "X_scaled_rfe_reduced"
   ]
  },
  {
   "cell_type": "code",
   "execution_count": 50,
   "metadata": {},
   "outputs": [],
   "source": [
    "X2_RFE = X_scaled_rfe_reduced\n",
    "Y2_RFE = df['age']"
   ]
  },
  {
   "cell_type": "code",
   "execution_count": 51,
   "metadata": {},
   "outputs": [],
   "source": [
    "X_train_RFE, X_test_RFE, y_train_RFE, y_test_RFE = train_test_split(X2_RFE, Y2_RFE, test_size=0.2, random_state=random.seed())"
   ]
  },
  {
   "cell_type": "code",
   "execution_count": 52,
   "metadata": {},
   "outputs": [],
   "source": [
    "reg_RFE = LinearRegression()\n",
    "reg_RFE.fit(X_train_RFE , y_train_RFE)\n",
    "y_pred_RFE = reg_RFE.predict(X_test_RFE)"
   ]
  },
  {
   "cell_type": "code",
   "execution_count": 53,
   "metadata": {},
   "outputs": [
    {
     "name": "stdout",
     "output_type": "stream",
     "text": [
      "l'erreur MSE :  292.0825627294294\n"
     ]
    }
   ],
   "source": [
    "from sklearn.metrics import mean_squared_error\n",
    "MSE = mean_squared_error(y_test_RFE, y_pred_RFE)\n",
    "print('l\\'erreur MSE : ',MSE)"
   ]
  },
  {
   "cell_type": "markdown",
   "metadata": {},
   "source": [
    "***"
   ]
  },
  {
   "cell_type": "markdown",
   "metadata": {},
   "source": [
    "### 5. Appliquer trois méthodes de clustering (K-means, NMF et CAH) sur l'ensemble de données pour segmenter les personnes en différents groupes. Utilisez l'index de Silhouette pour connaître le meilleur nombre de clusters."
   ]
  },
  {
   "cell_type": "markdown",
   "metadata": {},
   "source": [
    "# K-means"
   ]
  },
  {
   "cell_type": "code",
   "execution_count": 57,
   "metadata": {},
   "outputs": [
    {
     "data": {
      "image/png": "[encoded data removed]",
      "text/plain": [
       "<Figure size 432x288 with 1 Axes>"
      ]
     },
     "metadata": {},
     "output_type": "display_data"
    },
    {
     "name": "stdout",
     "output_type": "stream",
     "text": [
      "D'après l'index de Silhouette, le meilleur nombre de clusters est: 18  avec un score de :  0.6335462472640803\n"
     ]
    }
   ],
   "source": [
    "from sklearn.metrics import silhouette_score\n",
    "from sklearn.cluster import KMeans\n",
    "\n",
    "best_clusters = 0\n",
    "silh_score = 0.0\n",
    "silhouette_coefficients = []\n",
    "\n",
    "# On commence à 2 clusters pour le coefficient de silhouette\n",
    "for k in range(2, 21):\n",
    "    kmeans_sil = KMeans(n_clusters=k)\n",
    "    kmeans_sil.fit(princ_pca)\n",
    "    score = silhouette_score(princ_pca, kmeans_sil.labels_)\n",
    "    silhouette_coefficients.append(score)\n",
    "    if score > silh_score:\n",
    "        silh_score = score\n",
    "        best_clusters = k\n",
    "\n",
    "plt.style.use(\"fivethirtyeight\")\n",
    "plt.plot(range(2, 21), silhouette_coefficients)\n",
    "plt.xticks(range(2, 21))\n",
    "plt.xlabel(\"Number of Clusters\")\n",
    "plt.ylabel(\"Silhouette Coefficient\")\n",
    "plt.show()\n",
    "print('D\\'après l\\'index de Silhouette, le meilleur nombre de clusters est:',best_clusters,' avec un score de : ',silh_score)"
   ]
  },
  {
   "cell_type": "code",
   "execution_count": 58,
   "metadata": {},
   "outputs": [
    {
     "data": {
      "text/plain": [
       "0.6250902392392571"
      ]
     },
     "execution_count": 58,
     "metadata": {},
     "output_type": "execute_result"
    }
   ],
   "source": [
    "from sklearn import metrics\n",
    "\n",
    "kmeans = KMeans(n_clusters= best_clusters , random_state=0).fit(princ_pca)\n",
    "y_kmeans = kmeans.predict(princ_pca)\n",
    "\n",
    "labels = kmeans.labels_\n",
    "metrics.silhouette_score(princ_pca, labels, metric='euclidean')"
   ]
  },
  {
   "cell_type": "markdown",
   "metadata": {},
   "source": [
    "# NMF"
   ]
  },
  {
   "cell_type": "code",
   "execution_count": 60,
   "metadata": {},
   "outputs": [
    {
     "data": {
      "image/png": "[encoded data removed]",
      "text/plain": [
       "<Figure size 432x288 with 1 Axes>"
      ]
     },
     "metadata": {},
     "output_type": "display_data"
    },
    {
     "name": "stdout",
     "output_type": "stream",
     "text": [
      "D'après l'index de Silhouette, le meilleur nombre de clusters est: 2  avec un score de :  0.2938627163070187\n"
     ]
    }
   ],
   "source": [
    "from sklearn.decomposition import NMF\n",
    "import sklearn.preprocessing as skpreproc\n",
    "\n",
    "best_clusters_nmf = 0\n",
    "silh_score_nmf = 0.0\n",
    "silhouette_coefficients = []\n",
    "\n",
    "\n",
    "# assurer que toutes les données ne sont pas négatives\n",
    "X_scaled = skpreproc.minmax_scale(princ_pca)\n",
    "\n",
    "# On commence à 2 clusters pour le coefficient de silhouette\n",
    "for k in range(2, 21):\n",
    "    nmf_sil = NMF(n_components=k, init='random', max_iter=600)\n",
    "    D = nmf_sil.fit_transform(X_scaled)\n",
    "    W = nmf_sil.components_\n",
    "    NMF_labels = np.argmax(D, axis=1)\n",
    "    score = silhouette_score(X_scaled, NMF_labels)\n",
    "    silhouette_coefficients.append(score)\n",
    "    if score > silh_score_nmf:\n",
    "        silh_score_nmf = score\n",
    "        best_clusters_nmf = k\n",
    "\n",
    "plt.style.use(\"fivethirtyeight\")\n",
    "plt.plot(range(2, 21), silhouette_coefficients)\n",
    "plt.xticks(range(2, 21))\n",
    "plt.xlabel(\"Number of Clusters\")\n",
    "plt.ylabel(\"Silhouette Coefficient\")\n",
    "plt.show()\n",
    "print('D\\'après l\\'index de Silhouette, le meilleur nombre de clusters est:',best_clusters_nmf,' avec un score de : ',silh_score_nmf)"
   ]
  },
  {
   "cell_type": "code",
   "execution_count": 61,
   "metadata": {},
   "outputs": [],
   "source": [
    "\n",
    "nmf = NMF(n_components= best_clusters_nmf , init='random', random_state=0,max_iter=200)\n",
    "W = nmf.fit_transform(X)\n",
    "H = nmf.components_"
   ]
  },
  {
   "cell_type": "code",
   "execution_count": 62,
   "metadata": {},
   "outputs": [
    {
     "name": "stdout",
     "output_type": "stream",
     "text": [
      "W :\n",
      " [[4.02 0.02]\n",
      " [2.96 0.02]\n",
      " [1.46 0.04]\n",
      " ...\n",
      " [2.17 0.04]\n",
      " [4.42 0.02]\n",
      " [2.74 0.  ]]\n"
     ]
    }
   ],
   "source": [
    "W = np.around(W , decimals = 2)\n",
    "print('W :\\n',W)"
   ]
  },
  {
   "cell_type": "code",
   "execution_count": 63,
   "metadata": {},
   "outputs": [
    {
     "name": "stdout",
     "output_type": "stream",
     "text": [
      "H :\n",
      " [[1.4230e+01 7.0000e-02 3.0000e-02 1.0000e-02 0.0000e+00 1.0000e-02\n",
      "  0.0000e+00 0.0000e+00 1.0000e-02 2.0000e-02 2.0000e-02 0.0000e+00\n",
      "  1.0000e-02 1.0000e-02 2.0000e-02]\n",
      " [1.1647e+02 2.1000e+01 0.0000e+00 0.0000e+00 2.1990e+01 9.0000e-02\n",
      "  3.4290e+01 1.2900e+00 0.0000e+00 0.0000e+00 0.0000e+00 1.1700e+00\n",
      "  1.5700e+00 0.0000e+00 0.0000e+00]]\n"
     ]
    }
   ],
   "source": [
    "H = np.around(H , decimals = 2)\n",
    "print('H :\\n',H)"
   ]
  },
  {
   "cell_type": "code",
   "execution_count": 64,
   "metadata": {},
   "outputs": [
    {
     "name": "stdout",
     "output_type": "stream",
     "text": [
      "Estimated X: \n",
      " [[5.953e+01 7.000e-01 1.200e-01 ... 7.000e-02 4.000e-02 8.000e-02]\n",
      " [4.445e+01 6.300e-01 9.000e-02 ... 6.000e-02 3.000e-02 6.000e-02]\n",
      " [2.543e+01 9.400e-01 4.000e-02 ... 8.000e-02 1.000e-02 3.000e-02]\n",
      " ...\n",
      " [3.554e+01 9.900e-01 7.000e-02 ... 8.000e-02 2.000e-02 4.000e-02]\n",
      " [6.523e+01 7.300e-01 1.300e-01 ... 8.000e-02 4.000e-02 9.000e-02]\n",
      " [3.899e+01 1.900e-01 8.000e-02 ... 3.000e-02 3.000e-02 5.000e-02]]\n"
     ]
    }
   ],
   "source": [
    "# X = WH\n",
    "\n",
    "X_e = np.dot(W , H)\n",
    "\n",
    "print(f'Estimated X: \\n {np.around(X_e , decimals = 2)}')"
   ]
  },
  {
   "cell_type": "markdown",
   "metadata": {},
   "source": [
    "# CAH"
   ]
  },
  {
   "cell_type": "code",
   "execution_count": 65,
   "metadata": {},
   "outputs": [
    {
     "data": {
      "image/png": "[encoded data removed]",
      "text/plain": [
       "<Figure size 432x288 with 1 Axes>"
      ]
     },
     "metadata": {},
     "output_type": "display_data"
    },
    {
     "name": "stdout",
     "output_type": "stream",
     "text": [
      "D'après l'index de Silhouette, le meilleur nombre de clusters est: 15\n",
      "avec un score de :  0.623811580528721\n"
     ]
    }
   ],
   "source": [
    "from sklearn.cluster import AgglomerativeClustering\n",
    "\n",
    "best_clusters_cah = 0\n",
    "silh_score_cah = 0.0\n",
    "silhouette_coefficients = []\n",
    "\n",
    "\n",
    "# assurer que toutes les données ne sont pas négatives\n",
    "# X_scaled = skpreproc.minmax_scale(princ_pca)\n",
    "\n",
    "# On commence à 2 clusters pour le coefficient de silhouette\n",
    "for k in range(2, 21):\n",
    "    cah_sil = AgglomerativeClustering(n_clusters=k)\n",
    "    cah_sil = cah_sil.fit(princ_pca)    #fit(princ_pca.todense())\n",
    "    cah_labels = cah_sil.labels_\n",
    "    score = silhouette_score(princ_pca, cah_labels)\n",
    "    silhouette_coefficients.append(score)\n",
    "    if score > silh_score_cah:\n",
    "        silh_score_cah = score\n",
    "        best_clusters_cah = k\n",
    "\n",
    "plt.style.use(\"fivethirtyeight\")\n",
    "plt.plot(range(2, 21), silhouette_coefficients)\n",
    "plt.xticks(range(2, 21))\n",
    "plt.xlabel(\"Number of Clusters\")\n",
    "plt.ylabel(\"Silhouette Coefficient\")\n",
    "plt.show()\n",
    "print('D\\'après l\\'index de Silhouette, le meilleur nombre de clusters est:',best_clusters_cah)\n",
    "print('avec un score de : ',silh_score_cah)"
   ]
  },
  {
   "cell_type": "code",
   "execution_count": 66,
   "metadata": {},
   "outputs": [
    {
     "data": {
      "image/png": "[encoded data removed]",
      "text/plain": [
       "<Figure size 1008x720 with 1 Axes>"
      ]
     },
     "metadata": {},
     "output_type": "display_data"
    }
   ],
   "source": [
    "from scipy.cluster.hierarchy import dendrogram\n",
    "\n",
    "\n",
    "\n",
    "def plot_dendrogram(model, **kwargs):\n",
    "    # Create linkage matrix and then plot the dendrogram\n",
    "\n",
    "    # create the counts of samples under each node\n",
    "    counts = np.zeros(model.children_.shape[0])\n",
    "    n_samples = len(model.labels_)\n",
    "    for i, merge in enumerate(model.children_):\n",
    "        current_count = 0\n",
    "        for child_idx in merge:\n",
    "            if child_idx < n_samples:\n",
    "                current_count += 1  # leaf node\n",
    "            else:\n",
    "                current_count += counts[child_idx - n_samples]\n",
    "        counts[i] = current_count\n",
    "\n",
    "    linkage_matrix = np.column_stack([model.children_, model.distances_,\n",
    "                                      counts]).astype(float)\n",
    "\n",
    "    # Plot the corresponding dendrogram\n",
    "    dendrogram(linkage_matrix, **kwargs)\n",
    "\n",
    "\n",
    "# setting distance_threshold=0 ensures we compute the full tree.\n",
    "model_cah = AgglomerativeClustering(distance_threshold=0, n_clusters=None)\n",
    "\n",
    "model_cah = model_cah.fit(princ_pca)\n",
    "plt.figure(figsize=(14, 10))\n",
    "plt.title('Hierarchical Clustering Dendrogram')\n",
    "# plot the top three levels of the dendrogram\n",
    "plot_dendrogram(model_cah, truncate_mode='level', p=3)\n",
    "plt.xlabel(\"Number of points in node (or index of point if no parenthesis).\")\n",
    "plt.show()"
   ]
  },
  {
   "cell_type": "markdown",
   "metadata": {},
   "source": [
    "### 6. Visualisez les résultats à l'aide de scatter pour analyser visuellement la structure de clustering des trois méthodes."
   ]
  },
  {
   "cell_type": "markdown",
   "metadata": {},
   "source": [
    "# Kmeans"
   ]
  },
  {
   "cell_type": "code",
   "execution_count": 67,
   "metadata": {},
   "outputs": [
    {
     "data": {
      "image/png": "[encoded data removed]",
      "text/plain": [
       "<Figure size 432x288 with 1 Axes>"
      ]
     },
     "metadata": {},
     "output_type": "display_data"
    }
   ],
   "source": [
    "kmeans_sc = KMeans(n_clusters= 2 , random_state=0).fit(princ_pca)\n",
    "y_kmeans = kmeans_sc.predict(princ_pca)\n",
    "\n",
    "labels_sc = kmeans_sc.labels_\n",
    "\n",
    "centroids = kmeans_sc.cluster_centers_\n",
    "\n",
    "plt.title('Scatter Plot for Kmeans', fontsize = 16)\n",
    "plt.scatter(df['age'], Y, c=labels_sc)\n",
    "plt.scatter(centroids[:,0], centroids[:,1], marker='x', c='black')\n",
    "plt.show()"
   ]
  },
  {
   "cell_type": "markdown",
   "metadata": {},
   "source": [
    "# NMF"
   ]
  },
  {
   "cell_type": "code",
   "execution_count": 68,
   "metadata": {},
   "outputs": [
    {
     "data": {
      "text/plain": [
       "<matplotlib.collections.PathCollection at 0x27026b51508>"
      ]
     },
     "execution_count": 68,
     "metadata": {},
     "output_type": "execute_result"
    },
    {
     "data": {
      "image/png": "[encoded data removed]",
      "text/plain": [
       "<Figure size 432x288 with 1 Axes>"
      ]
     },
     "metadata": {},
     "output_type": "display_data"
    }
   ],
   "source": [
    "train_X_nmf = nmf.transform(X)\n",
    "test_X_nmf = nmf.transform(X)\n",
    "\n",
    "plt.title('Scatter Plot for NMF', fontsize = 16)\n",
    "plt.scatter(train_X_nmf[:,0], train_X_nmf[:,1], c=NMF_labels,  cmap='prism', alpha=0.4)"
   ]
  },
  {
   "cell_type": "markdown",
   "metadata": {},
   "source": [
    "### CAH"
   ]
  },
  {
   "cell_type": "code",
   "execution_count": 69,
   "metadata": {},
   "outputs": [
    {
     "data": {
      "image/png": "[encoded data removed]",
      "text/plain": [
       "<Figure size 432x288 with 1 Axes>"
      ]
     },
     "metadata": {},
     "output_type": "display_data"
    }
   ],
   "source": [
    "# Scatter plot with average linkage\n",
    "plt.title('Scatter Plot for CAH', fontsize = 16)\n",
    "model_cah2 = AgglomerativeClustering(n_clusters=2, affinity='euclidean', linkage='average')\n",
    "model_cah2 = model_cah2.fit(X)\n",
    "plt.scatter(X['age'], Y, c=model_cah2.labels_, marker='o', edgecolors='black')\n",
    "plt.xlabel(\"X\", fontsize = 14)\n",
    "plt.ylabel(\"Y\", fontsize = 14)\n",
    "plt.show() "
   ]
  },
  {
   "cell_type": "markdown",
   "metadata": {},
   "source": [
    "## 7. Les données sont déséquilibrées. Vous pouvez les équilibrer en réduisant aléatoirement la classe majoritaire. Supposons que vous extrayez aléatoirement des échantillons équilibrés. Comment les résultats de la prédiction changeront-ils?"
   ]
  },
  {
   "cell_type": "code",
   "execution_count": 70,
   "metadata": {},
   "outputs": [
    {
     "name": "stdout",
     "output_type": "stream",
     "text": [
      "Counter({1: 1439, 0: 138})\n",
      "Counter({0: 138, 1: 138})\n"
     ]
    }
   ],
   "source": [
    "from collections import Counter\n",
    "from imblearn.under_sampling import RandomUnderSampler\n",
    "\n",
    "# Afficher la distribution des classes\n",
    "print(Counter(Y))\n",
    "\n",
    "# définir la méthode 'undersample'\n",
    "undersample = RandomUnderSampler(sampling_strategy='majority')\n",
    "\n",
    "# ajuster et appliquer la transformation\n",
    "X_over, y_over = undersample.fit_resample(X, Y)\n",
    "\n",
    "# la distribution des classes après la transformation\n",
    "print(Counter(y_over))"
   ]
  },
  {
   "cell_type": "markdown",
   "metadata": {},
   "source": [
    "Si la grande majorité des observations appartient à la même catégorie, on risque d'avoir un modèle peu intelligent qui va toujours prédire la classe dominante."
   ]
  },
  {
   "cell_type": "markdown",
   "metadata": {},
   "source": [
    "## 8. Comment pouvez-vous mieux gérer ce déséquilibre entre les classes ?"
   ]
  },
  {
   "cell_type": "markdown",
   "metadata": {},
   "source": [
    "Une technique consiste tout simplement à rééquilibrer le jeu de données. Soit en faisant de l’undersampling, en enlevant des données de la classe majoritaire, soit en faisant de l’oversampling, en rajoutant des nouvelles données dans la classe minoritaire.\n",
    "Aussi il vaut mieux d'utiliser des métriques plus adaptées, comme : La précision , Le rappel , Le F1-Score et La matrice de confusion afin d'avoir un modèle performant."
   ]
  },
  {
   "cell_type": "markdown",
   "metadata": {},
   "source": [
    "## 9. Pour trouver les meilleurs paramètres pour les modèles, l'algorithme Greedy Search peut être utilisé, disponible dans la bibliothèque scikit-learn. Expliquez l'algorithme et utilisez-le pour les modèles d'apprentissage choisis afin de trouver les meilleurs paramètres"
   ]
  },
  {
   "cell_type": "markdown",
   "metadata": {},
   "source": [
    "l'algorithme Greedy Search automatise la recherche d’un optimum parmi les hyperparamètre afin de trouver les meilleurs paramètres pour les modèles,\n",
    "L'algorithme Greedy Search fait toujours le choix qui semble être le meilleur à ce moment-là. Cela signifie qu'il fait un choix localement optimal dans l'espoir que ce choix conduira à une solution globalement optimale.\n",
    "Supposons qu'on a une fonction objective qui doit être optimisée (maximisée ou minimisée) à un moment donné. L'algorithme Greedy fait des choix gourmands à chaque étape pour s'assurer que la fonction objectif est optimisée. L'algorithme Greedy n'a qu'un seul coup pour calculer la solution optimale afin qu'il ne revienne jamais en arrière et annule la décision.\n"
   ]
  },
  {
   "cell_type": "markdown",
   "metadata": {},
   "source": [
    "#### Cas de KNN"
   ]
  },
  {
   "cell_type": "code",
   "execution_count": 71,
   "metadata": {},
   "outputs": [
    {
     "name": "stdout",
     "output_type": "stream",
     "text": [
      "Fitting 5 folds for each of 29 candidates, totalling 145 fits\n"
     ]
    },
    {
     "name": "stderr",
     "output_type": "stream",
     "text": [
      "[Parallel(n_jobs=1)]: Using backend SequentialBackend with 1 concurrent workers.\n"
     ]
    },
    {
     "name": "stdout",
     "output_type": "stream",
     "text": [
      "[CV] n_neighbors=1 ...................................................\n",
      "[CV] .................................... n_neighbors=1, total=   0.0s\n"
     ]
    },
    {
     "name": "stderr",
     "output_type": "stream",
     "text": [
      "[Parallel(n_jobs=1)]: Done   1 out of   1 | elapsed:    0.0s remaining:    0.0s\n"
     ]
    },
    {
     "name": "stdout",
     "output_type": "stream",
     "text": [
      "[CV] n_neighbors=1 ...................................................\n",
      "[CV] .................................... n_neighbors=1, total=   0.0s\n",
      "[CV] n_neighbors=1 ...................................................\n",
      "[CV] .................................... n_neighbors=1, total=   0.0s\n",
      "[CV] n_neighbors=1 ...................................................\n",
      "[CV] .................................... n_neighbors=1, total=   0.0s\n",
      "[CV] n_neighbors=1 ...................................................\n",
      "[CV] .................................... n_neighbors=1, total=   0.0s\n",
      "[CV] n_neighbors=2 ...................................................\n",
      "[CV] .................................... n_neighbors=2, total=   0.0s\n",
      "[CV] n_neighbors=2 ...................................................\n",
      "[CV] .................................... n_neighbors=2, total=   0.0s\n",
      "[CV] n_neighbors=2 ...................................................\n",
      "[CV] .................................... n_neighbors=2, total=   0.0s\n",
      "[CV] n_neighbors=2 ...................................................\n",
      "[CV] .................................... n_neighbors=2, total=   0.0s\n",
      "[CV] n_neighbors=2 ...................................................\n",
      "[CV] .................................... n_neighbors=2, total=   0.0s\n",
      "[CV] n_neighbors=3 ...................................................\n",
      "[CV] .................................... n_neighbors=3, total=   0.0s\n",
      "[CV] n_neighbors=3 ...................................................\n",
      "[CV] .................................... n_neighbors=3, total=   0.0s\n",
      "[CV] n_neighbors=3 ...................................................\n",
      "[CV] .................................... n_neighbors=3, total=   0.0s\n",
      "[CV] n_neighbors=3 ...................................................\n",
      "[CV] .................................... n_neighbors=3, total=   0.0s\n",
      "[CV] n_neighbors=3 ...................................................\n",
      "[CV] .................................... n_neighbors=3, total=   0.0s\n",
      "[CV] n_neighbors=4 ...................................................\n",
      "[CV] .................................... n_neighbors=4, total=   0.0s\n",
      "[CV] n_neighbors=4 ...................................................\n",
      "[CV] .................................... n_neighbors=4, total=   0.0s\n",
      "[CV] n_neighbors=4 ...................................................\n",
      "[CV] .................................... n_neighbors=4, total=   0.0s\n",
      "[CV] n_neighbors=4 ...................................................\n",
      "[CV] .................................... n_neighbors=4, total=   0.0s\n",
      "[CV] n_neighbors=4 ...................................................\n",
      "[CV] .................................... n_neighbors=4, total=   0.0s\n",
      "[CV] n_neighbors=5 ...................................................\n",
      "[CV] .................................... n_neighbors=5, total=   0.0s\n",
      "[CV] n_neighbors=5 ...................................................\n",
      "[CV] .................................... n_neighbors=5, total=   0.0s\n",
      "[CV] n_neighbors=5 ...................................................\n",
      "[CV] .................................... n_neighbors=5, total=   0.0s\n",
      "[CV] n_neighbors=5 ...................................................\n",
      "[CV] .................................... n_neighbors=5, total=   0.0s\n",
      "[CV] n_neighbors=5 ...................................................\n",
      "[CV] .................................... n_neighbors=5, total=   0.0s\n",
      "[CV] n_neighbors=6 ...................................................\n",
      "[CV] .................................... n_neighbors=6, total=   0.0s\n",
      "[CV] n_neighbors=6 ...................................................\n",
      "[CV] .................................... n_neighbors=6, total=   0.0s\n",
      "[CV] n_neighbors=6 ...................................................\n",
      "[CV] .................................... n_neighbors=6, total=   0.0s\n",
      "[CV] n_neighbors=6 ...................................................\n",
      "[CV] .................................... n_neighbors=6, total=   0.0s\n",
      "[CV] n_neighbors=6 ...................................................\n",
      "[CV] .................................... n_neighbors=6, total=   0.0s\n",
      "[CV] n_neighbors=7 ...................................................\n",
      "[CV] .................................... n_neighbors=7, total=   0.0s\n",
      "[CV] n_neighbors=7 ...................................................\n",
      "[CV] .................................... n_neighbors=7, total=   0.0s\n",
      "[CV] n_neighbors=7 ...................................................\n",
      "[CV] .................................... n_neighbors=7, total=   0.0s\n",
      "[CV] n_neighbors=7 ...................................................\n",
      "[CV] .................................... n_neighbors=7, total=   0.0s\n",
      "[CV] n_neighbors=7 ...................................................\n",
      "[CV] .................................... n_neighbors=7, total=   0.0s\n",
      "[CV] n_neighbors=8 ...................................................\n",
      "[CV] .................................... n_neighbors=8, total=   0.0s\n",
      "[CV] n_neighbors=8 ...................................................\n",
      "[CV] .................................... n_neighbors=8, total=   0.0s\n",
      "[CV] n_neighbors=8 ...................................................\n",
      "[CV] .................................... n_neighbors=8, total=   0.0s\n",
      "[CV] n_neighbors=8 ...................................................\n",
      "[CV] .................................... n_neighbors=8, total=   0.0s\n",
      "[CV] n_neighbors=8 ...................................................\n",
      "[CV] .................................... n_neighbors=8, total=   0.0s\n",
      "[CV] n_neighbors=9 ...................................................\n",
      "[CV] .................................... n_neighbors=9, total=   0.0s\n",
      "[CV] n_neighbors=9 ...................................................\n",
      "[CV] .................................... n_neighbors=9, total=   0.0s\n",
      "[CV] n_neighbors=9 ...................................................\n",
      "[CV] .................................... n_neighbors=9, total=   0.0s\n",
      "[CV] n_neighbors=9 ...................................................\n",
      "[CV] .................................... n_neighbors=9, total=   0.0s\n",
      "[CV] n_neighbors=9 ...................................................\n",
      "[CV] .................................... n_neighbors=9, total=   0.0s\n",
      "[CV] n_neighbors=10 ..................................................\n",
      "[CV] ................................... n_neighbors=10, total=   0.0s\n",
      "[CV] n_neighbors=10 ..................................................\n",
      "[CV] ................................... n_neighbors=10, total=   0.0s\n",
      "[CV] n_neighbors=10 ..................................................\n",
      "[CV] ................................... n_neighbors=10, total=   0.0s\n",
      "[CV] n_neighbors=10 ..................................................\n",
      "[CV] ................................... n_neighbors=10, total=   0.0s\n",
      "[CV] n_neighbors=10 ..................................................\n",
      "[CV] ................................... n_neighbors=10, total=   0.0s\n",
      "[CV] n_neighbors=11 ..................................................\n",
      "[CV] ................................... n_neighbors=11, total=   0.0s\n",
      "[CV] n_neighbors=11 ..................................................\n",
      "[CV] ................................... n_neighbors=11, total=   0.0s\n",
      "[CV] n_neighbors=11 ..................................................\n",
      "[CV] ................................... n_neighbors=11, total=   0.0s\n",
      "[CV] n_neighbors=11 ..................................................\n",
      "[CV] ................................... n_neighbors=11, total=   0.0s\n",
      "[CV] n_neighbors=11 ..................................................\n",
      "[CV] ................................... n_neighbors=11, total=   0.0s\n",
      "[CV] n_neighbors=12 ..................................................\n",
      "[CV] ................................... n_neighbors=12, total=   0.0s\n",
      "[CV] n_neighbors=12 ..................................................\n",
      "[CV] ................................... n_neighbors=12, total=   0.0s\n",
      "[CV] n_neighbors=12 ..................................................\n",
      "[CV] ................................... n_neighbors=12, total=   0.0s\n",
      "[CV] n_neighbors=12 ..................................................\n",
      "[CV] ................................... n_neighbors=12, total=   0.0s\n",
      "[CV] n_neighbors=12 ..................................................\n",
      "[CV] ................................... n_neighbors=12, total=   0.0s\n",
      "[CV] n_neighbors=13 ..................................................\n",
      "[CV] ................................... n_neighbors=13, total=   0.0s\n",
      "[CV] n_neighbors=13 ..................................................\n",
      "[CV] ................................... n_neighbors=13, total=   0.0s\n",
      "[CV] n_neighbors=13 ..................................................\n",
      "[CV] ................................... n_neighbors=13, total=   0.0s\n",
      "[CV] n_neighbors=13 ..................................................\n",
      "[CV] ................................... n_neighbors=13, total=   0.0s\n",
      "[CV] n_neighbors=13 ..................................................\n",
      "[CV] ................................... n_neighbors=13, total=   0.0s\n",
      "[CV] n_neighbors=14 ..................................................\n",
      "[CV] ................................... n_neighbors=14, total=   0.0s\n",
      "[CV] n_neighbors=14 ..................................................\n",
      "[CV] ................................... n_neighbors=14, total=   0.0s\n",
      "[CV] n_neighbors=14 ..................................................\n",
      "[CV] ................................... n_neighbors=14, total=   0.0s\n",
      "[CV] n_neighbors=14 ..................................................\n",
      "[CV] ................................... n_neighbors=14, total=   0.0s\n",
      "[CV] n_neighbors=14 ..................................................\n",
      "[CV] ................................... n_neighbors=14, total=   0.0s\n",
      "[CV] n_neighbors=15 ..................................................\n",
      "[CV] ................................... n_neighbors=15, total=   0.0s\n",
      "[CV] n_neighbors=15 ..................................................\n",
      "[CV] ................................... n_neighbors=15, total=   0.0s\n",
      "[CV] n_neighbors=15 ..................................................\n",
      "[CV] ................................... n_neighbors=15, total=   0.0s\n",
      "[CV] n_neighbors=15 ..................................................\n",
      "[CV] ................................... n_neighbors=15, total=   0.0s\n",
      "[CV] n_neighbors=15 ..................................................\n",
      "[CV] ................................... n_neighbors=15, total=   0.0s\n",
      "[CV] n_neighbors=16 ..................................................\n",
      "[CV] ................................... n_neighbors=16, total=   0.0s\n",
      "[CV] n_neighbors=16 ..................................................\n",
      "[CV] ................................... n_neighbors=16, total=   0.0s\n",
      "[CV] n_neighbors=16 ..................................................\n",
      "[CV] ................................... n_neighbors=16, total=   0.0s\n",
      "[CV] n_neighbors=16 ..................................................\n",
      "[CV] ................................... n_neighbors=16, total=   0.0s\n",
      "[CV] n_neighbors=16 ..................................................\n",
      "[CV] ................................... n_neighbors=16, total=   0.0s\n",
      "[CV] n_neighbors=17 ..................................................\n",
      "[CV] ................................... n_neighbors=17, total=   0.0s\n",
      "[CV] n_neighbors=17 ..................................................\n",
      "[CV] ................................... n_neighbors=17, total=   0.0s\n",
      "[CV] n_neighbors=17 ..................................................\n",
      "[CV] ................................... n_neighbors=17, total=   0.0s\n",
      "[CV] n_neighbors=17 ..................................................\n",
      "[CV] ................................... n_neighbors=17, total=   0.0s\n",
      "[CV] n_neighbors=17 ..................................................\n",
      "[CV] ................................... n_neighbors=17, total=   0.0s\n",
      "[CV] n_neighbors=18 ..................................................\n",
      "[CV] ................................... n_neighbors=18, total=   0.0s\n",
      "[CV] n_neighbors=18 ..................................................\n",
      "[CV] ................................... n_neighbors=18, total=   0.0s\n",
      "[CV] n_neighbors=18 ..................................................\n",
      "[CV] ................................... n_neighbors=18, total=   0.0s\n",
      "[CV] n_neighbors=18 ..................................................\n",
      "[CV] ................................... n_neighbors=18, total=   0.0s\n",
      "[CV] n_neighbors=18 ..................................................\n",
      "[CV] ................................... n_neighbors=18, total=   0.0s\n",
      "[CV] n_neighbors=19 ..................................................\n",
      "[CV] ................................... n_neighbors=19, total=   0.0s\n",
      "[CV] n_neighbors=19 ..................................................\n",
      "[CV] ................................... n_neighbors=19, total=   0.0s\n",
      "[CV] n_neighbors=19 ..................................................\n",
      "[CV] ................................... n_neighbors=19, total=   0.0s\n",
      "[CV] n_neighbors=19 ..................................................\n",
      "[CV] ................................... n_neighbors=19, total=   0.0s\n",
      "[CV] n_neighbors=19 ..................................................\n",
      "[CV] ................................... n_neighbors=19, total=   0.0s\n",
      "[CV] n_neighbors=20 ..................................................\n",
      "[CV] ................................... n_neighbors=20, total=   0.0s\n",
      "[CV] n_neighbors=20 ..................................................\n",
      "[CV] ................................... n_neighbors=20, total=   0.0s\n",
      "[CV] n_neighbors=20 ..................................................\n",
      "[CV] ................................... n_neighbors=20, total=   0.0s\n",
      "[CV] n_neighbors=20 ..................................................\n",
      "[CV] ................................... n_neighbors=20, total=   0.0s\n",
      "[CV] n_neighbors=20 ..................................................\n",
      "[CV] ................................... n_neighbors=20, total=   0.0s\n",
      "[CV] n_neighbors=21 ..................................................\n",
      "[CV] ................................... n_neighbors=21, total=   0.0s\n",
      "[CV] n_neighbors=21 ..................................................\n",
      "[CV] ................................... n_neighbors=21, total=   0.0s\n",
      "[CV] n_neighbors=21 ..................................................\n",
      "[CV] ................................... n_neighbors=21, total=   0.0s\n",
      "[CV] n_neighbors=21 ..................................................\n",
      "[CV] ................................... n_neighbors=21, total=   0.0s\n",
      "[CV] n_neighbors=21 ..................................................\n",
      "[CV] ................................... n_neighbors=21, total=   0.0s\n",
      "[CV] n_neighbors=22 ..................................................\n",
      "[CV] ................................... n_neighbors=22, total=   0.0s\n",
      "[CV] n_neighbors=22 ..................................................\n",
      "[CV] ................................... n_neighbors=22, total=   0.0s\n",
      "[CV] n_neighbors=22 ..................................................\n",
      "[CV] ................................... n_neighbors=22, total=   0.0s\n",
      "[CV] n_neighbors=22 ..................................................\n",
      "[CV] ................................... n_neighbors=22, total=   0.0s\n",
      "[CV] n_neighbors=22 ..................................................\n",
      "[CV] ................................... n_neighbors=22, total=   0.0s\n",
      "[CV] n_neighbors=23 ..................................................\n",
      "[CV] ................................... n_neighbors=23, total=   0.0s\n",
      "[CV] n_neighbors=23 ..................................................\n",
      "[CV] ................................... n_neighbors=23, total=   0.0s\n",
      "[CV] n_neighbors=23 ..................................................\n",
      "[CV] ................................... n_neighbors=23, total=   0.0s\n",
      "[CV] n_neighbors=23 ..................................................\n",
      "[CV] ................................... n_neighbors=23, total=   0.0s\n",
      "[CV] n_neighbors=23 ..................................................\n",
      "[CV] ................................... n_neighbors=23, total=   0.0s\n",
      "[CV] n_neighbors=24 ..................................................\n",
      "[CV] ................................... n_neighbors=24, total=   0.0s\n"
     ]
    },
    {
     "name": "stdout",
     "output_type": "stream",
     "text": [
      "[CV] n_neighbors=24 ..................................................\n",
      "[CV] ................................... n_neighbors=24, total=   0.0s\n",
      "[CV] n_neighbors=24 ..................................................\n",
      "[CV] ................................... n_neighbors=24, total=   0.0s\n",
      "[CV] n_neighbors=24 ..................................................\n",
      "[CV] ................................... n_neighbors=24, total=   0.0s\n",
      "[CV] n_neighbors=24 ..................................................\n",
      "[CV] ................................... n_neighbors=24, total=   0.0s\n",
      "[CV] n_neighbors=25 ..................................................\n",
      "[CV] ................................... n_neighbors=25, total=   0.0s\n",
      "[CV] n_neighbors=25 ..................................................\n",
      "[CV] ................................... n_neighbors=25, total=   0.0s\n",
      "[CV] n_neighbors=25 ..................................................\n",
      "[CV] ................................... n_neighbors=25, total=   0.0s\n",
      "[CV] n_neighbors=25 ..................................................\n",
      "[CV] ................................... n_neighbors=25, total=   0.0s\n",
      "[CV] n_neighbors=25 ..................................................\n",
      "[CV] ................................... n_neighbors=25, total=   0.0s\n",
      "[CV] n_neighbors=26 ..................................................\n",
      "[CV] ................................... n_neighbors=26, total=   0.0s\n",
      "[CV] n_neighbors=26 ..................................................\n",
      "[CV] ................................... n_neighbors=26, total=   0.0s\n",
      "[CV] n_neighbors=26 ..................................................\n",
      "[CV] ................................... n_neighbors=26, total=   0.0s\n",
      "[CV] n_neighbors=26 ..................................................\n",
      "[CV] ................................... n_neighbors=26, total=   0.0s\n",
      "[CV] n_neighbors=26 ..................................................\n",
      "[CV] ................................... n_neighbors=26, total=   0.0s\n",
      "[CV] n_neighbors=27 ..................................................\n",
      "[CV] ................................... n_neighbors=27, total=   0.0s\n",
      "[CV] n_neighbors=27 ..................................................\n",
      "[CV] ................................... n_neighbors=27, total=   0.0s\n",
      "[CV] n_neighbors=27 ..................................................\n",
      "[CV] ................................... n_neighbors=27, total=   0.0s\n",
      "[CV] n_neighbors=27 ..................................................\n",
      "[CV] ................................... n_neighbors=27, total=   0.0s\n",
      "[CV] n_neighbors=27 ..................................................\n",
      "[CV] ................................... n_neighbors=27, total=   0.0s\n",
      "[CV] n_neighbors=28 ..................................................\n",
      "[CV] ................................... n_neighbors=28, total=   0.0s\n",
      "[CV] n_neighbors=28 ..................................................\n",
      "[CV] ................................... n_neighbors=28, total=   0.0s\n",
      "[CV] n_neighbors=28 ..................................................\n",
      "[CV] ................................... n_neighbors=28, total=   0.0s\n",
      "[CV] n_neighbors=28 ..................................................\n",
      "[CV] ................................... n_neighbors=28, total=   0.0s\n",
      "[CV] n_neighbors=28 ..................................................\n",
      "[CV] ................................... n_neighbors=28, total=   0.0s\n",
      "[CV] n_neighbors=29 ..................................................\n",
      "[CV] ................................... n_neighbors=29, total=   0.0s\n",
      "[CV] n_neighbors=29 ..................................................\n",
      "[CV] ................................... n_neighbors=29, total=   0.0s\n",
      "[CV] n_neighbors=29 ..................................................\n",
      "[CV] ................................... n_neighbors=29, total=   0.0s\n",
      "[CV] n_neighbors=29 ..................................................\n",
      "[CV] ................................... n_neighbors=29, total=   0.0s\n",
      "[CV] n_neighbors=29 ..................................................\n",
      "[CV] ................................... n_neighbors=29, total=   0.0s\n"
     ]
    },
    {
     "name": "stderr",
     "output_type": "stream",
     "text": [
      "[Parallel(n_jobs=1)]: Done 145 out of 145 | elapsed:   11.1s finished\n"
     ]
    },
    {
     "data": {
      "text/plain": [
       "GridSearchCV(estimator=KNeighborsClassifier(),\n",
       "             param_grid={'n_neighbors': [1, 2, 3, 4, 5, 6, 7, 8, 9, 10, 11, 12,\n",
       "                                         13, 14, 15, 16, 17, 18, 19, 20, 21, 22,\n",
       "                                         23, 24, 25, 26, 27, 28, 29]},\n",
       "             return_train_score=True, verbose=2)"
      ]
     },
     "execution_count": 71,
     "metadata": {},
     "output_type": "execute_result"
    }
   ],
   "source": [
    "from sklearn.model_selection import GridSearchCV\n",
    "\n",
    "parameters = {'n_neighbors': list(range(1,30))}\n",
    "grid = GridSearchCV(knn, parameters, verbose=2, return_train_score=True)\n",
    "\n",
    "grid.fit(X_train, y_train)"
   ]
  },
  {
   "cell_type": "code",
   "execution_count": 72,
   "metadata": {},
   "outputs": [
    {
     "data": {
      "image/png": "[encoded data removed]",
      "text/plain": [
       "<Figure size 432x288 with 1 Axes>"
      ]
     },
     "metadata": {},
     "output_type": "display_data"
    }
   ],
   "source": [
    "res = grid.cv_results_\n",
    "k = res['param_n_neighbors']\n",
    "train_score = res['mean_train_score']\n",
    "test_score = res['mean_test_score']\n",
    "\n",
    "\n",
    "df_score = pd.DataFrame(dict(k=k, test=test_score, train=train_score))\n",
    "ax = df_score.plot(x='k', y='train', figsize=(6, 4))\n",
    "df_score.plot(x='k', y='test', ax=ax, grid=True)\n",
    "ax.set_title(\"Evolution de la performance sur\\nles bases d'apprentissage et de test\" +\n",
    "             \"\\nen fonction du nombre de voisins\")\n",
    "ax.set_ylabel(\"r2\");"
   ]
  },
  {
   "cell_type": "markdown",
   "metadata": {},
   "source": [
    "Après 6 voisins, la pertinence du modèle décroît fortement, ce qui paraît normal car plus il y a de voisins, moins la prédiction est locale en quelque sorte."
   ]
  },
  {
   "cell_type": "code",
   "execution_count": 92,
   "metadata": {},
   "outputs": [
    {
     "name": "stdout",
     "output_type": "stream",
     "text": [
      "Les meilleurs paramètres sont : KNeighborsClassifier(n_neighbors=3)\n"
     ]
    }
   ],
   "source": [
    "print ('Les meilleurs paramètres sont :',grid.best_estimator_)\n",
    "best_n_neighbors = grid.best_params_['n_neighbors']"
   ]
  },
  {
   "cell_type": "markdown",
   "metadata": {},
   "source": [
    "#### Cas d'arbre de decision\n"
   ]
  },
  {
   "cell_type": "code",
   "execution_count": 79,
   "metadata": {},
   "outputs": [
    {
     "name": "stdout",
     "output_type": "stream",
     "text": [
      "Fitting 3 folds for each of 294 candidates, totalling 882 fits\n"
     ]
    },
    {
     "name": "stderr",
     "output_type": "stream",
     "text": [
      "[Parallel(n_jobs=1)]: Using backend SequentialBackend with 1 concurrent workers.\n",
      "[Parallel(n_jobs=1)]: Done 882 out of 882 | elapsed:    5.3s finished\n"
     ]
    },
    {
     "data": {
      "text/plain": [
       "GridSearchCV(cv=3, estimator=DecisionTreeClassifier(),\n",
       "             param_grid={'max_leaf_nodes': [2, 3, 4, 5, 6, 7, 8, 9, 10, 11, 12,\n",
       "                                            13, 14, 15, 16, 17, 18, 19, 20, 21,\n",
       "                                            22, 23, 24, 25, 26, 27, 28, 29, 30,\n",
       "                                            31, ...],\n",
       "                         'min_samples_split': [2, 3, 4]},\n",
       "             verbose=1)"
      ]
     },
     "execution_count": 79,
     "metadata": {},
     "output_type": "execute_result"
    }
   ],
   "source": [
    "params = {'max_leaf_nodes': list(range(2, 100)), 'min_samples_split': [2, 3, 4]}\n",
    "grid_search_cv = GridSearchCV(clf, params, verbose=1, cv=3)\n",
    "\n",
    "grid_search_cv.fit(X_train, y_train)"
   ]
  },
  {
   "cell_type": "code",
   "execution_count": 80,
   "metadata": {},
   "outputs": [
    {
     "data": {
      "text/plain": [
       "0.9651898734177216"
      ]
     },
     "execution_count": 80,
     "metadata": {},
     "output_type": "execute_result"
    }
   ],
   "source": [
    "y_pred = grid_search_cv.predict(X_test)\n",
    "accuracy_score(y_test, y_pred)"
   ]
  },
  {
   "cell_type": "code",
   "execution_count": 101,
   "metadata": {},
   "outputs": [
    {
     "name": "stdout",
     "output_type": "stream",
     "text": [
      "Les meilleurs paramètres sont : DecisionTreeClassifier(max_leaf_nodes=12, min_samples_split=3)\n"
     ]
    }
   ],
   "source": [
    "best_max_leaf_nodes    = grid_search_cv.best_params_['max_leaf_nodes']\n",
    "best_min_samples_split = grid_search_cv.best_params_['min_samples_split']\n",
    "print ('Les meilleurs paramètres sont :',grid_search_cv.best_estimator_)"
   ]
  },
  {
   "cell_type": "markdown",
   "metadata": {},
   "source": [
    "#### Cas de classificateur Bayes\n"
   ]
  },
  {
   "cell_type": "code",
   "execution_count": 82,
   "metadata": {},
   "outputs": [
    {
     "data": {
      "text/plain": [
       "GridSearchCV(estimator=MultinomialNB(),\n",
       "             param_grid={'alpha': [0.01, 0.05, 0.1, 1, 5, 10, 15, 20, 25, 30,\n",
       "                                   35, 40, 45, 50, 60]},\n",
       "             scoring='f1')"
      ]
     },
     "execution_count": 82,
     "metadata": {},
     "output_type": "execute_result"
    }
   ],
   "source": [
    "parameters = {'alpha':[0.01, 0.05 ,0.1, 1, 5, 10, 15, 20, 25, 30, 35, 40, 45, 50, 60] }\n",
    "\n",
    "clf_CB_GS = GridSearchCV(clf_CB, parameters, scoring='f1')\n",
    "clf_CB_GS.fit(X_train, y_train)"
   ]
  },
  {
   "cell_type": "code",
   "execution_count": 83,
   "metadata": {},
   "outputs": [
    {
     "data": {
      "text/plain": [
       "0.9879101899827288"
      ]
     },
     "execution_count": 83,
     "metadata": {},
     "output_type": "execute_result"
    }
   ],
   "source": [
    "clf_CB_GS.score(X_test, y_test)"
   ]
  },
  {
   "cell_type": "code",
   "execution_count": 108,
   "metadata": {},
   "outputs": [
    {
     "name": "stdout",
     "output_type": "stream",
     "text": [
      "Les meilleurs paramètres sont : MultinomialNB(alpha=0.05)\n"
     ]
    }
   ],
   "source": [
    "print ('Les meilleurs paramètres sont :',clf_CB_GS.best_estimator_)\n",
    "best_alpha = clf_CB_GS.best_params_['alpha']"
   ]
  },
  {
   "cell_type": "markdown",
   "metadata": {},
   "source": [
    "## 10. Présentez et expliquez le formalisme algorithmique et mathématique de la méthode qui donne les meilleurs résultats. Expliquez tous les paramètres de la méthode utilisée et leur impact sur les résultats."
   ]
  },
  {
   "cell_type": "markdown",
   "metadata": {},
   "source": [
    "Nous choisirons les paramètres trouvés par l'algorithme Greedy Search, afin de comparer les résultats des trois méthodes"
   ]
  },
  {
   "cell_type": "markdown",
   "metadata": {},
   "source": [
    "### KNN"
   ]
  },
  {
   "cell_type": "code",
   "execution_count": 95,
   "metadata": {},
   "outputs": [
    {
     "data": {
      "text/plain": [
       "3"
      ]
     },
     "execution_count": 95,
     "metadata": {},
     "output_type": "execute_result"
    }
   ],
   "source": [
    "best_n_neighbors"
   ]
  },
  {
   "cell_type": "code",
   "execution_count": 96,
   "metadata": {},
   "outputs": [],
   "source": [
    "# K Nearest Neighbors\n",
    "knn2 = KNeighborsClassifier(n_neighbors = best_n_neighbors).fit(X_train,y_train)\n",
    "y_pred_KNN = knn2.predict(X_test)\n"
   ]
  },
  {
   "cell_type": "code",
   "execution_count": 97,
   "metadata": {},
   "outputs": [
    {
     "name": "stdout",
     "output_type": "stream",
     "text": [
      "Accuray score: \t\t 0.9588607594936709\n",
      "F-Measure: \t\t 0.866132238407143\n",
      "Precision score: \t 0.9177177622792699\n",
      "Recall score: \t\t 0.828088578088578\n"
     ]
    }
   ],
   "source": [
    "knn_Accuracy = accuracy_score(y_test, y_pred_KNN)\n",
    "print(\"Accuray score: \\t\\t\", knn_Accuracy)\n",
    "\n",
    "knn_F1_Score = f1_score(y_test, y_pred_KNN,average='macro')\n",
    "print(\"F-Measure: \\t\\t\", knn_F1_Score)\n",
    "\n",
    "knn_Precision = precision_score(y_test, y_pred_KNN, average='macro')\n",
    "print(\"Precision score: \\t\", knn_Precision)\n",
    "\n",
    "knn_Recall = recall_score(y_test, y_pred_KNN, average='macro')\n",
    "print(\"Recall score: \\t\\t\", knn_Recall)"
   ]
  },
  {
   "cell_type": "code",
   "execution_count": 98,
   "metadata": {},
   "outputs": [
    {
     "name": "stdout",
     "output_type": "stream",
     "text": [
      "The AUC score: \t\t 0.8405011655011655\n"
     ]
    }
   ],
   "source": [
    "from sklearn.metrics import roc_curve, roc_auc_score\n",
    "\n",
    "knn_pred_test_prob = knn2.predict_proba(X_test)[:, 1] \n",
    "\n",
    "#True Positive Rate and False Positive Rate.\n",
    "fpr, tpr, threshold = roc_curve(y_test, knn_pred_test_prob)\n",
    "\n",
    "knn_auc = roc_auc_score(y_test, knn_pred_test_prob)\n",
    "print(\"The AUC score: \\t\\t\", knn_auc)"
   ]
  },
  {
   "cell_type": "code",
   "execution_count": 99,
   "metadata": {},
   "outputs": [],
   "source": [
    "def plot_roc_curve(fpr, tpr, label=None):\n",
    "    plt.figure(figsize=(8, 6))\n",
    "    plt.title('ROC Curve', fontsize=15)\n",
    "    plt.plot([0, 1], [0, 1], 'k--')\n",
    "    plt.plot(fpr, tpr, linewidth=2, label=label)\n",
    "    plt.xticks(np.arange(0, 1, 0.05), rotation=90)\n",
    "    plt.xlabel('False Positive Rates', fontsize=15)\n",
    "    plt.ylabel('True Positive Rates', fontsize=15)\n",
    "    plt.legend(loc='best')\n",
    "    \n",
    "    plt.show()\n"
   ]
  },
  {
   "cell_type": "code",
   "execution_count": 100,
   "metadata": {},
   "outputs": [
    {
     "data": {
      "image/png": "[encoded data removed]",
      "text/plain": [
       "<Figure size 576x432 with 1 Axes>"
      ]
     },
     "metadata": {},
     "output_type": "display_data"
    }
   ],
   "source": [
    "plot_roc_curve(fpr=fpr, tpr=tpr, label=\"AUC = %.3f\" % knn_auc)"
   ]
  },
  {
   "cell_type": "markdown",
   "metadata": {},
   "source": [
    "## Arbre de decision"
   ]
  },
  {
   "cell_type": "code",
   "execution_count": 102,
   "metadata": {},
   "outputs": [
    {
     "data": {
      "text/plain": [
       "12"
      ]
     },
     "execution_count": 102,
     "metadata": {},
     "output_type": "execute_result"
    }
   ],
   "source": [
    "best_max_leaf_nodes"
   ]
  },
  {
   "cell_type": "code",
   "execution_count": 103,
   "metadata": {},
   "outputs": [
    {
     "data": {
      "text/plain": [
       "3"
      ]
     },
     "execution_count": 103,
     "metadata": {},
     "output_type": "execute_result"
    }
   ],
   "source": [
    "best_min_samples_split"
   ]
  },
  {
   "cell_type": "code",
   "execution_count": 104,
   "metadata": {},
   "outputs": [],
   "source": [
    "\n",
    "clf_ad = tree.DecisionTreeClassifier(max_leaf_nodes= best_max_leaf_nodes , min_samples_split= best_min_samples_split)\n",
    "clf_ad.fit(X_train,y_train)\n",
    "\n",
    "y_pred_ad = clf_ad.predict(X_test)"
   ]
  },
  {
   "cell_type": "code",
   "execution_count": 105,
   "metadata": {},
   "outputs": [
    {
     "name": "stdout",
     "output_type": "stream",
     "text": [
      "Accuray score: \t\t 0.9651898734177216\n",
      "F-Measure: \t\t 0.886727278652198\n",
      "Precision score: \t 0.9411633773556907\n",
      "Recall score: \t\t 0.8465034965034965\n"
     ]
    }
   ],
   "source": [
    "ad_Accuracy = accuracy_score(y_test, y_pred_ad)\n",
    "print(\"Accuray score: \\t\\t\", ad_Accuracy)\n",
    "\n",
    "ad_F1_Score = f1_score(y_test, y_pred_ad,average='macro')\n",
    "print(\"F-Measure: \\t\\t\", ad_F1_Score)\n",
    "\n",
    "ad_Precision = precision_score(y_test, y_pred_ad, average='macro')\n",
    "print(\"Precision score: \\t\", ad_Precision)\n",
    "\n",
    "ad_Recall = recall_score(y_test, y_pred_ad, average='macro')\n",
    "print(\"Recall score: \\t\\t\", ad_Recall)"
   ]
  },
  {
   "cell_type": "code",
   "execution_count": 106,
   "metadata": {},
   "outputs": [
    {
     "name": "stdout",
     "output_type": "stream",
     "text": [
      "The AUC score: \t\t 0.8123543123543124\n"
     ]
    }
   ],
   "source": [
    "ad_pred_test_prob = clf_ad.predict_proba(X_test)[:, 1] \n",
    "\n",
    "#True Positive Rate and False Positive Rate.\n",
    "fpr, tpr, threshold = roc_curve(y_test, ad_pred_test_prob)\n",
    "\n",
    "ad_auc = roc_auc_score(y_test, ad_pred_test_prob)\n",
    "print(\"The AUC score: \\t\\t\", ad_auc)"
   ]
  },
  {
   "cell_type": "code",
   "execution_count": 107,
   "metadata": {},
   "outputs": [
    {
     "data": {
      "image/png": "[encoded data removed]",
      "text/plain": [
       "<Figure size 576x432 with 1 Axes>"
      ]
     },
     "metadata": {},
     "output_type": "display_data"
    }
   ],
   "source": [
    "plot_roc_curve(fpr=fpr, tpr=tpr, label=\"AUC = %.3f\" % ad_auc)"
   ]
  },
  {
   "cell_type": "markdown",
   "metadata": {},
   "source": [
    "## Classificateur Bayes"
   ]
  },
  {
   "cell_type": "code",
   "execution_count": 109,
   "metadata": {},
   "outputs": [
    {
     "data": {
      "text/plain": [
       "0.05"
      ]
     },
     "execution_count": 109,
     "metadata": {},
     "output_type": "execute_result"
    }
   ],
   "source": [
    "best_alpha"
   ]
  },
  {
   "cell_type": "code",
   "execution_count": 110,
   "metadata": {},
   "outputs": [],
   "source": [
    "clf_nb = MultinomialNB(alpha=best_alpha)\n",
    "clf_nb.fit(X_train, y_train)\n",
    "y_pred_nb = clf_nb.predict(X_test)"
   ]
  },
  {
   "cell_type": "code",
   "execution_count": 111,
   "metadata": {},
   "outputs": [
    {
     "name": "stdout",
     "output_type": "stream",
     "text": [
      "Accuray score: \t\t 0.9778481012658228\n",
      "F-Measure: \t\t 0.9279173591423079\n",
      "Precision score: \t 0.9880546075085324\n",
      "Recall score: \t\t 0.8833333333333333\n"
     ]
    }
   ],
   "source": [
    "nb_Accuracy = accuracy_score(y_test, y_pred_nb)\n",
    "print(\"Accuray score: \\t\\t\", nb_Accuracy)\n",
    "\n",
    "nb_F1_Score = f1_score(y_test, y_pred_nb,average='macro')\n",
    "print(\"F-Measure: \\t\\t\", nb_F1_Score)\n",
    "\n",
    "nb_Precision = precision_score(y_test, y_pred_nb, average='macro')\n",
    "print(\"Precision score: \\t\", nb_Precision)\n",
    "\n",
    "nb_Recall = recall_score(y_test, y_pred_nb, average='macro')\n",
    "print(\"Recall score: \\t\\t\", nb_Recall)"
   ]
  },
  {
   "cell_type": "code",
   "execution_count": 112,
   "metadata": {},
   "outputs": [
    {
     "name": "stdout",
     "output_type": "stream",
     "text": [
      "The AUC score: \t\t 0.896969696969697\n"
     ]
    }
   ],
   "source": [
    "nb_pred_test_prob = clf_nb.predict_proba(X_test)[:, 1] \n",
    "\n",
    "#True Positive Rate and False Positive Rate.\n",
    "fpr, tpr, threshold = roc_curve(y_test, nb_pred_test_prob)\n",
    "\n",
    "nb_auc = roc_auc_score(y_test, nb_pred_test_prob)\n",
    "print(\"The AUC score: \\t\\t\", nb_auc)"
   ]
  },
  {
   "cell_type": "code",
   "execution_count": 113,
   "metadata": {},
   "outputs": [
    {
     "data": {
      "image/png": "[encoded data removed]",
      "text/plain": [
       "<Figure size 576x432 with 1 Axes>"
      ]
     },
     "metadata": {},
     "output_type": "display_data"
    }
   ],
   "source": [
    "plot_roc_curve(fpr=fpr, tpr=tpr, label=\"AUC = %.3f\" % nb_auc)"
   ]
  },
  {
   "cell_type": "code",
   "execution_count": 114,
   "metadata": {},
   "outputs": [
    {
     "data": {
      "text/html": [
       "<div>\n",
       "<style scoped>\n",
       "    .dataframe tbody tr th:only-of-type {\n",
       "        vertical-align: middle;\n",
       "    }\n",
       "\n",
       "    .dataframe tbody tr th {\n",
       "        vertical-align: top;\n",
       "    }\n",
       "\n",
       "    .dataframe thead th {\n",
       "        text-align: right;\n",
       "    }\n",
       "</style>\n",
       "<table border=\"1\" class=\"dataframe\">\n",
       "  <thead>\n",
       "    <tr style=\"text-align: right;\">\n",
       "      <th></th>\n",
       "      <th>Accuracy</th>\n",
       "      <th>Precision</th>\n",
       "      <th>F1_Score</th>\n",
       "      <th>Recall</th>\n",
       "      <th>AUC</th>\n",
       "    </tr>\n",
       "  </thead>\n",
       "  <tbody>\n",
       "    <tr>\n",
       "      <td>K-Nearest Neighbors</td>\n",
       "      <td>0.958861</td>\n",
       "      <td>0.917718</td>\n",
       "      <td>0.866132</td>\n",
       "      <td>0.828089</td>\n",
       "      <td>0.840501</td>\n",
       "    </tr>\n",
       "    <tr>\n",
       "      <td>Arbre de decision</td>\n",
       "      <td>0.965190</td>\n",
       "      <td>0.941163</td>\n",
       "      <td>0.886727</td>\n",
       "      <td>0.846503</td>\n",
       "      <td>0.812354</td>\n",
       "    </tr>\n",
       "    <tr>\n",
       "      <td>Classificateur Bayes</td>\n",
       "      <td>0.977848</td>\n",
       "      <td>0.988055</td>\n",
       "      <td>0.927917</td>\n",
       "      <td>0.883333</td>\n",
       "      <td>0.896970</td>\n",
       "    </tr>\n",
       "  </tbody>\n",
       "</table>\n",
       "</div>"
      ],
      "text/plain": [
       "                      Accuracy  Precision  F1_Score    Recall       AUC\n",
       "K-Nearest Neighbors   0.958861   0.917718  0.866132  0.828089  0.840501\n",
       "Arbre de decision     0.965190   0.941163  0.886727  0.846503  0.812354\n",
       "Classificateur Bayes  0.977848   0.988055  0.927917  0.883333  0.896970"
      ]
     },
     "execution_count": 114,
     "metadata": {},
     "output_type": "execute_result"
    }
   ],
   "source": [
    "results = pd.DataFrame(\n",
    "    {\n",
    "        'Accuracy'     : [ knn_Accuracy  , ad_Accuracy  , nb_Accuracy  ],\n",
    "        'Precision'    : [ knn_Precision , ad_Precision , nb_Precision ],\n",
    "        'F1_Score'     : [ knn_F1_Score  , ad_F1_Score  , nb_F1_Score  ],\n",
    "        'Recall'       : [ knn_Recall    , ad_Recall    , nb_Recall    ],\n",
    "        'AUC'          : [ knn_auc       , ad_auc       , nb_auc       ]\n",
    "    }, index=[ 'K-Nearest Neighbors' , 'Arbre de decision' , 'Classificateur Bayes' ])\n",
    "results"
   ]
  },
  {
   "cell_type": "markdown",
   "metadata": {},
   "source": [
    "### A partir de ce tableau trouvé, nous pouvons remarquer que le Classificateur Bayes donne les meilleurs résultats."
   ]
  },
  {
   "cell_type": "markdown",
   "metadata": {},
   "source": [
    "***\n",
    "### Réalisé par : AABBOU ZAKARIA\n",
    "- [E-mail :](mailto:zakaria.abbou199434@gmail.com) zakaria.abbou199434@gmail.com\n",
    "- [GitHub :](https://github.com/ZakariaAABBOU) github.com/ZakariaAABBOU\n",
    "- [Linkedin :](https://www.linkedin.com/in/zakaria-aabbou/) linkedin.com/in/zakaria-aabbou/"
   ]
  },
  {
   "cell_type": "code",
   "execution_count": null,
   "metadata": {},
   "outputs": [],
   "source": []
  }
 ],
 "metadata": {
  "kernelspec": {
   "display_name": "Python 3",
   "language": "python",
   "name": "python3"
  },
  "language_info": {
   "codemirror_mode": {
    "name": "ipython",
    "version": 3
   },
   "file_extension": ".py",
   "mimetype": "text/x-python",
   "name": "python",
   "nbconvert_exporter": "python",
   "pygments_lexer": "ipython3",
   "version": "3.7.4"
  }
 },
 "nbformat": 4,
 "nbformat_minor": 2
}
