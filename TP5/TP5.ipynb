{
 "cells": [
  {
   "cell_type": "markdown",
   "metadata": {},
   "source": [
    "<h1 style=\"text-align:center;\"> TP5 : Descente de gradient </h1>\n",
    "<p> Ce script présente la DG sur la minimisation de la fonction <MATH> E(x) </MATH> quelconque. Leproblème est de trouver la valeur dexqui minimise <MATH>E(x)</MATH>. Pour trouver analytiquementle minimum de la fonction E, il faut trouver les racines de l’équation <MATH>E′(x) = 0</MATH>, donctrouver ici les racines d’un polynôme de degré 3, ce qui est des fois \"difficile\". Donc onva utiliser la DG. La DG consiste à construire une suite de valeurs xi(avec x0 fixé auhasard) de manière itérative : \n",
    "</p>\n",
    "                                        <p style=\"text-align:center;\"> <strong> xi+1=xi−ηE′(xi)</strong> </p>\n",
    "<p>\n",
    "On peut donner un critère de fin à la DG par exemple si xi+1 − xi < eps ou si i > nombre_max. <br>\n",
    "Pour ce problème, nous utilisons eps = 0.01 et nombre_max= 1000.\n",
    "</p>\n",
    "\n",
    "##  Descente de gradient\n",
    "\n",
    "***\n",
    "\n",
    "### 1. Calculez l’expression analytique de la fonction <MATH> E(x) = (x−1)(x−2)(x−3)(x−5) </MATH> et sa dérivée."
   ]
  },
  {
   "cell_type": "code",
   "execution_count": 1,
   "metadata": {},
   "outputs": [
    {
     "name": "stdout",
     "output_type": "stream",
     "text": [
      "E(x) =  x**4 - 11*x**3 + 41*x**2 - 61*x + 30 \n",
      "E'(x) =  4*x**3 - 33*x**2 + 82*x - 61\n"
     ]
    }
   ],
   "source": [
    "from sympy import Symbol, expand, diff\n",
    "\n",
    "x = Symbol('x')\n",
    "exp = expand((x-1)*(x-2)*(x-3)*(x-5))\n",
    "#La dérivée\n",
    "div_exp = diff(exp, x)\n",
    "\n",
    "print('E(x) = ', exp, '\\nE\\'(x) = ',div_exp)"
   ]
  },
  {
   "cell_type": "markdown",
   "metadata": {},
   "source": [
    "### 2. Implémentez l’algorithme DG sous Python pour la fonction E(x). \n",
    "\n",
    "#### Fonction Descente de gradient \n",
    "\n",
    "- **div_e :** la dérivée de la fonction E(x)\n",
    "- **x0 :** la valeur intiale de x\n",
    "- **n :** le pas de Descente de gradient\n",
    "- **eps :** pour le condition d'arrête\n",
    "- **nb_max_iter :** nombre maximum des itérations"
   ]
  },
  {
   "cell_type": "code",
   "execution_count": 5,
   "metadata": {},
   "outputs": [],
   "source": [
    "def DG(div_e, x0, n, eps = 0.01, nb_max_iter = 1000):\n",
    "    cpp = 0 # compteur pour calculer le nombre d'itération\n",
    "    while True:\n",
    "        # calculer le nouveau x (xi+1)\n",
    "        x1 = x0 - n*div_e.subs(x, x0).evalf()\n",
    "        cpp += 1\n",
    "        # condition d'arrêt\n",
    "        if ( abs(x1 - x0) < eps ) | ( cpp > nb_max_iter ):\n",
    "            break\n",
    "        x0 = x1\n",
    "    # résultat return le nouveau x et le nombre d'itération\n",
    "    return [x1, cpp]"
   ]
  },
  {
   "cell_type": "markdown",
   "metadata": {},
   "source": [
    "### 3. Pour comprendre ce que fait effectivement la DG, testez l’algorithme implémenté en utilisant des exemples d’exécutions avec des valeurs initiales de x0 et η suivantes :\n",
    "\n",
    "- x0 = 5 et η = 0.001\n",
    "- x0 = 5 et η = 0.01\n",
    "- x0 = 5 et η = 0.1\n",
    "- x0 = 5 et η = 0.17\n",
    "- x0 = 5 et η = 1\n",
    "- x0 = 0 et η = 0.001\n",
    "\n"
   ]
  },
  {
   "cell_type": "code",
   "execution_count": 6,
   "metadata": {},
   "outputs": [
    {
     "name": "stdout",
     "output_type": "stream",
     "text": [
      "x0 = 5 et η = 0.001 \t:  [4.66148331568632, 22]\n",
      "x0 = 5 et η = 0.01 \t:  [4.36100829491372, 10]\n",
      "x0 = 5 et η = 0.1 \t:  [4.48300247305520, 1001]\n",
      "x0 = 5 et η = 0.17 \t:  [1.23789802112164, 1001]\n",
      "x0 = 5 et η = 1 \t:  [-5.59079531307448e+2165218897387849575449569542280595721495861785890200169487984640726689692623705307933951769342049549605036164832782173103034129608036149295080551194764987554074946681668978958079023089253294582547639268975015256397044116579963969577226087629587121543654371017833958596520034967414619393227754352672765506194522912424105740720275128204523067986059345070180384910080092271110636563888155462862848820544652709611781766626003237259515385703156691028186064669180469086499802903989431, 1001]\n",
      "x0 = 0 et η = 0.001 \t:  [0.949407118070548, 39]\n"
     ]
    }
   ],
   "source": [
    "print(\"x0 = 5 et η = 0.001 \\t: \", DG(div_exp, x0=5, n=0.001))\n",
    "print(\"x0 = 5 et η = 0.01 \\t: \", DG(div_exp, x0=5, n=0.01))\n",
    "print(\"x0 = 5 et η = 0.1 \\t: \", DG(div_exp, x0=5, n=0.1))\n",
    "print(\"x0 = 5 et η = 0.17 \\t: \", DG(div_exp, x0=5, n=0.17))\n",
    "print(\"x0 = 5 et η = 1 \\t: \", DG(div_exp, x0=5, n=1))\n",
    "print(\"x0 = 0 et η = 0.001 \\t: \", DG(div_exp, x0=0, n=0.001))"
   ]
  },
  {
   "cell_type": "markdown",
   "metadata": {},
   "source": [
    "### 4. Affichez le minimum trouvé, ainsi que E(xmin) et le nombre d'itérations. Que constatez-vous?"
   ]
  },
  {
   "cell_type": "code",
   "execution_count": 7,
   "metadata": {},
   "outputs": [
    {
     "name": "stdout",
     "output_type": "stream",
     "text": [
      "------------------------------------------------------------\n",
      "| \tPour x0 =  5  et η =  0.001 \t:\t\t   |\n",
      "------------------------------------------------------------\n",
      "| xmin \t\t\t|  4.66148331568632 \t\t   |\n",
      "| E(xmin) \t\t|  -5.48096300209431 \t\t   |\n",
      "| nombre d’itérations \t|  22 \t\t\t\t   |\n",
      "------------------------------------------------------------\n",
      "| \tPour x0 =  5  et η =  0.01 \t:\t\t   |\n",
      "------------------------------------------------------------\n",
      "| xmin \t\t\t|  4.36100829491372 \t\t   |\n",
      "| E(xmin) \t\t|  -6.90117578513082 \t\t   |\n",
      "| nombre d’itérations \t|  10 \t\t\t\t   |\n",
      "------------------------------------------------------------\n",
      "| \tPour x0 =  5  et η =  0.1 \t:\t\t   |\n",
      "------------------------------------------------------------\n",
      "| xmin \t\t\t|  4.48300247305520 \t\t   |\n",
      "| E(xmin) \t\t|  -6.63072895912501 \t\t   |\n",
      "| nombre d’itérations \t|  1001 \t\t\t\t   |\n",
      "------------------------------------------------------------\n",
      "| \tPour x0 =  5  et η =  0.17 \t:\t\t   |\n",
      "------------------------------------------------------------\n",
      "| xmin \t\t\t|  1.23789802112164 \t\t   |\n",
      "| E(xmin) \t\t|  -1.20189221322028 \t\t   |\n",
      "| nombre d’itérations \t|  1001 \t\t\t\t   |\n",
      "------------------------------------------------------------\n",
      "| \tPour x0 =  5  et η =  1 \t:\t\t   |\n",
      "------------------------------------------------------------\n",
      "| xmin \t\t\t|  -5.59079531307448e+2165218897387849575449569542280595721495861785890200169487984640726689692623705307933951769342049549605036164832782173103034129608036149295080551194764987554074946681668978958079023089253294582547639268975015256397044116579963969577226087629587121543654371017833958596520034967414619393227754352672765506194522912424105740720275128204523067986059345070180384910080092271110636563888155462862848820544652709611781766626003237259515385703156691028186064669180469086499802903989431 \t\t   |\n",
      "| E(xmin) \t\t|  9.76999563434790e+8660875589551398301798278169122382885983447143560800677951938562906758770494821231735807077368198198420144659331128692412136518432144597180322204779059950216299786726675915832316092357013178330190557075900061025588176466319855878308904350518348486174617484071335834386080139869658477572911017410691062024778091649696422962881100512818092271944237380280721539640320369084442546255552621851451395282178610838447127066504012949038061542812626764112744258676721876345999211615957726 \t\t   |\n",
      "| nombre d’itérations \t|  1001 \t\t\t\t   |\n",
      "------------------------------------------------------------\n",
      "| \tPour x0 =  0  et η =  0.001 \t:\t\t   |\n",
      "------------------------------------------------------------\n",
      "| xmin \t\t\t|  0.949407118070548 \t\t   |\n",
      "| E(xmin) \t\t|  0.441491059862557 \t\t   |\n",
      "| nombre d’itérations \t|  39 \t\t\t\t   |\n"
     ]
    },
    {
     "data": {
      "text/plain": [
       "[-5.59079531307448e+2165218897387849575449569542280595721495861785890200169487984640726689692623705307933951769342049549605036164832782173103034129608036149295080551194764987554074946681668978958079023089253294582547639268975015256397044116579963969577226087629587121543654371017833958596520034967414619393227754352672765506194522912424105740720275128204523067986059345070180384910080092271110636563888155462862848820544652709611781766626003237259515385703156691028186064669180469086499802903989431,\n",
       " 9.76999563434790e+8660875589551398301798278169122382885983447143560800677951938562906758770494821231735807077368198198420144659331128692412136518432144597180322204779059950216299786726675915832316092357013178330190557075900061025588176466319855878308904350518348486174617484071335834386080139869658477572911017410691062024778091649696422962881100512818092271944237380280721539640320369084442546255552621851451395282178610838447127066504012949038061542812626764112744258676721876345999211615957726,\n",
       " 1001]"
      ]
     },
     "execution_count": 7,
     "metadata": {},
     "output_type": "execute_result"
    }
   ],
   "source": [
    "args = [[5, 0.001], [5, 0.01], [5, 0.1], [5, 0.17], [5, 1], [0, 0.001]]\n",
    "all_xmin = []\n",
    "for arg in args:\n",
    "    xmin, nb_ite = DG(div_exp, arg[0], arg[1])\n",
    "    print('-'*60)\n",
    "    print('| \\tPour x0 = ', arg[0],' et η = ', arg[1], '\\t:\\t\\t   |')\n",
    "    print('-'*60)\n",
    "    print('| xmin \\t\\t\\t| ', xmin, \"\\t\\t   |\")\n",
    "    xmin_f = exp.subs(x, xmin).evalf()\n",
    "    print('| E(xmin) \\t\\t| ', xmin_f, \"\\t\\t   |\")\n",
    "    print('| nombre d’itérations \\t| ', nb_ite, \"\\t\\t\\t\\t   |\")\n",
    "    all_xmin.append([xmin, xmin_f, nb_ite])\n",
    "\n",
    "all_xmin.pop(4)"
   ]
  },
  {
   "cell_type": "markdown",
   "metadata": {},
   "source": [
    "### 5. Visualisez l’évolution des minimums de la fonction E(x) trouvés au cours des itérations."
   ]
  },
  {
   "cell_type": "code",
   "execution_count": 9,
   "metadata": {},
   "outputs": [
    {
     "data": {
      "image/png": "[encoded data removed]",
      "text/plain": [
       "<Figure size 432x288 with 1 Axes>"
      ]
     },
     "metadata": {
      "needs_background": "light"
     },
     "output_type": "display_data"
    }
   ],
   "source": [
    "def DG(div_e, x0, n, eps = 0.01, nb_max_iter = 1000):\n",
    "    cpp = 0 # compteur pour calculer le nombre d'itération\n",
    "    Xmins = []\n",
    "    Xmins.append(x0)\n",
    "    while True:\n",
    "        # calculer le nouveau x (xi+1)\n",
    "        x1 = x0 - n*div_e.subs(x, x0).evalf()\n",
    "        cpp += 1\n",
    "        # condition d'arrêt\n",
    "        Xmins.append(x1)\n",
    "        if ( abs(x1 - x0) < eps ) | ( cpp > nb_max_iter ):\n",
    "            break\n",
    "        x0 = x1\n",
    "    # resultat return le nouveau x et le nombre d'itération\n",
    "    return [Xmins, cpp]\n",
    "\n",
    "import numpy as np\n",
    "import matplotlib.pyplot as plt\n",
    "\n",
    "xmins, nb_ite = np.array(DG(div_exp, 5, 0.01))\n",
    "\n",
    "plt.scatter(range(nb_ite+1), xmins, c='r')\n",
    "plt.plot(range(nb_ite+1), xmins)\n",
    "plt.xlabel('nb d\\'itérations')\n",
    "plt.ylabel('Xmin')\n",
    "plt.title('Visualisation de l\\'évolution des minimums de la fonction E(x) trouvés au cours des itérations')\n",
    "plt.show()\n"
   ]
  },
  {
   "cell_type": "markdown",
   "metadata": {},
   "source": [
    "### 6. Testez votre algorithme avec d’autres valeurs de eps et nombre max."
   ]
  },
  {
   "cell_type": "code",
   "execution_count": 10,
   "metadata": {},
   "outputs": [
    {
     "name": "stdout",
     "output_type": "stream",
     "text": [
      "------------------------------------------------------------\n",
      "| \tPour x0 =  1  et η =  0.001 \t:\t\t   |\n",
      "------------------------------------------------------------\n",
      "| xmin \t\t\t|  [1, 1.00800000000000] \t\t   |\n",
      "| E(xmin) \t\t|  x**4 - 11.0*x**3 + 41.0*x**2 - 61.0*x + 30.0 \t\t   |\n",
      "| nomber des iteration \t|  1 \t\t\t\t   |\n",
      "------------------------------------------------------------\n",
      "| \tPour x0 =  6  et η =  0.001 \t:\t\t   |\n",
      "------------------------------------------------------------\n",
      "| xmin \t\t\t|  [6, 5.89300000000000, 5.79818438917200, 5.71344305858812, 5.63714841968474, 5.56802121065637, 5.50503952526897, 5.44737544559007, 5.39434985365062, 5.34539953823634, 5.30005281371908, 5.25791115469927, 5.21863516112886, 5.18193369253159, 5.14755535614586, 5.11528176723680, 5.08492216009623, 5.05630904013533, 5.02929464677417, 5.00374805382113, 4.97955277551832, 4.95660477698370, 4.93481081053332, 4.91408701648401, 4.89435774003588, 4.87555452579438, 4.85761525918669, 4.84048343001917, 4.82410749812207, 4.80844034473993, 4.79343879627631, 4.77906320936224, 4.76527710811615, 4.75204686599971, 4.73934142592307, 4.72713205327424, 4.71539211738605, 4.70409689764592, 4.69322341102674, 4.68275025829436, 4.67265748654537, 4.66292646606287] \t\t   |\n",
      "| E(xmin) \t\t|  x**4 - 11.0*x**3 + 41.0*x**2 - 61.0*x + 30.0 \t\t   |\n",
      "| nomber des iteration \t|  41 \t\t\t\t   |\n",
      "------------------------------------------------------------\n",
      "| \tPour x0 =  6  et η =  0.01 \t:\t\t   |\n",
      "------------------------------------------------------------\n",
      "| xmin \t\t\t|  [6, 4.93000000000000, 4.72509072000000, 4.60846931728543, 4.53307608572641, 4.48108358851332, 4.44380531005350, 4.41638377433183, 4.39585145084092, 4.38028037898460, 4.36836062409739, 4.35917182179604] \t\t   |\n",
      "| E(xmin) \t\t|  x**4 - 11.0*x**3 + 41.0*x**2 - 61.0*x + 30.0 \t\t   |\n",
      "| nomber des iteration \t|  11 \t\t\t\t   |\n",
      "------------------------------------------------------------\n",
      "| \tPour x0 =  4  et η =  0.1 \t:\t\t   |\n",
      "------------------------------------------------------------\n",
      "| xmin \t\t\t|  [4, 4.50000000000000, 4.07500000000000, 4.49139375000000, 4.09033596314547, 4.48746424287683, 4.09723514586139, 4.48545025898770, 4.10074620644149, 4.48436628136908, 4.10262895433799, 4.48376856250918, 4.10366503293212, 4.48343472943744, 4.10424304807444, 4.48324697284468, 4.10456793543805, 4.48314096304211, 4.10475130627544, 4.48308097818159, 4.10485504459495, 4.48304699454819, 4.10491380953348, 4.48302772821786, 4.10494712298755, 4.48301680127560, 4.10496601610128, 4.48301060265721, 4.10497673353596, 4.48300708587130, 4.10498281400109, 4.48300509048017, 4.10498626397670, 4.48300395826814, 4.10498822153239, 4.48300331582084, 4.10498933229930, 4.48300295127436, 4.10498996258552, 4.48300274441674, 4.10499032023380, 4.48300262703730, 4.10499052317791, 4.48300256043128, 4.10499063833691, 4.48300252263617, 4.10499070368302, 4.48300250118960, 4.10499074076323, 4.48300248901989, 4.10499076180413, 4.48300248211426, 4.10499077374368, 4.48300247819570, 4.10499078051869, 4.48300247597214, 4.10499078436313, 4.48300247471040, 4.10499078654464, 4.48300247399443, 4.10499078778251, 4.48300247358817, 4.10499078848493, 4.48300247335762, 4.10499078888353, 4.48300247322680, 4.10499078910973, 4.48300247315256, 4.10499078923808, 4.48300247311044, 4.10499078931089, 4.48300247308654, 4.10499078935223, 4.48300247307298, 4.10499078937567, 4.48300247306528, 4.10499078938897, 4.48300247306092, 4.10499078939652, 4.48300247305844, 4.10499078940080, 4.48300247305704, 4.10499078940323, 4.48300247305624, 4.10499078940461, 4.48300247305578, 4.10499078940541, 4.48300247305552, 4.10499078940585, 4.48300247305538, 4.10499078940610, 4.48300247305529, 4.10499078940625, 4.48300247305524, 4.10499078940633, 4.48300247305522, 4.10499078940638, 4.48300247305520, 4.10499078940642, 4.48300247305519, 4.10499078940642, 4.48300247305519, 4.10499078940642, 4.48300247305519, 4.10499078940642, 4.48300247305519, 4.10499078940642, 4.48300247305519, 4.10499078940642, 4.48300247305519, 4.10499078940642, 4.48300247305519, 4.10499078940642, 4.48300247305519, 4.10499078940642, 4.48300247305519, 4.10499078940642, 4.48300247305519, 4.10499078940642, 4.48300247305519, 4.10499078940642, 4.48300247305519, 4.10499078940642, 4.48300247305519, 4.10499078940642, 4.48300247305519, 4.10499078940642, 4.48300247305519, 4.10499078940642, 4.48300247305519, 4.10499078940642, 4.48300247305519, 4.10499078940642, 4.48300247305519, 4.10499078940642, 4.48300247305519, 4.10499078940642, 4.48300247305519, 4.10499078940642, 4.48300247305519, 4.10499078940642, 4.48300247305519, 4.10499078940642, 4.48300247305519, 4.10499078940642, 4.48300247305519, 4.10499078940642, 4.48300247305519, 4.10499078940642, 4.48300247305519, 4.10499078940642, 4.48300247305519, 4.10499078940642, 4.48300247305519, 4.10499078940642, 4.48300247305519, 4.10499078940642, 4.48300247305519, 4.10499078940642, 4.48300247305519, 4.10499078940642, 4.48300247305519, 4.10499078940642, 4.48300247305519, 4.10499078940642, 4.48300247305519, 4.10499078940642, 4.48300247305519, 4.10499078940642, 4.48300247305519, 4.10499078940642, 4.48300247305519, 4.10499078940642, 4.48300247305519, 4.10499078940642, 4.48300247305519, 4.10499078940642, 4.48300247305519, 4.10499078940642, 4.48300247305519, 4.10499078940642, 4.48300247305519, 4.10499078940642, 4.48300247305519, 4.10499078940642, 4.48300247305519, 4.10499078940642, 4.48300247305519, 4.10499078940642, 4.48300247305519, 4.10499078940642, 4.48300247305519, 4.10499078940642, 4.48300247305519, 4.10499078940642, 4.48300247305519, 4.10499078940642, 4.48300247305519, 4.10499078940642, 4.48300247305519, 4.10499078940642, 4.48300247305519, 4.10499078940642, 4.48300247305519, 4.10499078940642, 4.48300247305519, 4.10499078940642, 4.48300247305519, 4.10499078940642, 4.48300247305519, 4.10499078940642, 4.48300247305519, 4.10499078940642, 4.48300247305519, 4.10499078940642, 4.48300247305519, 4.10499078940642, 4.48300247305519, 4.10499078940642, 4.48300247305519, 4.10499078940642, 4.48300247305519, 4.10499078940642, 4.48300247305519, 4.10499078940642, 4.48300247305519, 4.10499078940642, 4.48300247305519, 4.10499078940642, 4.48300247305519, 4.10499078940642, 4.48300247305519, 4.10499078940642, 4.48300247305519, 4.10499078940642, 4.48300247305519, 4.10499078940642, 4.48300247305519, 4.10499078940642, 4.48300247305519, 4.10499078940642, 4.48300247305519, 4.10499078940642, 4.48300247305519, 4.10499078940642, 4.48300247305519, 4.10499078940642, 4.48300247305519, 4.10499078940642, 4.48300247305519, 4.10499078940642, 4.48300247305519, 4.10499078940642, 4.48300247305519, 4.10499078940642, 4.48300247305519, 4.10499078940642, 4.48300247305519, 4.10499078940642, 4.48300247305519, 4.10499078940642, 4.48300247305519, 4.10499078940642, 4.48300247305519, 4.10499078940642, 4.48300247305519, 4.10499078940642, 4.48300247305519, 4.10499078940642, 4.48300247305519, 4.10499078940642, 4.48300247305519, 4.10499078940642, 4.48300247305519, 4.10499078940642, 4.48300247305519, 4.10499078940642, 4.48300247305519, 4.10499078940642, 4.48300247305519, 4.10499078940642, 4.48300247305519, 4.10499078940642, 4.48300247305519, 4.10499078940642, 4.48300247305519, 4.10499078940642, 4.48300247305519, 4.10499078940642, 4.48300247305519, 4.10499078940642, 4.48300247305519, 4.10499078940642, 4.48300247305519, 4.10499078940642, 4.48300247305519, 4.10499078940642, 4.48300247305519, 4.10499078940642, 4.48300247305519, 4.10499078940642, 4.48300247305519, 4.10499078940642, 4.48300247305519, 4.10499078940642, 4.48300247305519, 4.10499078940642, 4.48300247305519, 4.10499078940642, 4.48300247305519, 4.10499078940642, 4.48300247305519, 4.10499078940642, 4.48300247305519, 4.10499078940642, 4.48300247305519, 4.10499078940642, 4.48300247305519, 4.10499078940642, 4.48300247305519, 4.10499078940642, 4.48300247305519, 4.10499078940642, 4.48300247305519, 4.10499078940642, 4.48300247305519, 4.10499078940642, 4.48300247305519, 4.10499078940642, 4.48300247305519, 4.10499078940642, 4.48300247305519, 4.10499078940642, 4.48300247305519, 4.10499078940642, 4.48300247305519, 4.10499078940642, 4.48300247305519, 4.10499078940642, 4.48300247305519, 4.10499078940642, 4.48300247305519, 4.10499078940642, 4.48300247305519, 4.10499078940642, 4.48300247305519, 4.10499078940642, 4.48300247305519, 4.10499078940642, 4.48300247305519, 4.10499078940642, 4.48300247305519, 4.10499078940642, 4.48300247305519, 4.10499078940642, 4.48300247305519, 4.10499078940642, 4.48300247305519, 4.10499078940642, 4.48300247305519, 4.10499078940642, 4.48300247305519, 4.10499078940642, 4.48300247305519, 4.10499078940642, 4.48300247305519, 4.10499078940642, 4.48300247305519, 4.10499078940642, 4.48300247305519, 4.10499078940642, 4.48300247305519, 4.10499078940642, 4.48300247305519, 4.10499078940642, 4.48300247305519, 4.10499078940642, 4.48300247305519, 4.10499078940642, 4.48300247305519, 4.10499078940642, 4.48300247305519, 4.10499078940642, 4.48300247305519, 4.10499078940642, 4.48300247305519, 4.10499078940642, 4.48300247305519, 4.10499078940642, 4.48300247305519, 4.10499078940642, 4.48300247305519, 4.10499078940642, 4.48300247305519, 4.10499078940642, 4.48300247305519, 4.10499078940642, 4.48300247305519, 4.10499078940642, 4.48300247305519, 4.10499078940642, 4.48300247305519, 4.10499078940642, 4.48300247305519, 4.10499078940642, 4.48300247305519, 4.10499078940642, 4.48300247305519, 4.10499078940642, 4.48300247305519, 4.10499078940642, 4.48300247305519, 4.10499078940642, 4.48300247305519, 4.10499078940642, 4.48300247305519, 4.10499078940642, 4.48300247305519, 4.10499078940642, 4.48300247305519, 4.10499078940642, 4.48300247305519, 4.10499078940642, 4.48300247305519, 4.10499078940642, 4.48300247305519, 4.10499078940642, 4.48300247305519, 4.10499078940642, 4.48300247305519, 4.10499078940642, 4.48300247305519, 4.10499078940642, 4.48300247305519, 4.10499078940642, 4.48300247305519, 4.10499078940642, 4.48300247305519, 4.10499078940642, 4.48300247305519, 4.10499078940642, 4.48300247305519, 4.10499078940642, 4.48300247305519, 4.10499078940642, 4.48300247305519, 4.10499078940642, 4.48300247305519, 4.10499078940642, 4.48300247305519, 4.10499078940642, 4.48300247305519, 4.10499078940642, 4.48300247305519, 4.10499078940642, 4.48300247305519, 4.10499078940642, 4.48300247305519, 4.10499078940642, 4.48300247305519, 4.10499078940642, 4.48300247305519, 4.10499078940642, 4.48300247305519, 4.10499078940642, 4.48300247305519, 4.10499078940642, 4.48300247305519, 4.10499078940642, 4.48300247305519, 4.10499078940642, 4.48300247305519, 4.10499078940642, 4.48300247305519, 4.10499078940642, 4.48300247305519, 4.10499078940642, 4.48300247305519, 4.10499078940642, 4.48300247305519, 4.10499078940642, 4.48300247305519, 4.10499078940642, 4.48300247305519, 4.10499078940642, 4.48300247305519, 4.10499078940642, 4.48300247305519, 4.10499078940642, 4.48300247305519, 4.10499078940642, 4.48300247305519, 4.10499078940642, 4.48300247305519, 4.10499078940642, 4.48300247305519, 4.10499078940642, 4.48300247305519, 4.10499078940642, 4.48300247305519, 4.10499078940642, 4.48300247305519, 4.10499078940642, 4.48300247305519, 4.10499078940642, 4.48300247305519, 4.10499078940642, 4.48300247305519, 4.10499078940642, 4.48300247305519, 4.10499078940642, 4.48300247305519, 4.10499078940642, 4.48300247305519, 4.10499078940642, 4.48300247305519, 4.10499078940642, 4.48300247305519, 4.10499078940642, 4.48300247305519, 4.10499078940642, 4.48300247305519, 4.10499078940642, 4.48300247305519, 4.10499078940642, 4.48300247305519, 4.10499078940642, 4.48300247305519, 4.10499078940642, 4.48300247305519, 4.10499078940642, 4.48300247305519, 4.10499078940642, 4.48300247305519, 4.10499078940642, 4.48300247305519, 4.10499078940642, 4.48300247305519, 4.10499078940642, 4.48300247305519, 4.10499078940642, 4.48300247305519, 4.10499078940642, 4.48300247305519, 4.10499078940642, 4.48300247305519, 4.10499078940642, 4.48300247305519, 4.10499078940642, 4.48300247305519, 4.10499078940642, 4.48300247305519, 4.10499078940642, 4.48300247305519, 4.10499078940642, 4.48300247305519, 4.10499078940642, 4.48300247305519, 4.10499078940642, 4.48300247305519, 4.10499078940642, 4.48300247305519, 4.10499078940642, 4.48300247305519, 4.10499078940642, 4.48300247305519, 4.10499078940642, 4.48300247305519, 4.10499078940642, 4.48300247305519, 4.10499078940642, 4.48300247305519, 4.10499078940642, 4.48300247305519, 4.10499078940642, 4.48300247305519, 4.10499078940642, 4.48300247305519, 4.10499078940642, 4.48300247305519, 4.10499078940642, 4.48300247305519, 4.10499078940642, 4.48300247305519, 4.10499078940642, 4.48300247305519, 4.10499078940642, 4.48300247305519, 4.10499078940642, 4.48300247305519, 4.10499078940642, 4.48300247305519, 4.10499078940642, 4.48300247305519, 4.10499078940642, 4.48300247305519, 4.10499078940642, 4.48300247305519, 4.10499078940642, 4.48300247305519, 4.10499078940642, 4.48300247305519, 4.10499078940642, 4.48300247305519, 4.10499078940642, 4.48300247305519, 4.10499078940642, 4.48300247305519, 4.10499078940642, 4.48300247305519, 4.10499078940642, 4.48300247305519, 4.10499078940642, 4.48300247305519, 4.10499078940642, 4.48300247305519, 4.10499078940642, 4.48300247305519, 4.10499078940642, 4.48300247305519, 4.10499078940642, 4.48300247305519, 4.10499078940642, 4.48300247305519, 4.10499078940642, 4.48300247305519, 4.10499078940642, 4.48300247305519, 4.10499078940642, 4.48300247305519, 4.10499078940642, 4.48300247305519, 4.10499078940642, 4.48300247305519, 4.10499078940642, 4.48300247305519, 4.10499078940642, 4.48300247305519, 4.10499078940642, 4.48300247305519, 4.10499078940642, 4.48300247305519, 4.10499078940642, 4.48300247305519, 4.10499078940642, 4.48300247305519, 4.10499078940642, 4.48300247305519, 4.10499078940642, 4.48300247305519, 4.10499078940642, 4.48300247305519, 4.10499078940642, 4.48300247305519, 4.10499078940642, 4.48300247305519, 4.10499078940642, 4.48300247305519, 4.10499078940642, 4.48300247305519, 4.10499078940642, 4.48300247305519, 4.10499078940642, 4.48300247305519, 4.10499078940642, 4.48300247305519, 4.10499078940642, 4.48300247305519, 4.10499078940642, 4.48300247305519, 4.10499078940642, 4.48300247305519, 4.10499078940642, 4.48300247305519, 4.10499078940642, 4.48300247305519, 4.10499078940642, 4.48300247305519, 4.10499078940642, 4.48300247305519, 4.10499078940642, 4.48300247305519, 4.10499078940642, 4.48300247305519, 4.10499078940642, 4.48300247305519, 4.10499078940642, 4.48300247305519, 4.10499078940642, 4.48300247305519, 4.10499078940642, 4.48300247305519, 4.10499078940642, 4.48300247305519, 4.10499078940642, 4.48300247305519, 4.10499078940642, 4.48300247305519, 4.10499078940642, 4.48300247305519, 4.10499078940642, 4.48300247305519, 4.10499078940642, 4.48300247305519, 4.10499078940642, 4.48300247305519, 4.10499078940642, 4.48300247305519, 4.10499078940642, 4.48300247305519, 4.10499078940642, 4.48300247305519, 4.10499078940642, 4.48300247305519, 4.10499078940642, 4.48300247305519, 4.10499078940642, 4.48300247305519, 4.10499078940642, 4.48300247305519, 4.10499078940642, 4.48300247305519, 4.10499078940642, 4.48300247305519, 4.10499078940642, 4.48300247305519, 4.10499078940642, 4.48300247305519, 4.10499078940642, 4.48300247305519, 4.10499078940642, 4.48300247305519, 4.10499078940642, 4.48300247305519, 4.10499078940642, 4.48300247305519, 4.10499078940642, 4.48300247305519, 4.10499078940642, 4.48300247305519, 4.10499078940642, 4.48300247305519, 4.10499078940642, 4.48300247305519, 4.10499078940642, 4.48300247305519, 4.10499078940642, 4.48300247305519, 4.10499078940642, 4.48300247305519, 4.10499078940642, 4.48300247305519, 4.10499078940642, 4.48300247305519, 4.10499078940642, 4.48300247305519, 4.10499078940642, 4.48300247305519, 4.10499078940642, 4.48300247305519, 4.10499078940642, 4.48300247305519, 4.10499078940642, 4.48300247305519, 4.10499078940642, 4.48300247305519, 4.10499078940642, 4.48300247305519, 4.10499078940642, 4.48300247305519, 4.10499078940642, 4.48300247305519, 4.10499078940642, 4.48300247305519, 4.10499078940642, 4.48300247305519, 4.10499078940642, 4.48300247305519, 4.10499078940642, 4.48300247305519, 4.10499078940642, 4.48300247305519, 4.10499078940642, 4.48300247305519, 4.10499078940642, 4.48300247305519, 4.10499078940642, 4.48300247305519, 4.10499078940642, 4.48300247305519, 4.10499078940642, 4.48300247305519, 4.10499078940642, 4.48300247305519, 4.10499078940642, 4.48300247305519, 4.10499078940642, 4.48300247305519, 4.10499078940642, 4.48300247305519, 4.10499078940642, 4.48300247305519, 4.10499078940642, 4.48300247305519, 4.10499078940642, 4.48300247305519, 4.10499078940642, 4.48300247305519, 4.10499078940642, 4.48300247305519, 4.10499078940642, 4.48300247305519, 4.10499078940642, 4.48300247305519, 4.10499078940642, 4.48300247305519, 4.10499078940642, 4.48300247305519, 4.10499078940642, 4.48300247305519, 4.10499078940642, 4.48300247305519, 4.10499078940642, 4.48300247305519, 4.10499078940642, 4.48300247305519, 4.10499078940642, 4.48300247305519, 4.10499078940642, 4.48300247305519, 4.10499078940642, 4.48300247305519, 4.10499078940642, 4.48300247305519, 4.10499078940642, 4.48300247305519, 4.10499078940642, 4.48300247305519, 4.10499078940642, 4.48300247305519, 4.10499078940642, 4.48300247305519, 4.10499078940642, 4.48300247305519, 4.10499078940642, 4.48300247305519, 4.10499078940642, 4.48300247305519, 4.10499078940642, 4.48300247305519, 4.10499078940642, 4.48300247305519, 4.10499078940642, 4.48300247305519, 4.10499078940642, 4.48300247305519, 4.10499078940642, 4.48300247305519, 4.10499078940642, 4.48300247305519, 4.10499078940642, 4.48300247305519, 4.10499078940642, 4.48300247305519, 4.10499078940642, 4.48300247305519, 4.10499078940642, 4.48300247305519, 4.10499078940642, 4.48300247305519, 4.10499078940642, 4.48300247305519, 4.10499078940642, 4.48300247305519, 4.10499078940642, 4.48300247305519, 4.10499078940642, 4.48300247305519, 4.10499078940642, 4.48300247305519, 4.10499078940642, 4.48300247305519, 4.10499078940642, 4.48300247305519, 4.10499078940642, 4.48300247305519, 4.10499078940642, 4.48300247305519, 4.10499078940642, 4.48300247305519, 4.10499078940642, 4.48300247305519, 4.10499078940642, 4.48300247305519, 4.10499078940642, 4.48300247305519, 4.10499078940642, 4.48300247305519, 4.10499078940642, 4.48300247305519, 4.10499078940642, 4.48300247305519, 4.10499078940642, 4.48300247305519, 4.10499078940642, 4.48300247305519, 4.10499078940642, 4.48300247305519, 4.10499078940642, 4.48300247305519, 4.10499078940642, 4.48300247305519, 4.10499078940642, 4.48300247305519, 4.10499078940642, 4.48300247305519, 4.10499078940642, 4.48300247305519, 4.10499078940642, 4.48300247305519, 4.10499078940642, 4.48300247305519, 4.10499078940642, 4.48300247305519, 4.10499078940642, 4.48300247305519, 4.10499078940642, 4.48300247305519, 4.10499078940642, 4.48300247305519, 4.10499078940642, 4.48300247305519, 4.10499078940642, 4.48300247305519, 4.10499078940642, 4.48300247305519, 4.10499078940642, 4.48300247305519, 4.10499078940642, 4.48300247305519, 4.10499078940642, 4.48300247305519, 4.10499078940642, 4.48300247305519, 4.10499078940642, 4.48300247305519, 4.10499078940642, 4.48300247305519, 4.10499078940642, 4.48300247305519, 4.10499078940642, 4.48300247305519, 4.10499078940642, 4.48300247305519, 4.10499078940642, 4.48300247305519, 4.10499078940642, 4.48300247305519, 4.10499078940642, 4.48300247305519, 4.10499078940642, 4.48300247305519, 4.10499078940642, 4.48300247305519, 4.10499078940642, 4.48300247305519, 4.10499078940642, 4.48300247305519, 4.10499078940642, 4.48300247305519, 4.10499078940642, 4.48300247305519, 4.10499078940642, 4.48300247305519, 4.10499078940642, 4.48300247305519, 4.10499078940642, 4.48300247305519, 4.10499078940642, 4.48300247305519, 4.10499078940642, 4.48300247305519, 4.10499078940642, 4.48300247305519, 4.10499078940642, 4.48300247305519, 4.10499078940642, 4.48300247305519, 4.10499078940642, 4.48300247305519, 4.10499078940642, 4.48300247305519, 4.10499078940642, 4.48300247305519, 4.10499078940642, 4.48300247305519, 4.10499078940642, 4.48300247305519, 4.10499078940642, 4.48300247305519, 4.10499078940642, 4.48300247305519] \t\t   |\n",
      "| E(xmin) \t\t|  x**4 - 11.0*x**3 + 41.0*x**2 - 61.0*x + 30.0 \t\t   |\n",
      "| nomber des iteration \t|  1001 \t\t\t\t   |\n"
     ]
    },
    {
     "name": "stdout",
     "output_type": "stream",
     "text": [
      "------------------------------------------------------------\n",
      "| \tPour x0 =  4  et η =  0.17 \t:\t\t   |\n",
      "------------------------------------------------------------\n",
      "| xmin \t\t\t|  [4, 4.85000000000000, 1.99502000000001, 1.48336482859609, 1.29985340908275, 1.53520416176282, 1.26598771774773, 1.59966520234823, 1.24239070441334, 1.64867602179201, 1.23755864714305, 1.65913290291893, 1.23794109228987, 1.65830002269115, 1.23789273162030, 1.65840529160171, 1.23789867346069, 1.65839235694491, 1.23789794071211, 1.65839395203680, 1.23789803103382, 1.65839375541879, 1.23789801989976, 1.65839377965613, 1.23789802127225, 1.65839377666839, 1.23789802110307, 1.65839377703668, 1.23789802112392, 1.65839377699128, 1.23789802112135, 1.65839377699688, 1.23789802112168, 1.65839377699618, 1.23789802112163, 1.65839377699627, 1.23789802112164, 1.65839377699626, 1.23789802112164, 1.65839377699626, 1.23789802112164, 1.65839377699626, 1.23789802112164, 1.65839377699626, 1.23789802112164, 1.65839377699626, 1.23789802112164, 1.65839377699626, 1.23789802112164, 1.65839377699626, 1.23789802112164, 1.65839377699626, 1.23789802112164, 1.65839377699626, 1.23789802112164, 1.65839377699626, 1.23789802112164, 1.65839377699626, 1.23789802112164, 1.65839377699626, 1.23789802112164, 1.65839377699626, 1.23789802112164, 1.65839377699626, 1.23789802112164, 1.65839377699626, 1.23789802112164, 1.65839377699626, 1.23789802112164, 1.65839377699626, 1.23789802112164, 1.65839377699626, 1.23789802112164, 1.65839377699626, 1.23789802112164, 1.65839377699626, 1.23789802112164, 1.65839377699626, 1.23789802112164, 1.65839377699626, 1.23789802112164, 1.65839377699626, 1.23789802112164, 1.65839377699626, 1.23789802112164, 1.65839377699626, 1.23789802112164, 1.65839377699626, 1.23789802112164, 1.65839377699626, 1.23789802112164, 1.65839377699626, 1.23789802112164, 1.65839377699626, 1.23789802112164, 1.65839377699626, 1.23789802112164, 1.65839377699626, 1.23789802112164, 1.65839377699626, 1.23789802112164, 1.65839377699626, 1.23789802112164, 1.65839377699626, 1.23789802112164, 1.65839377699626, 1.23789802112164, 1.65839377699626, 1.23789802112164, 1.65839377699626, 1.23789802112164, 1.65839377699626, 1.23789802112164, 1.65839377699626, 1.23789802112164, 1.65839377699626, 1.23789802112164, 1.65839377699626, 1.23789802112164, 1.65839377699626, 1.23789802112164, 1.65839377699626, 1.23789802112164, 1.65839377699626, 1.23789802112164, 1.65839377699626, 1.23789802112164, 1.65839377699626, 1.23789802112164, 1.65839377699626, 1.23789802112164, 1.65839377699626, 1.23789802112164, 1.65839377699626, 1.23789802112164, 1.65839377699626, 1.23789802112164, 1.65839377699626, 1.23789802112164, 1.65839377699626, 1.23789802112164, 1.65839377699626, 1.23789802112164, 1.65839377699626, 1.23789802112164, 1.65839377699626, 1.23789802112164, 1.65839377699626, 1.23789802112164, 1.65839377699626, 1.23789802112164, 1.65839377699626, 1.23789802112164, 1.65839377699626, 1.23789802112164, 1.65839377699626, 1.23789802112164, 1.65839377699626, 1.23789802112164, 1.65839377699626, 1.23789802112164, 1.65839377699626, 1.23789802112164, 1.65839377699626, 1.23789802112164, 1.65839377699626, 1.23789802112164, 1.65839377699626, 1.23789802112164, 1.65839377699626, 1.23789802112164, 1.65839377699626, 1.23789802112164, 1.65839377699626, 1.23789802112164, 1.65839377699626, 1.23789802112164, 1.65839377699626, 1.23789802112164, 1.65839377699626, 1.23789802112164, 1.65839377699626, 1.23789802112164, 1.65839377699626, 1.23789802112164, 1.65839377699626, 1.23789802112164, 1.65839377699626, 1.23789802112164, 1.65839377699626, 1.23789802112164, 1.65839377699626, 1.23789802112164, 1.65839377699626, 1.23789802112164, 1.65839377699626, 1.23789802112164, 1.65839377699626, 1.23789802112164, 1.65839377699626, 1.23789802112164, 1.65839377699626, 1.23789802112164, 1.65839377699626, 1.23789802112164, 1.65839377699626, 1.23789802112164, 1.65839377699626, 1.23789802112164, 1.65839377699626, 1.23789802112164, 1.65839377699626, 1.23789802112164, 1.65839377699626, 1.23789802112164, 1.65839377699626, 1.23789802112164, 1.65839377699626, 1.23789802112164, 1.65839377699626, 1.23789802112164, 1.65839377699626, 1.23789802112164, 1.65839377699626, 1.23789802112164, 1.65839377699626, 1.23789802112164, 1.65839377699626, 1.23789802112164, 1.65839377699626, 1.23789802112164, 1.65839377699626, 1.23789802112164, 1.65839377699626, 1.23789802112164, 1.65839377699626, 1.23789802112164, 1.65839377699626, 1.23789802112164, 1.65839377699626, 1.23789802112164, 1.65839377699626, 1.23789802112164, 1.65839377699626, 1.23789802112164, 1.65839377699626, 1.23789802112164, 1.65839377699626, 1.23789802112164, 1.65839377699626, 1.23789802112164, 1.65839377699626, 1.23789802112164, 1.65839377699626, 1.23789802112164, 1.65839377699626, 1.23789802112164, 1.65839377699626, 1.23789802112164, 1.65839377699626, 1.23789802112164, 1.65839377699626, 1.23789802112164, 1.65839377699626, 1.23789802112164, 1.65839377699626, 1.23789802112164, 1.65839377699626, 1.23789802112164, 1.65839377699626, 1.23789802112164, 1.65839377699626, 1.23789802112164, 1.65839377699626, 1.23789802112164, 1.65839377699626, 1.23789802112164, 1.65839377699626, 1.23789802112164, 1.65839377699626, 1.23789802112164, 1.65839377699626, 1.23789802112164, 1.65839377699626, 1.23789802112164, 1.65839377699626, 1.23789802112164, 1.65839377699626, 1.23789802112164, 1.65839377699626, 1.23789802112164, 1.65839377699626, 1.23789802112164, 1.65839377699626, 1.23789802112164, 1.65839377699626, 1.23789802112164, 1.65839377699626, 1.23789802112164, 1.65839377699626, 1.23789802112164, 1.65839377699626, 1.23789802112164, 1.65839377699626, 1.23789802112164, 1.65839377699626, 1.23789802112164, 1.65839377699626, 1.23789802112164, 1.65839377699626, 1.23789802112164, 1.65839377699626, 1.23789802112164, 1.65839377699626, 1.23789802112164, 1.65839377699626, 1.23789802112164, 1.65839377699626, 1.23789802112164, 1.65839377699626, 1.23789802112164, 1.65839377699626, 1.23789802112164, 1.65839377699626, 1.23789802112164, 1.65839377699626, 1.23789802112164, 1.65839377699626, 1.23789802112164, 1.65839377699626, 1.23789802112164, 1.65839377699626, 1.23789802112164, 1.65839377699626, 1.23789802112164, 1.65839377699626, 1.23789802112164, 1.65839377699626, 1.23789802112164, 1.65839377699626, 1.23789802112164, 1.65839377699626, 1.23789802112164, 1.65839377699626, 1.23789802112164, 1.65839377699626, 1.23789802112164, 1.65839377699626, 1.23789802112164, 1.65839377699626, 1.23789802112164, 1.65839377699626, 1.23789802112164, 1.65839377699626, 1.23789802112164, 1.65839377699626, 1.23789802112164, 1.65839377699626, 1.23789802112164, 1.65839377699626, 1.23789802112164, 1.65839377699626, 1.23789802112164, 1.65839377699626, 1.23789802112164, 1.65839377699626, 1.23789802112164, 1.65839377699626, 1.23789802112164, 1.65839377699626, 1.23789802112164, 1.65839377699626, 1.23789802112164, 1.65839377699626, 1.23789802112164, 1.65839377699626, 1.23789802112164, 1.65839377699626, 1.23789802112164, 1.65839377699626, 1.23789802112164, 1.65839377699626, 1.23789802112164, 1.65839377699626, 1.23789802112164, 1.65839377699626, 1.23789802112164, 1.65839377699626, 1.23789802112164, 1.65839377699626, 1.23789802112164, 1.65839377699626, 1.23789802112164, 1.65839377699626, 1.23789802112164, 1.65839377699626, 1.23789802112164, 1.65839377699626, 1.23789802112164, 1.65839377699626, 1.23789802112164, 1.65839377699626, 1.23789802112164, 1.65839377699626, 1.23789802112164, 1.65839377699626, 1.23789802112164, 1.65839377699626, 1.23789802112164, 1.65839377699626, 1.23789802112164, 1.65839377699626, 1.23789802112164, 1.65839377699626, 1.23789802112164, 1.65839377699626, 1.23789802112164, 1.65839377699626, 1.23789802112164, 1.65839377699626, 1.23789802112164, 1.65839377699626, 1.23789802112164, 1.65839377699626, 1.23789802112164, 1.65839377699626, 1.23789802112164, 1.65839377699626, 1.23789802112164, 1.65839377699626, 1.23789802112164, 1.65839377699626, 1.23789802112164, 1.65839377699626, 1.23789802112164, 1.65839377699626, 1.23789802112164, 1.65839377699626, 1.23789802112164, 1.65839377699626, 1.23789802112164, 1.65839377699626, 1.23789802112164, 1.65839377699626, 1.23789802112164, 1.65839377699626, 1.23789802112164, 1.65839377699626, 1.23789802112164, 1.65839377699626, 1.23789802112164, 1.65839377699626, 1.23789802112164, 1.65839377699626, 1.23789802112164, 1.65839377699626, 1.23789802112164, 1.65839377699626, 1.23789802112164, 1.65839377699626, 1.23789802112164, 1.65839377699626, 1.23789802112164, 1.65839377699626, 1.23789802112164, 1.65839377699626, 1.23789802112164, 1.65839377699626, 1.23789802112164, 1.65839377699626, 1.23789802112164, 1.65839377699626, 1.23789802112164, 1.65839377699626, 1.23789802112164, 1.65839377699626, 1.23789802112164, 1.65839377699626, 1.23789802112164, 1.65839377699626, 1.23789802112164, 1.65839377699626, 1.23789802112164, 1.65839377699626, 1.23789802112164, 1.65839377699626, 1.23789802112164, 1.65839377699626, 1.23789802112164, 1.65839377699626, 1.23789802112164, 1.65839377699626, 1.23789802112164, 1.65839377699626, 1.23789802112164, 1.65839377699626, 1.23789802112164, 1.65839377699626, 1.23789802112164, 1.65839377699626, 1.23789802112164, 1.65839377699626, 1.23789802112164, 1.65839377699626, 1.23789802112164, 1.65839377699626, 1.23789802112164, 1.65839377699626, 1.23789802112164, 1.65839377699626, 1.23789802112164, 1.65839377699626, 1.23789802112164, 1.65839377699626, 1.23789802112164, 1.65839377699626, 1.23789802112164, 1.65839377699626, 1.23789802112164, 1.65839377699626, 1.23789802112164, 1.65839377699626, 1.23789802112164, 1.65839377699626, 1.23789802112164, 1.65839377699626, 1.23789802112164, 1.65839377699626, 1.23789802112164, 1.65839377699626, 1.23789802112164, 1.65839377699626, 1.23789802112164, 1.65839377699626, 1.23789802112164, 1.65839377699626, 1.23789802112164, 1.65839377699626, 1.23789802112164, 1.65839377699626, 1.23789802112164, 1.65839377699626, 1.23789802112164, 1.65839377699626, 1.23789802112164, 1.65839377699626, 1.23789802112164, 1.65839377699626, 1.23789802112164, 1.65839377699626, 1.23789802112164, 1.65839377699626, 1.23789802112164, 1.65839377699626, 1.23789802112164, 1.65839377699626, 1.23789802112164, 1.65839377699626, 1.23789802112164, 1.65839377699626, 1.23789802112164, 1.65839377699626, 1.23789802112164, 1.65839377699626, 1.23789802112164, 1.65839377699626, 1.23789802112164, 1.65839377699626, 1.23789802112164, 1.65839377699626, 1.23789802112164, 1.65839377699626, 1.23789802112164, 1.65839377699626, 1.23789802112164, 1.65839377699626, 1.23789802112164, 1.65839377699626, 1.23789802112164, 1.65839377699626, 1.23789802112164, 1.65839377699626, 1.23789802112164, 1.65839377699626, 1.23789802112164, 1.65839377699626, 1.23789802112164, 1.65839377699626, 1.23789802112164, 1.65839377699626, 1.23789802112164, 1.65839377699626, 1.23789802112164, 1.65839377699626, 1.23789802112164, 1.65839377699626, 1.23789802112164, 1.65839377699626, 1.23789802112164, 1.65839377699626, 1.23789802112164, 1.65839377699626, 1.23789802112164, 1.65839377699626, 1.23789802112164, 1.65839377699626, 1.23789802112164, 1.65839377699626, 1.23789802112164, 1.65839377699626, 1.23789802112164, 1.65839377699626, 1.23789802112164, 1.65839377699626, 1.23789802112164, 1.65839377699626, 1.23789802112164, 1.65839377699626, 1.23789802112164, 1.65839377699626, 1.23789802112164, 1.65839377699626, 1.23789802112164, 1.65839377699626, 1.23789802112164, 1.65839377699626, 1.23789802112164, 1.65839377699626, 1.23789802112164, 1.65839377699626, 1.23789802112164, 1.65839377699626, 1.23789802112164, 1.65839377699626, 1.23789802112164, 1.65839377699626, 1.23789802112164, 1.65839377699626, 1.23789802112164, 1.65839377699626, 1.23789802112164, 1.65839377699626, 1.23789802112164, 1.65839377699626, 1.23789802112164, 1.65839377699626, 1.23789802112164, 1.65839377699626, 1.23789802112164, 1.65839377699626, 1.23789802112164, 1.65839377699626, 1.23789802112164, 1.65839377699626, 1.23789802112164, 1.65839377699626, 1.23789802112164, 1.65839377699626, 1.23789802112164, 1.65839377699626, 1.23789802112164, 1.65839377699626, 1.23789802112164, 1.65839377699626, 1.23789802112164, 1.65839377699626, 1.23789802112164, 1.65839377699626, 1.23789802112164, 1.65839377699626, 1.23789802112164, 1.65839377699626, 1.23789802112164, 1.65839377699626, 1.23789802112164, 1.65839377699626, 1.23789802112164, 1.65839377699626, 1.23789802112164, 1.65839377699626, 1.23789802112164, 1.65839377699626, 1.23789802112164, 1.65839377699626, 1.23789802112164, 1.65839377699626, 1.23789802112164, 1.65839377699626, 1.23789802112164, 1.65839377699626, 1.23789802112164, 1.65839377699626, 1.23789802112164, 1.65839377699626, 1.23789802112164, 1.65839377699626, 1.23789802112164, 1.65839377699626, 1.23789802112164, 1.65839377699626, 1.23789802112164, 1.65839377699626, 1.23789802112164, 1.65839377699626, 1.23789802112164, 1.65839377699626, 1.23789802112164, 1.65839377699626, 1.23789802112164, 1.65839377699626, 1.23789802112164, 1.65839377699626, 1.23789802112164, 1.65839377699626, 1.23789802112164, 1.65839377699626, 1.23789802112164, 1.65839377699626, 1.23789802112164, 1.65839377699626, 1.23789802112164, 1.65839377699626, 1.23789802112164, 1.65839377699626, 1.23789802112164, 1.65839377699626, 1.23789802112164, 1.65839377699626, 1.23789802112164, 1.65839377699626, 1.23789802112164, 1.65839377699626, 1.23789802112164, 1.65839377699626, 1.23789802112164, 1.65839377699626, 1.23789802112164, 1.65839377699626, 1.23789802112164, 1.65839377699626, 1.23789802112164, 1.65839377699626, 1.23789802112164, 1.65839377699626, 1.23789802112164, 1.65839377699626, 1.23789802112164, 1.65839377699626, 1.23789802112164, 1.65839377699626, 1.23789802112164, 1.65839377699626, 1.23789802112164, 1.65839377699626, 1.23789802112164, 1.65839377699626, 1.23789802112164, 1.65839377699626, 1.23789802112164, 1.65839377699626, 1.23789802112164, 1.65839377699626, 1.23789802112164, 1.65839377699626, 1.23789802112164, 1.65839377699626, 1.23789802112164, 1.65839377699626, 1.23789802112164, 1.65839377699626, 1.23789802112164, 1.65839377699626, 1.23789802112164, 1.65839377699626, 1.23789802112164, 1.65839377699626, 1.23789802112164, 1.65839377699626, 1.23789802112164, 1.65839377699626, 1.23789802112164, 1.65839377699626, 1.23789802112164, 1.65839377699626, 1.23789802112164, 1.65839377699626, 1.23789802112164, 1.65839377699626, 1.23789802112164, 1.65839377699626, 1.23789802112164, 1.65839377699626, 1.23789802112164, 1.65839377699626, 1.23789802112164, 1.65839377699626, 1.23789802112164, 1.65839377699626, 1.23789802112164, 1.65839377699626, 1.23789802112164, 1.65839377699626, 1.23789802112164, 1.65839377699626, 1.23789802112164, 1.65839377699626, 1.23789802112164, 1.65839377699626, 1.23789802112164, 1.65839377699626, 1.23789802112164, 1.65839377699626, 1.23789802112164, 1.65839377699626, 1.23789802112164, 1.65839377699626, 1.23789802112164, 1.65839377699626, 1.23789802112164, 1.65839377699626, 1.23789802112164, 1.65839377699626, 1.23789802112164, 1.65839377699626, 1.23789802112164, 1.65839377699626, 1.23789802112164, 1.65839377699626, 1.23789802112164, 1.65839377699626, 1.23789802112164, 1.65839377699626, 1.23789802112164, 1.65839377699626, 1.23789802112164, 1.65839377699626, 1.23789802112164, 1.65839377699626, 1.23789802112164, 1.65839377699626, 1.23789802112164, 1.65839377699626, 1.23789802112164, 1.65839377699626, 1.23789802112164, 1.65839377699626, 1.23789802112164, 1.65839377699626, 1.23789802112164, 1.65839377699626, 1.23789802112164, 1.65839377699626, 1.23789802112164, 1.65839377699626, 1.23789802112164, 1.65839377699626, 1.23789802112164, 1.65839377699626, 1.23789802112164, 1.65839377699626, 1.23789802112164, 1.65839377699626, 1.23789802112164, 1.65839377699626, 1.23789802112164, 1.65839377699626, 1.23789802112164, 1.65839377699626, 1.23789802112164, 1.65839377699626, 1.23789802112164, 1.65839377699626, 1.23789802112164, 1.65839377699626, 1.23789802112164, 1.65839377699626, 1.23789802112164, 1.65839377699626, 1.23789802112164, 1.65839377699626, 1.23789802112164, 1.65839377699626, 1.23789802112164, 1.65839377699626, 1.23789802112164, 1.65839377699626, 1.23789802112164, 1.65839377699626, 1.23789802112164, 1.65839377699626, 1.23789802112164, 1.65839377699626, 1.23789802112164, 1.65839377699626, 1.23789802112164, 1.65839377699626, 1.23789802112164, 1.65839377699626, 1.23789802112164, 1.65839377699626, 1.23789802112164, 1.65839377699626, 1.23789802112164, 1.65839377699626, 1.23789802112164, 1.65839377699626, 1.23789802112164, 1.65839377699626, 1.23789802112164, 1.65839377699626, 1.23789802112164, 1.65839377699626, 1.23789802112164, 1.65839377699626, 1.23789802112164, 1.65839377699626, 1.23789802112164, 1.65839377699626, 1.23789802112164, 1.65839377699626, 1.23789802112164, 1.65839377699626, 1.23789802112164, 1.65839377699626, 1.23789802112164, 1.65839377699626, 1.23789802112164, 1.65839377699626, 1.23789802112164, 1.65839377699626, 1.23789802112164, 1.65839377699626, 1.23789802112164, 1.65839377699626, 1.23789802112164, 1.65839377699626, 1.23789802112164, 1.65839377699626, 1.23789802112164, 1.65839377699626, 1.23789802112164, 1.65839377699626, 1.23789802112164, 1.65839377699626, 1.23789802112164, 1.65839377699626, 1.23789802112164, 1.65839377699626, 1.23789802112164, 1.65839377699626, 1.23789802112164, 1.65839377699626, 1.23789802112164, 1.65839377699626, 1.23789802112164, 1.65839377699626, 1.23789802112164, 1.65839377699626, 1.23789802112164, 1.65839377699626, 1.23789802112164, 1.65839377699626, 1.23789802112164, 1.65839377699626, 1.23789802112164, 1.65839377699626, 1.23789802112164, 1.65839377699626, 1.23789802112164, 1.65839377699626, 1.23789802112164, 1.65839377699626, 1.23789802112164, 1.65839377699626, 1.23789802112164, 1.65839377699626, 1.23789802112164, 1.65839377699626, 1.23789802112164, 1.65839377699626, 1.23789802112164, 1.65839377699626, 1.23789802112164, 1.65839377699626, 1.23789802112164, 1.65839377699626, 1.23789802112164, 1.65839377699626, 1.23789802112164, 1.65839377699626, 1.23789802112164, 1.65839377699626, 1.23789802112164, 1.65839377699626, 1.23789802112164, 1.65839377699626, 1.23789802112164, 1.65839377699626, 1.23789802112164, 1.65839377699626, 1.23789802112164, 1.65839377699626] \t\t   |\n",
      "| E(xmin) \t\t|  x**4 - 11.0*x**3 + 41.0*x**2 - 61.0*x + 30.0 \t\t   |\n",
      "| nomber des iteration \t|  1001 \t\t\t\t   |\n"
     ]
    }
   ],
   "source": [
    "def sprint(div_e, data):\n",
    "    xmin, ite = DG(div_e, data[0], data[1])\n",
    "    print('-'*60)\n",
    "    print('| \\tPour x0 = ', data[0],' et η = ', data[1], '\\t:\\t\\t   |')\n",
    "    print('-'*60)\n",
    "    print('| xmin \\t\\t\\t| ', xmin, \"\\t\\t   |\")\n",
    "    xmin_f = exp.subs(x, xmin).evalf()\n",
    "    print('| E(xmin) \\t\\t| ', xmin_f, \"\\t\\t   |\")\n",
    "    print('| nomber des iteration \\t| ', ite, \"\\t\\t\\t\\t   |\")\n",
    "    return xmin, xmin_f\n",
    "\n",
    "dict1 = [[1, 0.001], [6, 0.001], [6, 0.01], [4, 0.1], [4, 0.17]]\n",
    "\n",
    "for d in dict1:\n",
    "    sprint(div_exp, d)"
   ]
  },
  {
   "cell_type": "markdown",
   "metadata": {},
   "source": [
    "<br/><br/><br/>\n",
    "# Descente de gradient pour la régression linéaire\n",
    "\n",
    "***\n",
    "\n",
    "<br/>\n",
    "\n",
    "### 1. Calculation des dérivées partielles de la fonction G(a; b) selon a et b\n"
   ]
  },
  {
   "cell_type": "code",
   "execution_count": 11,
   "metadata": {},
   "outputs": [],
   "source": [
    "# In our example, G(x,y) = SUM(ax+y - y)\n",
    "def G(x, y, a, b):\n",
    "    return np.sum((a*x+b-y)**2)\n",
    "# define derive of fonction\n",
    "def derive_G(x, y, a, b):\n",
    "    return {'dx': 2*(a*x**2+b*x-y*x), 'dy': 2*(a*x+b-y)}\n",
    "\n",
    "def y(x, a, b):\n",
    "    return (a*x+b)"
   ]
  },
  {
   "cell_type": "markdown",
   "metadata": {},
   "source": [
    "### 2. Implémentez l’algorithme DGR"
   ]
  },
  {
   "cell_type": "code",
   "execution_count": 12,
   "metadata": {},
   "outputs": [],
   "source": [
    "#Gradient Descent implied for a regression linear case with data\n",
    "def gradient_reg(max_iter, step, x, y, df,eps = 0.01):\n",
    "    #Const\n",
    "    nb_sample_data = x.shape[0]\n",
    "    rg_sample = range(1, nb_sample_data)\n",
    "    \n",
    "    #initialisation\n",
    "    a = 5 #np.random.random(x.shape[1])\n",
    "    b = 5 #np.random.random(x.shape[1])\n",
    "    E = sum([a*x[j]+b-y[j] for j in rg_sample]) \n",
    "    \n",
    "#     print(E)\n",
    "    for i in range(max_iter):\n",
    "        #Compute gradient\n",
    "        grad_a = sum([2*(a*x[j]**2+b*x[j]-y[j]*x[j]) for j in rg_sample])\n",
    "        grad_b = sum([2*(a*x[j]+b-y[j]) for j in rg_sample])\n",
    "        \n",
    "        #Descente de gradient\n",
    "        a = a - step * grad_a\n",
    "        b = b - step * grad_b\n",
    "\n",
    "        \n",
    "        #Compute error\n",
    "        e = sum([a*x[j]+b-y[j] for j in rg_sample])\n",
    "\n",
    "        if abs(E-e) <= eps:\n",
    "            return ({'a': a, 'b': b}, i)\n",
    "            \n",
    "        E = e\n",
    "\n",
    "    return ({'a': a, 'b': b}, max_iter)"
   ]
  },
  {
   "cell_type": "markdown",
   "metadata": {},
   "source": [
    "### 3. test d’algorithme implémenté"
   ]
  },
  {
   "cell_type": "code",
   "execution_count": 13,
   "metadata": {},
   "outputs": [
    {
     "name": "stdout",
     "output_type": "stream",
     "text": [
      "(100,)\n",
      "(100,)\n"
     ]
    }
   ],
   "source": [
    "from sklearn import datasets\n",
    "x_reg, y_reg = datasets.make_regression(n_samples=100, n_features=1, noise=7)\n",
    "all_final_reg = []\n",
    "print(x_reg.reshape(100).shape)\n",
    "print(y_reg.shape)"
   ]
  },
  {
   "cell_type": "code",
   "execution_count": 14,
   "metadata": {},
   "outputs": [],
   "source": [
    "def show_res_reg(vect,derive_G):\n",
    "    print(\"***************************************************************\")\n",
    "    res,nb_ite = gradient_reg(vect[0],vect[1],vect[2],vect[3],derive_G)\n",
    "    print(\"for initial max iteration = \",vect[0],\" , step = \",vect[1])\n",
    "    print(' ==> final_a = ',res['a'],' final_b = ',res['b'],'nb_iteration = ',nb_ite)\n",
    "    pry = [y(x_d[0],res['a'],res['b']) for x_d in x_reg]\n",
    "#     print(\"final result =  \",G(x_reg,y_reg,res['a'],res['b']))\n",
    "    print('E(', x_reg[0][0], ') = ', pry[0])\n",
    "    all_final_reg.append(pry)\n",
    "    print(\"***************************************************************\")\n"
   ]
  },
  {
   "cell_type": "markdown",
   "metadata": {},
   "source": [
    "### 4. Affichage des resultas trouvés "
   ]
  },
  {
   "cell_type": "code",
   "execution_count": 15,
   "metadata": {},
   "outputs": [
    {
     "name": "stdout",
     "output_type": "stream",
     "text": [
      "***************************************************************\n",
      "for initial max iteration =  100  , step =  0.001\n",
      " ==> final_a =  [93.66725942]  final_b =  [0.01392354] nb_iteration =  49\n",
      "E( -0.7493494090740423 ) =  [-70.17558196]\n",
      "***************************************************************\n",
      "***************************************************************\n",
      "for initial max iteration =  500  , step =  0.001\n",
      " ==> final_a =  [93.66725942]  final_b =  [0.01392354] nb_iteration =  49\n",
      "E( -0.7493494090740423 ) =  [-70.17558196]\n",
      "***************************************************************\n",
      "***************************************************************\n",
      "for initial max iteration =  1000  , step =  0.001\n",
      " ==> final_a =  [93.66725942]  final_b =  [0.01392354] nb_iteration =  49\n",
      "E( -0.7493494090740423 ) =  [-70.17558196]\n",
      "***************************************************************\n",
      "***************************************************************\n",
      "for initial max iteration =  100  , step =  0.01\n",
      " ==> final_a =  [-2.57176602e+08]  final_b =  [-76344971.72586623] nb_iteration =  100\n",
      "E( -0.7493494090740423 ) =  [1.16370163e+08]\n",
      "***************************************************************\n",
      "***************************************************************\n",
      "for initial max iteration =  100  , step =  1\n",
      " ==> final_a =  [-1.51482288e+235]  final_b =  [-4.49648641e+234] nb_iteration =  100\n",
      "E( -0.7493494090740423 ) =  [6.85482986e+234]\n",
      "***************************************************************\n"
     ]
    }
   ],
   "source": [
    "all_final_reg = []\n",
    "show_res_reg([100,0.001,x_reg,y_reg],derive_G)\n",
    "show_res_reg([500,0.001,x_reg,y_reg],derive_G)\n",
    "show_res_reg([1000,0.001,x_reg,y_reg],derive_G)\n",
    "show_res_reg([100,0.01,x_reg,y_reg],derive_G)\n",
    "show_res_reg([100,1,x_reg,y_reg],derive_G)"
   ]
  },
  {
   "cell_type": "markdown",
   "metadata": {},
   "source": [
    "### 5. utilisation des stats.linregress de scipy"
   ]
  },
  {
   "cell_type": "code",
   "execution_count": 16,
   "metadata": {},
   "outputs": [
    {
     "data": {
      "text/plain": [
       "(100, 1)"
      ]
     },
     "execution_count": 16,
     "metadata": {},
     "output_type": "execute_result"
    }
   ],
   "source": [
    "from scipy import stats\n",
    "slope, intercept, r_value, p_value, std_err = stats.linregress(x_reg.reshape(100), y_reg)\n",
    "np.array(all_final_reg[0]).shape"
   ]
  },
  {
   "cell_type": "markdown",
   "metadata": {},
   "source": [
    "### 6. Visualisation"
   ]
  },
  {
   "cell_type": "code",
   "execution_count": 17,
   "metadata": {},
   "outputs": [
    {
     "name": "stdout",
     "output_type": "stream",
     "text": [
      "r-squared: 0.9953015220740956\n",
      "r-squared: 0.9953015220740956\n",
      "r-squared: 0.9953015220740956\n"
     ]
    },
    {
     "data": {
      "image/png": "[encoded data removed]",
      "text/plain": [
       "<Figure size 1080x504 with 3 Axes>"
      ]
     },
     "metadata": {
      "needs_background": "light"
     },
     "output_type": "display_data"
    }
   ],
   "source": [
    "\n",
    "print(\"r-squared:\", r_value**2)\n",
    "\n",
    "plt.rcParams[\"figure.figsize\"] = (15,7)\n",
    "plt.subplot(1, 3, 1)\n",
    "plt.plot(x_reg, y_reg, 'o', label='original data')\n",
    "plt.plot(x_reg, intercept + slope*x_reg, 'r', label='fitted line')\n",
    "plt.title('make_regression data')\n",
    "plt.legend()\n",
    "\n",
    "\n",
    "print(\"r-squared:\", r_value**2)\n",
    "plt.subplot(1, 3, 2)\n",
    "plt.plot(x_reg, all_final_reg[0], 'o', label='original data')\n",
    "plt.plot(x_reg, intercept + slope*x_reg, 'r', label='fitted line')\n",
    "plt.title('a) with (a =  82.04, b =  5.54e-5)')\n",
    "plt.legend()\n",
    "\n",
    "print(\"r-squared:\", r_value**2)\n",
    "plt.subplot(1, 3, 3)\n",
    "plt.plot(x_reg, all_final_reg[3], 'o', label='original data')\n",
    "plt.plot(x_reg, intercept + slope*x_reg, 'r', label='fitted line')\n",
    "plt.title('d) with (a =  39.30, b =  8.28)')\n",
    "plt.legend()\n",
    "\n",
    "plt.show()"
   ]
  },
  {
   "cell_type": "markdown",
   "metadata": {},
   "source": [
    "***\n",
    "### Links\n",
    "- [E-mail :](mailto:zakaria.abbou199434@gmail.com) zakaria.abbou199434@gmail.com\n",
    "- [GitHub :](https://github.com/ZakariaAABBOU) github.com/ZakariaAABBOU\n",
    "- [Linkedin :](https://www.linkedin.com/in/zakaria-aabbou/) linkedin.com/in/zakaria-aabbou/"
   ]
  }
 ],
 "metadata": {
  "file_extension": ".py",
  "kernelspec": {
   "display_name": "Python 3",
   "language": "python",
   "name": "python3"
  },
  "language_info": {
   "codemirror_mode": {
    "name": "ipython",
    "version": 3
   },
   "file_extension": ".py",
   "mimetype": "text/x-python",
   "name": "python",
   "nbconvert_exporter": "python",
   "pygments_lexer": "ipython3",
   "version": "3.7.4"
  },
  "mimetype": "text/x-python",
  "name": "python",
  "npconvert_exporter": "python",
  "pygments_lexer": "ipython3",
  "version": 3
 },
 "nbformat": 4,
 "nbformat_minor": 2
}
